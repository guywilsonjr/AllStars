{
 "cells": [
  {
   "cell_type": "markdown",
   "metadata": {
    "colab_type": "text",
    "id": "view-in-github"
   },
   "source": [
    "<a href=\"https://colab.research.google.com/github/guywilsonjr/AllStars/blob/main/jupyter_notebooks/personal/generate_player_list.ipynb\" target=\"_parent\"><img src=\"https://colab.research.google.com/assets/colab-badge.svg\" alt=\"Open In Colab\"/></a>"
   ]
  },
  {
   "cell_type": "code",
   "execution_count": null,
   "metadata": {
    "id": "WTXo9a4XN07g"
   },
   "outputs": [],
   "source": [
    "from sportsipy.ncaab.teams import Teams\n",
    "year='2018'\n",
    "teams = Teams(year)\n",
    "playeridlist = []\n",
    "for team in teams:\n",
    "    print('Getting players for team: ' + team.name)\n",
    "\n",
    "    for player in team.roster.players:\n",
    "       \n",
    "       playeridlist.append(player.player_id)\n",
    "       playeridlist.append(\"\\n\")\n",
    "       \n",
    "with open(f'collegeplayers-{year}.list', 'w+') as player_file:\n",
    "    player_file.writelines(playeridlist)\n",
    "        \n",
    "        \n",
    "        \n"
   ]
  }
 ],
 "metadata": {
  "colab": {
   "authorship_tag": "ABX9TyPkzwiEDyvo5ErKr2ARi9+4",
   "include_colab_link": true,
   "name": "generate_player_list.ipynb",
   "provenance": []
  },
  "kernelspec": {
   "display_name": "Python 3 (ipykernel)",
   "language": "python",
   "name": "python3"
  },
  "language_info": {
   "codemirror_mode": {
    "name": "ipython",
    "version": 3
   },
   "file_extension": ".py",
   "mimetype": "text/x-python",
   "name": "python",
   "nbconvert_exporter": "python",
   "pygments_lexer": "ipython3",
   "version": "3.9.12"
  }
 },
 "nbformat": 4,
 "nbformat_minor": 1
}
