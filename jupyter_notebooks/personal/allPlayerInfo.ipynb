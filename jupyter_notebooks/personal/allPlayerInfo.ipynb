{
 "cells": [
  {
   "cell_type": "code",
   "execution_count": 52,
   "metadata": {},
   "outputs": [
    {
     "name": "stdout",
     "output_type": "stream",
     "text": [
      "<class 'pandas.core.frame.DataFrame'>\n",
      "RangeIndex: 18494 entries, 0 to 18493\n",
      "Data columns (total 52 columns):\n",
      " #   Column                           Non-Null Count  Dtype  \n",
      "---  ------                           --------------  -----  \n",
      " 0   year                             18494 non-null  object \n",
      " 1   assist_percentage                18433 non-null  float64\n",
      " 2   assists                          18494 non-null  int64  \n",
      " 3   block_percentage                 18432 non-null  float64\n",
      " 4   blocks                           18494 non-null  int64  \n",
      " 5   box_plus_minus                   12008 non-null  float64\n",
      " 6   conference                       13170 non-null  object \n",
      " 7   defensive_box_plus_minus         12008 non-null  float64\n",
      " 8   defensive_rebound_percentage     18432 non-null  float64\n",
      " 9   defensive_rebounds               18494 non-null  int64  \n",
      " 10  defensive_win_shares             18475 non-null  float64\n",
      " 11  effective_field_goal_percentage  17855 non-null  float64\n",
      " 12  field_goal_attempts              18494 non-null  int64  \n",
      " 13  field_goal_percentage            18028 non-null  float64\n",
      " 14  field_goals                      18494 non-null  int64  \n",
      " 15  free_throw_attempt_rate          18028 non-null  float64\n",
      " 16  free_throw_attempts              18494 non-null  int64  \n",
      " 17  free_throw_percentage            16619 non-null  float64\n",
      " 18  free_throws                      18494 non-null  int64  \n",
      " 19  games_played                     18494 non-null  int64  \n",
      " 20  games_started                    18494 non-null  int64  \n",
      " 21  height                           18484 non-null  object \n",
      " 22  minutes_played                   18494 non-null  int64  \n",
      " 23  offensive_box_plus_minus         12008 non-null  float64\n",
      " 24  offensive_rebound_percentage     18432 non-null  float64\n",
      " 25  offensive_rebounds               18494 non-null  int64  \n",
      " 26  offensive_win_shares             18475 non-null  float64\n",
      " 27  personal_fouls                   18494 non-null  int64  \n",
      " 28  player_efficiency_rating         18432 non-null  float64\n",
      " 29  player_id                        18494 non-null  object \n",
      " 30  points                           18494 non-null  int64  \n",
      " 31  points_produced                  18432 non-null  float64\n",
      " 32  position                         18494 non-null  object \n",
      " 33  steal_percentage                 18432 non-null  float64\n",
      " 34  steals                           18494 non-null  int64  \n",
      " 35  team_abbreviation                18494 non-null  object \n",
      " 36  three_point_attempt_rate         18028 non-null  float64\n",
      " 37  three_point_attempts             18494 non-null  int64  \n",
      " 38  three_point_percentage           15842 non-null  float64\n",
      " 39  three_pointers                   18494 non-null  int64  \n",
      " 40  total_rebound_percentage         18432 non-null  float64\n",
      " 41  total_rebounds                   18494 non-null  int64  \n",
      " 42  true_shooting_percentage         17935 non-null  float64\n",
      " 43  turnover_percentage              18157 non-null  float64\n",
      " 44  turnovers                        18494 non-null  int64  \n",
      " 45  two_point_attempts               18494 non-null  int64  \n",
      " 46  two_point_percentage             17611 non-null  float64\n",
      " 47  two_pointers                     18494 non-null  int64  \n",
      " 48  usage_percentage                 18432 non-null  float64\n",
      " 49  weight                           18348 non-null  float64\n",
      " 50  win_shares                       18475 non-null  float64\n",
      " 51  win_shares_per_40_minutes        18432 non-null  float64\n",
      "dtypes: float64(26), int64(20), object(6)\n",
      "memory usage: 7.3+ MB\n",
      "Rows:  18494\n",
      "Columns:  52\n",
      "\n",
      "Features: \n",
      " ['year', 'assist_percentage', 'assists', 'block_percentage', 'blocks', 'box_plus_minus', 'conference', 'defensive_box_plus_minus', 'defensive_rebound_percentage', 'defensive_rebounds', 'defensive_win_shares', 'effective_field_goal_percentage', 'field_goal_attempts', 'field_goal_percentage', 'field_goals', 'free_throw_attempt_rate', 'free_throw_attempts', 'free_throw_percentage', 'free_throws', 'games_played', 'games_started', 'height', 'minutes_played', 'offensive_box_plus_minus', 'offensive_rebound_percentage', 'offensive_rebounds', 'offensive_win_shares', 'personal_fouls', 'player_efficiency_rating', 'player_id', 'points', 'points_produced', 'position', 'steal_percentage', 'steals', 'team_abbreviation', 'three_point_attempt_rate', 'three_point_attempts', 'three_point_percentage', 'three_pointers', 'total_rebound_percentage', 'total_rebounds', 'true_shooting_percentage', 'turnover_percentage', 'turnovers', 'two_point_attempts', 'two_point_percentage', 'two_pointers', 'usage_percentage', 'weight', 'win_shares', 'win_shares_per_40_minutes']\n",
      "\n",
      "Missing Values:  year                               False\n",
      "assist_percentage                   True\n",
      "assists                            False\n",
      "block_percentage                    True\n",
      "blocks                             False\n",
      "box_plus_minus                      True\n",
      "conference                          True\n",
      "defensive_box_plus_minus            True\n",
      "defensive_rebound_percentage        True\n",
      "defensive_rebounds                 False\n",
      "defensive_win_shares                True\n",
      "effective_field_goal_percentage     True\n",
      "field_goal_attempts                False\n",
      "field_goal_percentage               True\n",
      "field_goals                        False\n",
      "free_throw_attempt_rate             True\n",
      "free_throw_attempts                False\n",
      "free_throw_percentage               True\n",
      "free_throws                        False\n",
      "games_played                       False\n",
      "games_started                      False\n",
      "height                              True\n",
      "minutes_played                     False\n",
      "offensive_box_plus_minus            True\n",
      "offensive_rebound_percentage        True\n",
      "offensive_rebounds                 False\n",
      "offensive_win_shares                True\n",
      "personal_fouls                     False\n",
      "player_efficiency_rating            True\n",
      "player_id                          False\n",
      "points                             False\n",
      "points_produced                     True\n",
      "position                           False\n",
      "steal_percentage                    True\n",
      "steals                             False\n",
      "team_abbreviation                  False\n",
      "three_point_attempt_rate            True\n",
      "three_point_attempts               False\n",
      "three_point_percentage              True\n",
      "three_pointers                     False\n",
      "total_rebound_percentage            True\n",
      "total_rebounds                     False\n",
      "true_shooting_percentage            True\n",
      "turnover_percentage                 True\n",
      "turnovers                          False\n",
      "two_point_attempts                 False\n",
      "two_point_percentage                True\n",
      "two_pointers                       False\n",
      "usage_percentage                    True\n",
      "weight                              True\n",
      "win_shares                          True\n",
      "win_shares_per_40_minutes           True\n",
      "dtype: bool\n",
      "\n",
      "Unique values:  year                                  8\n",
      "assist_percentage                   483\n",
      "assists                             424\n",
      "block_percentage                    198\n",
      "blocks                              179\n",
      "box_plus_minus                      500\n",
      "conference                           32\n",
      "defensive_box_plus_minus            275\n",
      "defensive_rebound_percentage        435\n",
      "defensive_rebounds                  546\n",
      "defensive_win_shares                 88\n",
      "effective_field_goal_percentage     569\n",
      "field_goal_attempts                1107\n",
      "field_goal_percentage               560\n",
      "field_goals                         591\n",
      "free_throw_attempt_rate             933\n",
      "free_throw_attempts                 478\n",
      "free_throw_percentage               608\n",
      "free_throws                         377\n",
      "games_played                        166\n",
      "games_started                       146\n",
      "height                               25\n",
      "minutes_played                     2479\n",
      "offensive_box_plus_minus            409\n",
      "offensive_rebound_percentage        328\n",
      "offensive_rebounds                  286\n",
      "offensive_win_shares                134\n",
      "personal_fouls                      373\n",
      "player_efficiency_rating            748\n",
      "player_id                          5324\n",
      "points                             1286\n",
      "points_produced                    1250\n",
      "position                              3\n",
      "steal_percentage                    150\n",
      "steals                              205\n",
      "team_abbreviation                   358\n",
      "three_point_attempt_rate            948\n",
      "three_point_attempts                623\n",
      "three_point_percentage              419\n",
      "three_pointers                      274\n",
      "total_rebound_percentage            342\n",
      "total_rebounds                      688\n",
      "true_shooting_percentage            662\n",
      "turnover_percentage                 454\n",
      "turnovers                           324\n",
      "two_point_attempts                  787\n",
      "two_point_percentage                534\n",
      "two_pointers                        467\n",
      "usage_percentage                    434\n",
      "weight                              128\n",
      "win_shares                          189\n",
      "win_shares_per_40_minutes           770\n",
      "dtype: int64\n"
     ]
    }
   ],
   "source": [
    "import pandas as pd\n",
    "import numpy as np\n",
    "player_df = pd.read_csv('../../allplayerinfo.csv')\n",
    "data = player_df.copy()\n",
    "data.info() # display types of data\n",
    "print(\"Rows: \",data.shape[0])\n",
    "print(\"Columns: \",data.shape[1])\n",
    "print(\"\\nFeatures: \\n\",data.columns.tolist())\n",
    "print(\"\\nMissing Values: \", data.isnull().any())\n",
    "data.isna().sum() #show missing values\n",
    "print(\"\\nUnique values: \",data.nunique())"
   ]
  },
  {
   "cell_type": "code",
   "execution_count": 53,
   "metadata": {},
   "outputs": [
    {
     "data": {
      "text/html": [
       "<div>\n",
       "<style scoped>\n",
       "    .dataframe tbody tr th:only-of-type {\n",
       "        vertical-align: middle;\n",
       "    }\n",
       "\n",
       "    .dataframe tbody tr th {\n",
       "        vertical-align: top;\n",
       "    }\n",
       "\n",
       "    .dataframe thead th {\n",
       "        text-align: right;\n",
       "    }\n",
       "</style>\n",
       "<table border=\"1\" class=\"dataframe\">\n",
       "  <thead>\n",
       "    <tr style=\"text-align: right;\">\n",
       "      <th></th>\n",
       "      <th>year</th>\n",
       "      <th>assist_percentage</th>\n",
       "      <th>assists</th>\n",
       "      <th>block_percentage</th>\n",
       "      <th>blocks</th>\n",
       "      <th>box_plus_minus</th>\n",
       "      <th>conference</th>\n",
       "      <th>defensive_box_plus_minus</th>\n",
       "      <th>defensive_rebound_percentage</th>\n",
       "      <th>defensive_rebounds</th>\n",
       "      <th>...</th>\n",
       "      <th>true_shooting_percentage</th>\n",
       "      <th>turnover_percentage</th>\n",
       "      <th>turnovers</th>\n",
       "      <th>two_point_attempts</th>\n",
       "      <th>two_point_percentage</th>\n",
       "      <th>two_pointers</th>\n",
       "      <th>usage_percentage</th>\n",
       "      <th>weight</th>\n",
       "      <th>win_shares</th>\n",
       "      <th>win_shares_per_40_minutes</th>\n",
       "    </tr>\n",
       "  </thead>\n",
       "  <tbody>\n",
       "    <tr>\n",
       "      <th>2</th>\n",
       "      <td>2021-22</td>\n",
       "      <td>12.7</td>\n",
       "      <td>45</td>\n",
       "      <td>1.0</td>\n",
       "      <td>5</td>\n",
       "      <td>NaN</td>\n",
       "      <td>wac</td>\n",
       "      <td>NaN</td>\n",
       "      <td>8.5</td>\n",
       "      <td>45</td>\n",
       "      <td>...</td>\n",
       "      <td>0.590</td>\n",
       "      <td>11.3</td>\n",
       "      <td>35</td>\n",
       "      <td>148</td>\n",
       "      <td>0.507</td>\n",
       "      <td>75</td>\n",
       "      <td>21.4</td>\n",
       "      <td>190.0</td>\n",
       "      <td>3.1</td>\n",
       "      <td>0.179</td>\n",
       "    </tr>\n",
       "    <tr>\n",
       "      <th>3</th>\n",
       "      <td>Career</td>\n",
       "      <td>14.8</td>\n",
       "      <td>163</td>\n",
       "      <td>1.1</td>\n",
       "      <td>18</td>\n",
       "      <td>1.0</td>\n",
       "      <td>NaN</td>\n",
       "      <td>0.9</td>\n",
       "      <td>7.9</td>\n",
       "      <td>131</td>\n",
       "      <td>...</td>\n",
       "      <td>0.576</td>\n",
       "      <td>12.2</td>\n",
       "      <td>104</td>\n",
       "      <td>413</td>\n",
       "      <td>0.521</td>\n",
       "      <td>215</td>\n",
       "      <td>19.6</td>\n",
       "      <td>190.0</td>\n",
       "      <td>9.5</td>\n",
       "      <td>0.180</td>\n",
       "    </tr>\n",
       "    <tr>\n",
       "      <th>6</th>\n",
       "      <td>2021-22</td>\n",
       "      <td>19.5</td>\n",
       "      <td>45</td>\n",
       "      <td>3.7</td>\n",
       "      <td>14</td>\n",
       "      <td>NaN</td>\n",
       "      <td>wac</td>\n",
       "      <td>NaN</td>\n",
       "      <td>26.0</td>\n",
       "      <td>101</td>\n",
       "      <td>...</td>\n",
       "      <td>0.563</td>\n",
       "      <td>15.3</td>\n",
       "      <td>46</td>\n",
       "      <td>147</td>\n",
       "      <td>0.578</td>\n",
       "      <td>85</td>\n",
       "      <td>28.3</td>\n",
       "      <td>264.0</td>\n",
       "      <td>2.8</td>\n",
       "      <td>0.222</td>\n",
       "    </tr>\n",
       "    <tr>\n",
       "      <th>7</th>\n",
       "      <td>Career</td>\n",
       "      <td>14.8</td>\n",
       "      <td>99</td>\n",
       "      <td>3.0</td>\n",
       "      <td>33</td>\n",
       "      <td>1.3</td>\n",
       "      <td>NaN</td>\n",
       "      <td>2.4</td>\n",
       "      <td>25.3</td>\n",
       "      <td>277</td>\n",
       "      <td>...</td>\n",
       "      <td>0.552</td>\n",
       "      <td>16.5</td>\n",
       "      <td>113</td>\n",
       "      <td>344</td>\n",
       "      <td>0.547</td>\n",
       "      <td>188</td>\n",
       "      <td>23.8</td>\n",
       "      <td>264.0</td>\n",
       "      <td>6.9</td>\n",
       "      <td>0.201</td>\n",
       "    </tr>\n",
       "    <tr>\n",
       "      <th>10</th>\n",
       "      <td>2021-22</td>\n",
       "      <td>10.4</td>\n",
       "      <td>34</td>\n",
       "      <td>0.2</td>\n",
       "      <td>1</td>\n",
       "      <td>NaN</td>\n",
       "      <td>wac</td>\n",
       "      <td>NaN</td>\n",
       "      <td>11.7</td>\n",
       "      <td>56</td>\n",
       "      <td>...</td>\n",
       "      <td>0.553</td>\n",
       "      <td>11.6</td>\n",
       "      <td>32</td>\n",
       "      <td>113</td>\n",
       "      <td>0.558</td>\n",
       "      <td>63</td>\n",
       "      <td>21.0</td>\n",
       "      <td>184.0</td>\n",
       "      <td>2.6</td>\n",
       "      <td>0.167</td>\n",
       "    </tr>\n",
       "    <tr>\n",
       "      <th>...</th>\n",
       "      <td>...</td>\n",
       "      <td>...</td>\n",
       "      <td>...</td>\n",
       "      <td>...</td>\n",
       "      <td>...</td>\n",
       "      <td>...</td>\n",
       "      <td>...</td>\n",
       "      <td>...</td>\n",
       "      <td>...</td>\n",
       "      <td>...</td>\n",
       "      <td>...</td>\n",
       "      <td>...</td>\n",
       "      <td>...</td>\n",
       "      <td>...</td>\n",
       "      <td>...</td>\n",
       "      <td>...</td>\n",
       "      <td>...</td>\n",
       "      <td>...</td>\n",
       "      <td>...</td>\n",
       "      <td>...</td>\n",
       "      <td>...</td>\n",
       "    </tr>\n",
       "    <tr>\n",
       "      <th>18488</th>\n",
       "      <td>2021-22</td>\n",
       "      <td>6.9</td>\n",
       "      <td>3</td>\n",
       "      <td>4.3</td>\n",
       "      <td>3</td>\n",
       "      <td>NaN</td>\n",
       "      <td>horizon</td>\n",
       "      <td>NaN</td>\n",
       "      <td>7.8</td>\n",
       "      <td>5</td>\n",
       "      <td>...</td>\n",
       "      <td>0.599</td>\n",
       "      <td>25.9</td>\n",
       "      <td>7</td>\n",
       "      <td>11</td>\n",
       "      <td>0.545</td>\n",
       "      <td>6</td>\n",
       "      <td>18.4</td>\n",
       "      <td>225.0</td>\n",
       "      <td>0.2</td>\n",
       "      <td>0.109</td>\n",
       "    </tr>\n",
       "    <tr>\n",
       "      <th>18489</th>\n",
       "      <td>Career</td>\n",
       "      <td>6.9</td>\n",
       "      <td>3</td>\n",
       "      <td>4.3</td>\n",
       "      <td>3</td>\n",
       "      <td>NaN</td>\n",
       "      <td>NaN</td>\n",
       "      <td>NaN</td>\n",
       "      <td>7.8</td>\n",
       "      <td>5</td>\n",
       "      <td>...</td>\n",
       "      <td>0.599</td>\n",
       "      <td>25.9</td>\n",
       "      <td>7</td>\n",
       "      <td>11</td>\n",
       "      <td>0.545</td>\n",
       "      <td>6</td>\n",
       "      <td>18.4</td>\n",
       "      <td>225.0</td>\n",
       "      <td>0.2</td>\n",
       "      <td>0.109</td>\n",
       "    </tr>\n",
       "    <tr>\n",
       "      <th>18490</th>\n",
       "      <td>2020-21</td>\n",
       "      <td>0.0</td>\n",
       "      <td>0</td>\n",
       "      <td>0.0</td>\n",
       "      <td>0</td>\n",
       "      <td>-3.8</td>\n",
       "      <td>horizon</td>\n",
       "      <td>-2.1</td>\n",
       "      <td>9.8</td>\n",
       "      <td>3</td>\n",
       "      <td>...</td>\n",
       "      <td>0.458</td>\n",
       "      <td>7.7</td>\n",
       "      <td>1</td>\n",
       "      <td>5</td>\n",
       "      <td>0.200</td>\n",
       "      <td>1</td>\n",
       "      <td>17.2</td>\n",
       "      <td>195.0</td>\n",
       "      <td>0.0</td>\n",
       "      <td>0.052</td>\n",
       "    </tr>\n",
       "    <tr>\n",
       "      <th>18491</th>\n",
       "      <td>Career</td>\n",
       "      <td>0.0</td>\n",
       "      <td>0</td>\n",
       "      <td>0.0</td>\n",
       "      <td>0</td>\n",
       "      <td>-3.8</td>\n",
       "      <td>NaN</td>\n",
       "      <td>-2.1</td>\n",
       "      <td>9.8</td>\n",
       "      <td>3</td>\n",
       "      <td>...</td>\n",
       "      <td>0.458</td>\n",
       "      <td>7.7</td>\n",
       "      <td>1</td>\n",
       "      <td>5</td>\n",
       "      <td>0.200</td>\n",
       "      <td>1</td>\n",
       "      <td>17.2</td>\n",
       "      <td>195.0</td>\n",
       "      <td>0.0</td>\n",
       "      <td>0.052</td>\n",
       "    </tr>\n",
       "    <tr>\n",
       "      <th>18493</th>\n",
       "      <td>Career</td>\n",
       "      <td>7.4</td>\n",
       "      <td>12</td>\n",
       "      <td>1.1</td>\n",
       "      <td>3</td>\n",
       "      <td>-5.7</td>\n",
       "      <td>NaN</td>\n",
       "      <td>-3.1</td>\n",
       "      <td>10.4</td>\n",
       "      <td>26</td>\n",
       "      <td>...</td>\n",
       "      <td>0.441</td>\n",
       "      <td>9.8</td>\n",
       "      <td>13</td>\n",
       "      <td>49</td>\n",
       "      <td>0.347</td>\n",
       "      <td>17</td>\n",
       "      <td>21.3</td>\n",
       "      <td>200.0</td>\n",
       "      <td>0.4</td>\n",
       "      <td>0.058</td>\n",
       "    </tr>\n",
       "  </tbody>\n",
       "</table>\n",
       "<p>12116 rows × 52 columns</p>\n",
       "</div>"
      ],
      "text/plain": [
       "          year  assist_percentage  assists  block_percentage  blocks  \\\n",
       "2      2021-22               12.7       45               1.0       5   \n",
       "3       Career               14.8      163               1.1      18   \n",
       "6      2021-22               19.5       45               3.7      14   \n",
       "7       Career               14.8       99               3.0      33   \n",
       "10     2021-22               10.4       34               0.2       1   \n",
       "...        ...                ...      ...               ...     ...   \n",
       "18488  2021-22                6.9        3               4.3       3   \n",
       "18489   Career                6.9        3               4.3       3   \n",
       "18490  2020-21                0.0        0               0.0       0   \n",
       "18491   Career                0.0        0               0.0       0   \n",
       "18493   Career                7.4       12               1.1       3   \n",
       "\n",
       "       box_plus_minus conference  defensive_box_plus_minus  \\\n",
       "2                 NaN        wac                       NaN   \n",
       "3                 1.0        NaN                       0.9   \n",
       "6                 NaN        wac                       NaN   \n",
       "7                 1.3        NaN                       2.4   \n",
       "10                NaN        wac                       NaN   \n",
       "...               ...        ...                       ...   \n",
       "18488             NaN    horizon                       NaN   \n",
       "18489             NaN        NaN                       NaN   \n",
       "18490            -3.8    horizon                      -2.1   \n",
       "18491            -3.8        NaN                      -2.1   \n",
       "18493            -5.7        NaN                      -3.1   \n",
       "\n",
       "       defensive_rebound_percentage  defensive_rebounds  ...  \\\n",
       "2                               8.5                  45  ...   \n",
       "3                               7.9                 131  ...   \n",
       "6                              26.0                 101  ...   \n",
       "7                              25.3                 277  ...   \n",
       "10                             11.7                  56  ...   \n",
       "...                             ...                 ...  ...   \n",
       "18488                           7.8                   5  ...   \n",
       "18489                           7.8                   5  ...   \n",
       "18490                           9.8                   3  ...   \n",
       "18491                           9.8                   3  ...   \n",
       "18493                          10.4                  26  ...   \n",
       "\n",
       "       true_shooting_percentage  turnover_percentage  turnovers  \\\n",
       "2                         0.590                 11.3         35   \n",
       "3                         0.576                 12.2        104   \n",
       "6                         0.563                 15.3         46   \n",
       "7                         0.552                 16.5        113   \n",
       "10                        0.553                 11.6         32   \n",
       "...                         ...                  ...        ...   \n",
       "18488                     0.599                 25.9          7   \n",
       "18489                     0.599                 25.9          7   \n",
       "18490                     0.458                  7.7          1   \n",
       "18491                     0.458                  7.7          1   \n",
       "18493                     0.441                  9.8         13   \n",
       "\n",
       "       two_point_attempts  two_point_percentage  two_pointers  \\\n",
       "2                     148                 0.507            75   \n",
       "3                     413                 0.521           215   \n",
       "6                     147                 0.578            85   \n",
       "7                     344                 0.547           188   \n",
       "10                    113                 0.558            63   \n",
       "...                   ...                   ...           ...   \n",
       "18488                  11                 0.545             6   \n",
       "18489                  11                 0.545             6   \n",
       "18490                   5                 0.200             1   \n",
       "18491                   5                 0.200             1   \n",
       "18493                  49                 0.347            17   \n",
       "\n",
       "       usage_percentage  weight  win_shares  win_shares_per_40_minutes  \n",
       "2                  21.4   190.0         3.1                      0.179  \n",
       "3                  19.6   190.0         9.5                      0.180  \n",
       "6                  28.3   264.0         2.8                      0.222  \n",
       "7                  23.8   264.0         6.9                      0.201  \n",
       "10                 21.0   184.0         2.6                      0.167  \n",
       "...                 ...     ...         ...                        ...  \n",
       "18488              18.4   225.0         0.2                      0.109  \n",
       "18489              18.4   225.0         0.2                      0.109  \n",
       "18490              17.2   195.0         0.0                      0.052  \n",
       "18491              17.2   195.0         0.0                      0.052  \n",
       "18493              21.3   200.0         0.4                      0.058  \n",
       "\n",
       "[12116 rows x 52 columns]"
      ]
     },
     "execution_count": 53,
     "metadata": {},
     "output_type": "execute_result"
    }
   ],
   "source": [
    "#rows with missing value\n",
    "data[data.isna().any(axis=1)]"
   ]
  },
  {
   "cell_type": "code",
   "execution_count": 54,
   "metadata": {},
   "outputs": [
    {
     "data": {
      "text/html": [
       "<div>\n",
       "<style scoped>\n",
       "    .dataframe tbody tr th:only-of-type {\n",
       "        vertical-align: middle;\n",
       "    }\n",
       "\n",
       "    .dataframe tbody tr th {\n",
       "        vertical-align: top;\n",
       "    }\n",
       "\n",
       "    .dataframe thead th {\n",
       "        text-align: right;\n",
       "    }\n",
       "</style>\n",
       "<table border=\"1\" class=\"dataframe\">\n",
       "  <thead>\n",
       "    <tr style=\"text-align: right;\">\n",
       "      <th></th>\n",
       "      <th>year</th>\n",
       "      <th>assist_percentage</th>\n",
       "      <th>assists</th>\n",
       "      <th>block_percentage</th>\n",
       "      <th>blocks</th>\n",
       "      <th>box_plus_minus</th>\n",
       "      <th>conference</th>\n",
       "      <th>defensive_box_plus_minus</th>\n",
       "      <th>defensive_rebound_percentage</th>\n",
       "      <th>defensive_rebounds</th>\n",
       "      <th>...</th>\n",
       "      <th>true_shooting_percentage</th>\n",
       "      <th>turnover_percentage</th>\n",
       "      <th>turnovers</th>\n",
       "      <th>two_point_attempts</th>\n",
       "      <th>two_point_percentage</th>\n",
       "      <th>two_pointers</th>\n",
       "      <th>usage_percentage</th>\n",
       "      <th>weight</th>\n",
       "      <th>win_shares</th>\n",
       "      <th>win_shares_per_40_minutes</th>\n",
       "    </tr>\n",
       "  </thead>\n",
       "  <tbody>\n",
       "    <tr>\n",
       "      <th>3</th>\n",
       "      <td>Career</td>\n",
       "      <td>14.8</td>\n",
       "      <td>163</td>\n",
       "      <td>1.1</td>\n",
       "      <td>18</td>\n",
       "      <td>1.0</td>\n",
       "      <td>NaN</td>\n",
       "      <td>0.9</td>\n",
       "      <td>7.9</td>\n",
       "      <td>131</td>\n",
       "      <td>...</td>\n",
       "      <td>0.576</td>\n",
       "      <td>12.2</td>\n",
       "      <td>104</td>\n",
       "      <td>413</td>\n",
       "      <td>0.521</td>\n",
       "      <td>215</td>\n",
       "      <td>19.6</td>\n",
       "      <td>190.0</td>\n",
       "      <td>9.5</td>\n",
       "      <td>0.180</td>\n",
       "    </tr>\n",
       "    <tr>\n",
       "      <th>7</th>\n",
       "      <td>Career</td>\n",
       "      <td>14.8</td>\n",
       "      <td>99</td>\n",
       "      <td>3.0</td>\n",
       "      <td>33</td>\n",
       "      <td>1.3</td>\n",
       "      <td>NaN</td>\n",
       "      <td>2.4</td>\n",
       "      <td>25.3</td>\n",
       "      <td>277</td>\n",
       "      <td>...</td>\n",
       "      <td>0.552</td>\n",
       "      <td>16.5</td>\n",
       "      <td>113</td>\n",
       "      <td>344</td>\n",
       "      <td>0.547</td>\n",
       "      <td>188</td>\n",
       "      <td>23.8</td>\n",
       "      <td>264.0</td>\n",
       "      <td>6.9</td>\n",
       "      <td>0.201</td>\n",
       "    </tr>\n",
       "    <tr>\n",
       "      <th>11</th>\n",
       "      <td>Career</td>\n",
       "      <td>11.0</td>\n",
       "      <td>79</td>\n",
       "      <td>0.5</td>\n",
       "      <td>5</td>\n",
       "      <td>-1.9</td>\n",
       "      <td>NaN</td>\n",
       "      <td>0.8</td>\n",
       "      <td>10.5</td>\n",
       "      <td>112</td>\n",
       "      <td>...</td>\n",
       "      <td>0.543</td>\n",
       "      <td>14.5</td>\n",
       "      <td>82</td>\n",
       "      <td>206</td>\n",
       "      <td>0.534</td>\n",
       "      <td>110</td>\n",
       "      <td>20.2</td>\n",
       "      <td>184.0</td>\n",
       "      <td>5.2</td>\n",
       "      <td>0.155</td>\n",
       "    </tr>\n",
       "    <tr>\n",
       "      <th>14</th>\n",
       "      <td>Career</td>\n",
       "      <td>11.8</td>\n",
       "      <td>45</td>\n",
       "      <td>3.1</td>\n",
       "      <td>17</td>\n",
       "      <td>1.9</td>\n",
       "      <td>NaN</td>\n",
       "      <td>0.2</td>\n",
       "      <td>17.3</td>\n",
       "      <td>100</td>\n",
       "      <td>...</td>\n",
       "      <td>0.543</td>\n",
       "      <td>9.9</td>\n",
       "      <td>30</td>\n",
       "      <td>142</td>\n",
       "      <td>0.577</td>\n",
       "      <td>82</td>\n",
       "      <td>19.6</td>\n",
       "      <td>205.0</td>\n",
       "      <td>3.1</td>\n",
       "      <td>0.169</td>\n",
       "    </tr>\n",
       "    <tr>\n",
       "      <th>19</th>\n",
       "      <td>Career</td>\n",
       "      <td>19.3</td>\n",
       "      <td>103</td>\n",
       "      <td>0.8</td>\n",
       "      <td>6</td>\n",
       "      <td>1.4</td>\n",
       "      <td>NaN</td>\n",
       "      <td>2.1</td>\n",
       "      <td>14.8</td>\n",
       "      <td>112</td>\n",
       "      <td>...</td>\n",
       "      <td>0.575</td>\n",
       "      <td>16.8</td>\n",
       "      <td>56</td>\n",
       "      <td>127</td>\n",
       "      <td>0.622</td>\n",
       "      <td>79</td>\n",
       "      <td>16.7</td>\n",
       "      <td>210.0</td>\n",
       "      <td>4.6</td>\n",
       "      <td>0.191</td>\n",
       "    </tr>\n",
       "    <tr>\n",
       "      <th>...</th>\n",
       "      <td>...</td>\n",
       "      <td>...</td>\n",
       "      <td>...</td>\n",
       "      <td>...</td>\n",
       "      <td>...</td>\n",
       "      <td>...</td>\n",
       "      <td>...</td>\n",
       "      <td>...</td>\n",
       "      <td>...</td>\n",
       "      <td>...</td>\n",
       "      <td>...</td>\n",
       "      <td>...</td>\n",
       "      <td>...</td>\n",
       "      <td>...</td>\n",
       "      <td>...</td>\n",
       "      <td>...</td>\n",
       "      <td>...</td>\n",
       "      <td>...</td>\n",
       "      <td>...</td>\n",
       "      <td>...</td>\n",
       "      <td>...</td>\n",
       "    </tr>\n",
       "    <tr>\n",
       "      <th>18481</th>\n",
       "      <td>Career</td>\n",
       "      <td>6.9</td>\n",
       "      <td>17</td>\n",
       "      <td>4.7</td>\n",
       "      <td>22</td>\n",
       "      <td>-2.6</td>\n",
       "      <td>NaN</td>\n",
       "      <td>-0.2</td>\n",
       "      <td>21.0</td>\n",
       "      <td>89</td>\n",
       "      <td>...</td>\n",
       "      <td>0.550</td>\n",
       "      <td>18.7</td>\n",
       "      <td>33</td>\n",
       "      <td>120</td>\n",
       "      <td>0.600</td>\n",
       "      <td>72</td>\n",
       "      <td>18.0</td>\n",
       "      <td>275.0</td>\n",
       "      <td>1.6</td>\n",
       "      <td>0.132</td>\n",
       "    </tr>\n",
       "    <tr>\n",
       "      <th>18487</th>\n",
       "      <td>Career</td>\n",
       "      <td>7.6</td>\n",
       "      <td>131</td>\n",
       "      <td>0.5</td>\n",
       "      <td>14</td>\n",
       "      <td>-2.5</td>\n",
       "      <td>NaN</td>\n",
       "      <td>-1.9</td>\n",
       "      <td>10.6</td>\n",
       "      <td>289</td>\n",
       "      <td>...</td>\n",
       "      <td>0.529</td>\n",
       "      <td>12.5</td>\n",
       "      <td>162</td>\n",
       "      <td>669</td>\n",
       "      <td>0.508</td>\n",
       "      <td>340</td>\n",
       "      <td>19.0</td>\n",
       "      <td>200.0</td>\n",
       "      <td>7.7</td>\n",
       "      <td>0.094</td>\n",
       "    </tr>\n",
       "    <tr>\n",
       "      <th>18489</th>\n",
       "      <td>Career</td>\n",
       "      <td>6.9</td>\n",
       "      <td>3</td>\n",
       "      <td>4.3</td>\n",
       "      <td>3</td>\n",
       "      <td>NaN</td>\n",
       "      <td>NaN</td>\n",
       "      <td>NaN</td>\n",
       "      <td>7.8</td>\n",
       "      <td>5</td>\n",
       "      <td>...</td>\n",
       "      <td>0.599</td>\n",
       "      <td>25.9</td>\n",
       "      <td>7</td>\n",
       "      <td>11</td>\n",
       "      <td>0.545</td>\n",
       "      <td>6</td>\n",
       "      <td>18.4</td>\n",
       "      <td>225.0</td>\n",
       "      <td>0.2</td>\n",
       "      <td>0.109</td>\n",
       "    </tr>\n",
       "    <tr>\n",
       "      <th>18491</th>\n",
       "      <td>Career</td>\n",
       "      <td>0.0</td>\n",
       "      <td>0</td>\n",
       "      <td>0.0</td>\n",
       "      <td>0</td>\n",
       "      <td>-3.8</td>\n",
       "      <td>NaN</td>\n",
       "      <td>-2.1</td>\n",
       "      <td>9.8</td>\n",
       "      <td>3</td>\n",
       "      <td>...</td>\n",
       "      <td>0.458</td>\n",
       "      <td>7.7</td>\n",
       "      <td>1</td>\n",
       "      <td>5</td>\n",
       "      <td>0.200</td>\n",
       "      <td>1</td>\n",
       "      <td>17.2</td>\n",
       "      <td>195.0</td>\n",
       "      <td>0.0</td>\n",
       "      <td>0.052</td>\n",
       "    </tr>\n",
       "    <tr>\n",
       "      <th>18493</th>\n",
       "      <td>Career</td>\n",
       "      <td>7.4</td>\n",
       "      <td>12</td>\n",
       "      <td>1.1</td>\n",
       "      <td>3</td>\n",
       "      <td>-5.7</td>\n",
       "      <td>NaN</td>\n",
       "      <td>-3.1</td>\n",
       "      <td>10.4</td>\n",
       "      <td>26</td>\n",
       "      <td>...</td>\n",
       "      <td>0.441</td>\n",
       "      <td>9.8</td>\n",
       "      <td>13</td>\n",
       "      <td>49</td>\n",
       "      <td>0.347</td>\n",
       "      <td>17</td>\n",
       "      <td>21.3</td>\n",
       "      <td>200.0</td>\n",
       "      <td>0.4</td>\n",
       "      <td>0.058</td>\n",
       "    </tr>\n",
       "  </tbody>\n",
       "</table>\n",
       "<p>5324 rows × 52 columns</p>\n",
       "</div>"
      ],
      "text/plain": [
       "         year  assist_percentage  assists  block_percentage  blocks  \\\n",
       "3      Career               14.8      163               1.1      18   \n",
       "7      Career               14.8       99               3.0      33   \n",
       "11     Career               11.0       79               0.5       5   \n",
       "14     Career               11.8       45               3.1      17   \n",
       "19     Career               19.3      103               0.8       6   \n",
       "...       ...                ...      ...               ...     ...   \n",
       "18481  Career                6.9       17               4.7      22   \n",
       "18487  Career                7.6      131               0.5      14   \n",
       "18489  Career                6.9        3               4.3       3   \n",
       "18491  Career                0.0        0               0.0       0   \n",
       "18493  Career                7.4       12               1.1       3   \n",
       "\n",
       "       box_plus_minus conference  defensive_box_plus_minus  \\\n",
       "3                 1.0        NaN                       0.9   \n",
       "7                 1.3        NaN                       2.4   \n",
       "11               -1.9        NaN                       0.8   \n",
       "14                1.9        NaN                       0.2   \n",
       "19                1.4        NaN                       2.1   \n",
       "...               ...        ...                       ...   \n",
       "18481            -2.6        NaN                      -0.2   \n",
       "18487            -2.5        NaN                      -1.9   \n",
       "18489             NaN        NaN                       NaN   \n",
       "18491            -3.8        NaN                      -2.1   \n",
       "18493            -5.7        NaN                      -3.1   \n",
       "\n",
       "       defensive_rebound_percentage  defensive_rebounds  ...  \\\n",
       "3                               7.9                 131  ...   \n",
       "7                              25.3                 277  ...   \n",
       "11                             10.5                 112  ...   \n",
       "14                             17.3                 100  ...   \n",
       "19                             14.8                 112  ...   \n",
       "...                             ...                 ...  ...   \n",
       "18481                          21.0                  89  ...   \n",
       "18487                          10.6                 289  ...   \n",
       "18489                           7.8                   5  ...   \n",
       "18491                           9.8                   3  ...   \n",
       "18493                          10.4                  26  ...   \n",
       "\n",
       "       true_shooting_percentage  turnover_percentage  turnovers  \\\n",
       "3                         0.576                 12.2        104   \n",
       "7                         0.552                 16.5        113   \n",
       "11                        0.543                 14.5         82   \n",
       "14                        0.543                  9.9         30   \n",
       "19                        0.575                 16.8         56   \n",
       "...                         ...                  ...        ...   \n",
       "18481                     0.550                 18.7         33   \n",
       "18487                     0.529                 12.5        162   \n",
       "18489                     0.599                 25.9          7   \n",
       "18491                     0.458                  7.7          1   \n",
       "18493                     0.441                  9.8         13   \n",
       "\n",
       "       two_point_attempts  two_point_percentage  two_pointers  \\\n",
       "3                     413                 0.521           215   \n",
       "7                     344                 0.547           188   \n",
       "11                    206                 0.534           110   \n",
       "14                    142                 0.577            82   \n",
       "19                    127                 0.622            79   \n",
       "...                   ...                   ...           ...   \n",
       "18481                 120                 0.600            72   \n",
       "18487                 669                 0.508           340   \n",
       "18489                  11                 0.545             6   \n",
       "18491                   5                 0.200             1   \n",
       "18493                  49                 0.347            17   \n",
       "\n",
       "       usage_percentage  weight  win_shares  win_shares_per_40_minutes  \n",
       "3                  19.6   190.0         9.5                      0.180  \n",
       "7                  23.8   264.0         6.9                      0.201  \n",
       "11                 20.2   184.0         5.2                      0.155  \n",
       "14                 19.6   205.0         3.1                      0.169  \n",
       "19                 16.7   210.0         4.6                      0.191  \n",
       "...                 ...     ...         ...                        ...  \n",
       "18481              18.0   275.0         1.6                      0.132  \n",
       "18487              19.0   200.0         7.7                      0.094  \n",
       "18489              18.4   225.0         0.2                      0.109  \n",
       "18491              17.2   195.0         0.0                      0.052  \n",
       "18493              21.3   200.0         0.4                      0.058  \n",
       "\n",
       "[5324 rows x 52 columns]"
      ]
     },
     "execution_count": 54,
     "metadata": {},
     "output_type": "execute_result"
    }
   ],
   "source": [
    "data[data[\"conference\"].isnull()]"
   ]
  },
  {
   "cell_type": "code",
   "execution_count": 55,
   "metadata": {},
   "outputs": [
    {
     "data": {
      "text/html": [
       "<div>\n",
       "<style scoped>\n",
       "    .dataframe tbody tr th:only-of-type {\n",
       "        vertical-align: middle;\n",
       "    }\n",
       "\n",
       "    .dataframe tbody tr th {\n",
       "        vertical-align: top;\n",
       "    }\n",
       "\n",
       "    .dataframe thead th {\n",
       "        text-align: right;\n",
       "    }\n",
       "</style>\n",
       "<table border=\"1\" class=\"dataframe\">\n",
       "  <thead>\n",
       "    <tr style=\"text-align: right;\">\n",
       "      <th></th>\n",
       "      <th>year</th>\n",
       "      <th>assist_percentage</th>\n",
       "      <th>assists</th>\n",
       "      <th>block_percentage</th>\n",
       "      <th>blocks</th>\n",
       "      <th>box_plus_minus</th>\n",
       "      <th>conference</th>\n",
       "      <th>defensive_box_plus_minus</th>\n",
       "      <th>defensive_rebound_percentage</th>\n",
       "      <th>defensive_rebounds</th>\n",
       "      <th>...</th>\n",
       "      <th>true_shooting_percentage</th>\n",
       "      <th>turnover_percentage</th>\n",
       "      <th>turnovers</th>\n",
       "      <th>two_point_attempts</th>\n",
       "      <th>two_point_percentage</th>\n",
       "      <th>two_pointers</th>\n",
       "      <th>usage_percentage</th>\n",
       "      <th>weight</th>\n",
       "      <th>win_shares</th>\n",
       "      <th>win_shares_per_40_minutes</th>\n",
       "    </tr>\n",
       "  </thead>\n",
       "  <tbody>\n",
       "    <tr>\n",
       "      <th>2</th>\n",
       "      <td>2021-22</td>\n",
       "      <td>12.7</td>\n",
       "      <td>45</td>\n",
       "      <td>1.0</td>\n",
       "      <td>5</td>\n",
       "      <td>NaN</td>\n",
       "      <td>wac</td>\n",
       "      <td>NaN</td>\n",
       "      <td>8.5</td>\n",
       "      <td>45</td>\n",
       "      <td>...</td>\n",
       "      <td>0.590</td>\n",
       "      <td>11.3</td>\n",
       "      <td>35</td>\n",
       "      <td>148</td>\n",
       "      <td>0.507</td>\n",
       "      <td>75</td>\n",
       "      <td>21.4</td>\n",
       "      <td>190.0</td>\n",
       "      <td>3.1</td>\n",
       "      <td>0.179</td>\n",
       "    </tr>\n",
       "    <tr>\n",
       "      <th>6</th>\n",
       "      <td>2021-22</td>\n",
       "      <td>19.5</td>\n",
       "      <td>45</td>\n",
       "      <td>3.7</td>\n",
       "      <td>14</td>\n",
       "      <td>NaN</td>\n",
       "      <td>wac</td>\n",
       "      <td>NaN</td>\n",
       "      <td>26.0</td>\n",
       "      <td>101</td>\n",
       "      <td>...</td>\n",
       "      <td>0.563</td>\n",
       "      <td>15.3</td>\n",
       "      <td>46</td>\n",
       "      <td>147</td>\n",
       "      <td>0.578</td>\n",
       "      <td>85</td>\n",
       "      <td>28.3</td>\n",
       "      <td>264.0</td>\n",
       "      <td>2.8</td>\n",
       "      <td>0.222</td>\n",
       "    </tr>\n",
       "    <tr>\n",
       "      <th>10</th>\n",
       "      <td>2021-22</td>\n",
       "      <td>10.4</td>\n",
       "      <td>34</td>\n",
       "      <td>0.2</td>\n",
       "      <td>1</td>\n",
       "      <td>NaN</td>\n",
       "      <td>wac</td>\n",
       "      <td>NaN</td>\n",
       "      <td>11.7</td>\n",
       "      <td>56</td>\n",
       "      <td>...</td>\n",
       "      <td>0.553</td>\n",
       "      <td>11.6</td>\n",
       "      <td>32</td>\n",
       "      <td>113</td>\n",
       "      <td>0.558</td>\n",
       "      <td>63</td>\n",
       "      <td>21.0</td>\n",
       "      <td>184.0</td>\n",
       "      <td>2.6</td>\n",
       "      <td>0.167</td>\n",
       "    </tr>\n",
       "    <tr>\n",
       "      <th>13</th>\n",
       "      <td>2021-22</td>\n",
       "      <td>11.2</td>\n",
       "      <td>35</td>\n",
       "      <td>3.3</td>\n",
       "      <td>15</td>\n",
       "      <td>NaN</td>\n",
       "      <td>wac</td>\n",
       "      <td>NaN</td>\n",
       "      <td>16.7</td>\n",
       "      <td>77</td>\n",
       "      <td>...</td>\n",
       "      <td>0.533</td>\n",
       "      <td>9.6</td>\n",
       "      <td>23</td>\n",
       "      <td>117</td>\n",
       "      <td>0.581</td>\n",
       "      <td>68</td>\n",
       "      <td>19.0</td>\n",
       "      <td>205.0</td>\n",
       "      <td>2.4</td>\n",
       "      <td>0.159</td>\n",
       "    </tr>\n",
       "    <tr>\n",
       "      <th>18</th>\n",
       "      <td>2021-22</td>\n",
       "      <td>17.0</td>\n",
       "      <td>43</td>\n",
       "      <td>0.3</td>\n",
       "      <td>1</td>\n",
       "      <td>NaN</td>\n",
       "      <td>wac</td>\n",
       "      <td>NaN</td>\n",
       "      <td>15.3</td>\n",
       "      <td>55</td>\n",
       "      <td>...</td>\n",
       "      <td>0.587</td>\n",
       "      <td>15.2</td>\n",
       "      <td>27</td>\n",
       "      <td>82</td>\n",
       "      <td>0.561</td>\n",
       "      <td>46</td>\n",
       "      <td>18.0</td>\n",
       "      <td>210.0</td>\n",
       "      <td>2.3</td>\n",
       "      <td>0.192</td>\n",
       "    </tr>\n",
       "    <tr>\n",
       "      <th>...</th>\n",
       "      <td>...</td>\n",
       "      <td>...</td>\n",
       "      <td>...</td>\n",
       "      <td>...</td>\n",
       "      <td>...</td>\n",
       "      <td>...</td>\n",
       "      <td>...</td>\n",
       "      <td>...</td>\n",
       "      <td>...</td>\n",
       "      <td>...</td>\n",
       "      <td>...</td>\n",
       "      <td>...</td>\n",
       "      <td>...</td>\n",
       "      <td>...</td>\n",
       "      <td>...</td>\n",
       "      <td>...</td>\n",
       "      <td>...</td>\n",
       "      <td>...</td>\n",
       "      <td>...</td>\n",
       "      <td>...</td>\n",
       "      <td>...</td>\n",
       "    </tr>\n",
       "    <tr>\n",
       "      <th>18478</th>\n",
       "      <td>Career</td>\n",
       "      <td>31.4</td>\n",
       "      <td>57</td>\n",
       "      <td>0.7</td>\n",
       "      <td>2</td>\n",
       "      <td>NaN</td>\n",
       "      <td>NaN</td>\n",
       "      <td>NaN</td>\n",
       "      <td>12.2</td>\n",
       "      <td>33</td>\n",
       "      <td>...</td>\n",
       "      <td>0.445</td>\n",
       "      <td>17.1</td>\n",
       "      <td>16</td>\n",
       "      <td>56</td>\n",
       "      <td>0.464</td>\n",
       "      <td>26</td>\n",
       "      <td>15.0</td>\n",
       "      <td>170.0</td>\n",
       "      <td>0.7</td>\n",
       "      <td>0.092</td>\n",
       "    </tr>\n",
       "    <tr>\n",
       "      <th>18480</th>\n",
       "      <td>2021-22</td>\n",
       "      <td>7.8</td>\n",
       "      <td>8</td>\n",
       "      <td>3.9</td>\n",
       "      <td>7</td>\n",
       "      <td>NaN</td>\n",
       "      <td>horizon</td>\n",
       "      <td>NaN</td>\n",
       "      <td>21.4</td>\n",
       "      <td>35</td>\n",
       "      <td>...</td>\n",
       "      <td>0.578</td>\n",
       "      <td>21.5</td>\n",
       "      <td>13</td>\n",
       "      <td>38</td>\n",
       "      <td>0.632</td>\n",
       "      <td>24</td>\n",
       "      <td>16.1</td>\n",
       "      <td>275.0</td>\n",
       "      <td>0.7</td>\n",
       "      <td>0.139</td>\n",
       "    </tr>\n",
       "    <tr>\n",
       "      <th>18486</th>\n",
       "      <td>2021-22</td>\n",
       "      <td>2.6</td>\n",
       "      <td>1</td>\n",
       "      <td>0.0</td>\n",
       "      <td>0</td>\n",
       "      <td>NaN</td>\n",
       "      <td>horizon</td>\n",
       "      <td>NaN</td>\n",
       "      <td>19.6</td>\n",
       "      <td>13</td>\n",
       "      <td>...</td>\n",
       "      <td>0.529</td>\n",
       "      <td>9.3</td>\n",
       "      <td>3</td>\n",
       "      <td>18</td>\n",
       "      <td>0.500</td>\n",
       "      <td>9</td>\n",
       "      <td>21.1</td>\n",
       "      <td>200.0</td>\n",
       "      <td>0.2</td>\n",
       "      <td>0.106</td>\n",
       "    </tr>\n",
       "    <tr>\n",
       "      <th>18488</th>\n",
       "      <td>2021-22</td>\n",
       "      <td>6.9</td>\n",
       "      <td>3</td>\n",
       "      <td>4.3</td>\n",
       "      <td>3</td>\n",
       "      <td>NaN</td>\n",
       "      <td>horizon</td>\n",
       "      <td>NaN</td>\n",
       "      <td>7.8</td>\n",
       "      <td>5</td>\n",
       "      <td>...</td>\n",
       "      <td>0.599</td>\n",
       "      <td>25.9</td>\n",
       "      <td>7</td>\n",
       "      <td>11</td>\n",
       "      <td>0.545</td>\n",
       "      <td>6</td>\n",
       "      <td>18.4</td>\n",
       "      <td>225.0</td>\n",
       "      <td>0.2</td>\n",
       "      <td>0.109</td>\n",
       "    </tr>\n",
       "    <tr>\n",
       "      <th>18489</th>\n",
       "      <td>Career</td>\n",
       "      <td>6.9</td>\n",
       "      <td>3</td>\n",
       "      <td>4.3</td>\n",
       "      <td>3</td>\n",
       "      <td>NaN</td>\n",
       "      <td>NaN</td>\n",
       "      <td>NaN</td>\n",
       "      <td>7.8</td>\n",
       "      <td>5</td>\n",
       "      <td>...</td>\n",
       "      <td>0.599</td>\n",
       "      <td>25.9</td>\n",
       "      <td>7</td>\n",
       "      <td>11</td>\n",
       "      <td>0.545</td>\n",
       "      <td>6</td>\n",
       "      <td>18.4</td>\n",
       "      <td>225.0</td>\n",
       "      <td>0.2</td>\n",
       "      <td>0.109</td>\n",
       "    </tr>\n",
       "  </tbody>\n",
       "</table>\n",
       "<p>6486 rows × 52 columns</p>\n",
       "</div>"
      ],
      "text/plain": [
       "          year  assist_percentage  assists  block_percentage  blocks  \\\n",
       "2      2021-22               12.7       45               1.0       5   \n",
       "6      2021-22               19.5       45               3.7      14   \n",
       "10     2021-22               10.4       34               0.2       1   \n",
       "13     2021-22               11.2       35               3.3      15   \n",
       "18     2021-22               17.0       43               0.3       1   \n",
       "...        ...                ...      ...               ...     ...   \n",
       "18478   Career               31.4       57               0.7       2   \n",
       "18480  2021-22                7.8        8               3.9       7   \n",
       "18486  2021-22                2.6        1               0.0       0   \n",
       "18488  2021-22                6.9        3               4.3       3   \n",
       "18489   Career                6.9        3               4.3       3   \n",
       "\n",
       "       box_plus_minus conference  defensive_box_plus_minus  \\\n",
       "2                 NaN        wac                       NaN   \n",
       "6                 NaN        wac                       NaN   \n",
       "10                NaN        wac                       NaN   \n",
       "13                NaN        wac                       NaN   \n",
       "18                NaN        wac                       NaN   \n",
       "...               ...        ...                       ...   \n",
       "18478             NaN        NaN                       NaN   \n",
       "18480             NaN    horizon                       NaN   \n",
       "18486             NaN    horizon                       NaN   \n",
       "18488             NaN    horizon                       NaN   \n",
       "18489             NaN        NaN                       NaN   \n",
       "\n",
       "       defensive_rebound_percentage  defensive_rebounds  ...  \\\n",
       "2                               8.5                  45  ...   \n",
       "6                              26.0                 101  ...   \n",
       "10                             11.7                  56  ...   \n",
       "13                             16.7                  77  ...   \n",
       "18                             15.3                  55  ...   \n",
       "...                             ...                 ...  ...   \n",
       "18478                          12.2                  33  ...   \n",
       "18480                          21.4                  35  ...   \n",
       "18486                          19.6                  13  ...   \n",
       "18488                           7.8                   5  ...   \n",
       "18489                           7.8                   5  ...   \n",
       "\n",
       "       true_shooting_percentage  turnover_percentage  turnovers  \\\n",
       "2                         0.590                 11.3         35   \n",
       "6                         0.563                 15.3         46   \n",
       "10                        0.553                 11.6         32   \n",
       "13                        0.533                  9.6         23   \n",
       "18                        0.587                 15.2         27   \n",
       "...                         ...                  ...        ...   \n",
       "18478                     0.445                 17.1         16   \n",
       "18480                     0.578                 21.5         13   \n",
       "18486                     0.529                  9.3          3   \n",
       "18488                     0.599                 25.9          7   \n",
       "18489                     0.599                 25.9          7   \n",
       "\n",
       "       two_point_attempts  two_point_percentage  two_pointers  \\\n",
       "2                     148                 0.507            75   \n",
       "6                     147                 0.578            85   \n",
       "10                    113                 0.558            63   \n",
       "13                    117                 0.581            68   \n",
       "18                     82                 0.561            46   \n",
       "...                   ...                   ...           ...   \n",
       "18478                  56                 0.464            26   \n",
       "18480                  38                 0.632            24   \n",
       "18486                  18                 0.500             9   \n",
       "18488                  11                 0.545             6   \n",
       "18489                  11                 0.545             6   \n",
       "\n",
       "       usage_percentage  weight  win_shares  win_shares_per_40_minutes  \n",
       "2                  21.4   190.0         3.1                      0.179  \n",
       "6                  28.3   264.0         2.8                      0.222  \n",
       "10                 21.0   184.0         2.6                      0.167  \n",
       "13                 19.0   205.0         2.4                      0.159  \n",
       "18                 18.0   210.0         2.3                      0.192  \n",
       "...                 ...     ...         ...                        ...  \n",
       "18478              15.0   170.0         0.7                      0.092  \n",
       "18480              16.1   275.0         0.7                      0.139  \n",
       "18486              21.1   200.0         0.2                      0.106  \n",
       "18488              18.4   225.0         0.2                      0.109  \n",
       "18489              18.4   225.0         0.2                      0.109  \n",
       "\n",
       "[6486 rows x 52 columns]"
      ]
     },
     "execution_count": 55,
     "metadata": {},
     "output_type": "execute_result"
    }
   ],
   "source": [
    "data[data[\"box_plus_minus\"].isnull()]"
   ]
  },
  {
   "cell_type": "code",
   "execution_count": 56,
   "metadata": {},
   "outputs": [
    {
     "data": {
      "text/plain": [
       "count    18494.000000\n",
       "mean       206.388991\n",
       "std        264.031843\n",
       "min          0.000000\n",
       "25%         31.000000\n",
       "50%        128.000000\n",
       "75%        276.000000\n",
       "max       2693.000000\n",
       "Name: points, dtype: float64"
      ]
     },
     "execution_count": 56,
     "metadata": {},
     "output_type": "execute_result"
    }
   ],
   "source": [
    "data[\"points\"].describe()"
   ]
  },
  {
   "cell_type": "markdown",
   "metadata": {},
   "source": [
    "## Drop career from year col"
   ]
  },
  {
   "cell_type": "code",
   "execution_count": 57,
   "metadata": {},
   "outputs": [
    {
     "data": {
      "text/html": [
       "<div>\n",
       "<style scoped>\n",
       "    .dataframe tbody tr th:only-of-type {\n",
       "        vertical-align: middle;\n",
       "    }\n",
       "\n",
       "    .dataframe tbody tr th {\n",
       "        vertical-align: top;\n",
       "    }\n",
       "\n",
       "    .dataframe thead th {\n",
       "        text-align: right;\n",
       "    }\n",
       "</style>\n",
       "<table border=\"1\" class=\"dataframe\">\n",
       "  <thead>\n",
       "    <tr style=\"text-align: right;\">\n",
       "      <th></th>\n",
       "      <th>assist_percentage</th>\n",
       "      <th>assists</th>\n",
       "      <th>block_percentage</th>\n",
       "      <th>blocks</th>\n",
       "      <th>box_plus_minus</th>\n",
       "      <th>conference</th>\n",
       "      <th>defensive_box_plus_minus</th>\n",
       "      <th>defensive_rebound_percentage</th>\n",
       "      <th>defensive_rebounds</th>\n",
       "      <th>defensive_win_shares</th>\n",
       "      <th>...</th>\n",
       "      <th>true_shooting_percentage</th>\n",
       "      <th>turnover_percentage</th>\n",
       "      <th>turnovers</th>\n",
       "      <th>two_point_attempts</th>\n",
       "      <th>two_point_percentage</th>\n",
       "      <th>two_pointers</th>\n",
       "      <th>usage_percentage</th>\n",
       "      <th>weight</th>\n",
       "      <th>win_shares</th>\n",
       "      <th>win_shares_per_40_minutes</th>\n",
       "    </tr>\n",
       "    <tr>\n",
       "      <th>year</th>\n",
       "      <th></th>\n",
       "      <th></th>\n",
       "      <th></th>\n",
       "      <th></th>\n",
       "      <th></th>\n",
       "      <th></th>\n",
       "      <th></th>\n",
       "      <th></th>\n",
       "      <th></th>\n",
       "      <th></th>\n",
       "      <th></th>\n",
       "      <th></th>\n",
       "      <th></th>\n",
       "      <th></th>\n",
       "      <th></th>\n",
       "      <th></th>\n",
       "      <th></th>\n",
       "      <th></th>\n",
       "      <th></th>\n",
       "      <th></th>\n",
       "      <th></th>\n",
       "    </tr>\n",
       "  </thead>\n",
       "  <tbody>\n",
       "    <tr>\n",
       "      <th>2019-20</th>\n",
       "      <td>14.7</td>\n",
       "      <td>58</td>\n",
       "      <td>1.1</td>\n",
       "      <td>7</td>\n",
       "      <td>0.1</td>\n",
       "      <td>southland</td>\n",
       "      <td>0.5</td>\n",
       "      <td>8.1</td>\n",
       "      <td>47</td>\n",
       "      <td>1.5</td>\n",
       "      <td>...</td>\n",
       "      <td>0.583</td>\n",
       "      <td>13.3</td>\n",
       "      <td>36</td>\n",
       "      <td>131</td>\n",
       "      <td>0.557</td>\n",
       "      <td>73</td>\n",
       "      <td>17.6</td>\n",
       "      <td>190.0</td>\n",
       "      <td>3.4</td>\n",
       "      <td>0.178</td>\n",
       "    </tr>\n",
       "    <tr>\n",
       "      <th>2020-21</th>\n",
       "      <td>17.1</td>\n",
       "      <td>60</td>\n",
       "      <td>1.1</td>\n",
       "      <td>6</td>\n",
       "      <td>2.0</td>\n",
       "      <td>southland</td>\n",
       "      <td>1.2</td>\n",
       "      <td>7.0</td>\n",
       "      <td>39</td>\n",
       "      <td>1.6</td>\n",
       "      <td>...</td>\n",
       "      <td>0.552</td>\n",
       "      <td>12.1</td>\n",
       "      <td>33</td>\n",
       "      <td>134</td>\n",
       "      <td>0.500</td>\n",
       "      <td>67</td>\n",
       "      <td>19.9</td>\n",
       "      <td>190.0</td>\n",
       "      <td>3.0</td>\n",
       "      <td>0.183</td>\n",
       "    </tr>\n",
       "    <tr>\n",
       "      <th>2021-22</th>\n",
       "      <td>12.7</td>\n",
       "      <td>45</td>\n",
       "      <td>1.0</td>\n",
       "      <td>5</td>\n",
       "      <td>NaN</td>\n",
       "      <td>wac</td>\n",
       "      <td>NaN</td>\n",
       "      <td>8.5</td>\n",
       "      <td>45</td>\n",
       "      <td>1.3</td>\n",
       "      <td>...</td>\n",
       "      <td>0.590</td>\n",
       "      <td>11.3</td>\n",
       "      <td>35</td>\n",
       "      <td>148</td>\n",
       "      <td>0.507</td>\n",
       "      <td>75</td>\n",
       "      <td>21.4</td>\n",
       "      <td>190.0</td>\n",
       "      <td>3.1</td>\n",
       "      <td>0.179</td>\n",
       "    </tr>\n",
       "    <tr>\n",
       "      <th>2019-20</th>\n",
       "      <td>10.7</td>\n",
       "      <td>23</td>\n",
       "      <td>2.8</td>\n",
       "      <td>10</td>\n",
       "      <td>0.7</td>\n",
       "      <td>southland</td>\n",
       "      <td>1.6</td>\n",
       "      <td>25.9</td>\n",
       "      <td>87</td>\n",
       "      <td>1.2</td>\n",
       "      <td>...</td>\n",
       "      <td>0.533</td>\n",
       "      <td>17.4</td>\n",
       "      <td>33</td>\n",
       "      <td>103</td>\n",
       "      <td>0.524</td>\n",
       "      <td>54</td>\n",
       "      <td>21.3</td>\n",
       "      <td>264.0</td>\n",
       "      <td>1.8</td>\n",
       "      <td>0.170</td>\n",
       "    </tr>\n",
       "    <tr>\n",
       "      <th>2020-21</th>\n",
       "      <td>13.4</td>\n",
       "      <td>31</td>\n",
       "      <td>2.5</td>\n",
       "      <td>9</td>\n",
       "      <td>1.8</td>\n",
       "      <td>southland</td>\n",
       "      <td>3.3</td>\n",
       "      <td>24.0</td>\n",
       "      <td>89</td>\n",
       "      <td>1.6</td>\n",
       "      <td>...</td>\n",
       "      <td>0.552</td>\n",
       "      <td>17.7</td>\n",
       "      <td>34</td>\n",
       "      <td>94</td>\n",
       "      <td>0.521</td>\n",
       "      <td>49</td>\n",
       "      <td>21.0</td>\n",
       "      <td>264.0</td>\n",
       "      <td>2.2</td>\n",
       "      <td>0.205</td>\n",
       "    </tr>\n",
       "    <tr>\n",
       "      <th>...</th>\n",
       "      <td>...</td>\n",
       "      <td>...</td>\n",
       "      <td>...</td>\n",
       "      <td>...</td>\n",
       "      <td>...</td>\n",
       "      <td>...</td>\n",
       "      <td>...</td>\n",
       "      <td>...</td>\n",
       "      <td>...</td>\n",
       "      <td>...</td>\n",
       "      <td>...</td>\n",
       "      <td>...</td>\n",
       "      <td>...</td>\n",
       "      <td>...</td>\n",
       "      <td>...</td>\n",
       "      <td>...</td>\n",
       "      <td>...</td>\n",
       "      <td>...</td>\n",
       "      <td>...</td>\n",
       "      <td>...</td>\n",
       "      <td>...</td>\n",
       "    </tr>\n",
       "    <tr>\n",
       "      <th>2020-21</th>\n",
       "      <td>9.6</td>\n",
       "      <td>38</td>\n",
       "      <td>0.0</td>\n",
       "      <td>0</td>\n",
       "      <td>0.7</td>\n",
       "      <td>horizon</td>\n",
       "      <td>-1.3</td>\n",
       "      <td>9.4</td>\n",
       "      <td>61</td>\n",
       "      <td>0.8</td>\n",
       "      <td>...</td>\n",
       "      <td>0.589</td>\n",
       "      <td>13.0</td>\n",
       "      <td>41</td>\n",
       "      <td>152</td>\n",
       "      <td>0.586</td>\n",
       "      <td>89</td>\n",
       "      <td>19.7</td>\n",
       "      <td>200.0</td>\n",
       "      <td>3.0</td>\n",
       "      <td>0.152</td>\n",
       "    </tr>\n",
       "    <tr>\n",
       "      <th>2021-22</th>\n",
       "      <td>2.6</td>\n",
       "      <td>1</td>\n",
       "      <td>0.0</td>\n",
       "      <td>0</td>\n",
       "      <td>NaN</td>\n",
       "      <td>horizon</td>\n",
       "      <td>NaN</td>\n",
       "      <td>19.6</td>\n",
       "      <td>13</td>\n",
       "      <td>0.1</td>\n",
       "      <td>...</td>\n",
       "      <td>0.529</td>\n",
       "      <td>9.3</td>\n",
       "      <td>3</td>\n",
       "      <td>18</td>\n",
       "      <td>0.500</td>\n",
       "      <td>9</td>\n",
       "      <td>21.1</td>\n",
       "      <td>200.0</td>\n",
       "      <td>0.2</td>\n",
       "      <td>0.106</td>\n",
       "    </tr>\n",
       "    <tr>\n",
       "      <th>2021-22</th>\n",
       "      <td>6.9</td>\n",
       "      <td>3</td>\n",
       "      <td>4.3</td>\n",
       "      <td>3</td>\n",
       "      <td>NaN</td>\n",
       "      <td>horizon</td>\n",
       "      <td>NaN</td>\n",
       "      <td>7.8</td>\n",
       "      <td>5</td>\n",
       "      <td>0.1</td>\n",
       "      <td>...</td>\n",
       "      <td>0.599</td>\n",
       "      <td>25.9</td>\n",
       "      <td>7</td>\n",
       "      <td>11</td>\n",
       "      <td>0.545</td>\n",
       "      <td>6</td>\n",
       "      <td>18.4</td>\n",
       "      <td>225.0</td>\n",
       "      <td>0.2</td>\n",
       "      <td>0.109</td>\n",
       "    </tr>\n",
       "    <tr>\n",
       "      <th>2020-21</th>\n",
       "      <td>0.0</td>\n",
       "      <td>0</td>\n",
       "      <td>0.0</td>\n",
       "      <td>0</td>\n",
       "      <td>-3.8</td>\n",
       "      <td>horizon</td>\n",
       "      <td>-2.1</td>\n",
       "      <td>9.8</td>\n",
       "      <td>3</td>\n",
       "      <td>0.0</td>\n",
       "      <td>...</td>\n",
       "      <td>0.458</td>\n",
       "      <td>7.7</td>\n",
       "      <td>1</td>\n",
       "      <td>5</td>\n",
       "      <td>0.200</td>\n",
       "      <td>1</td>\n",
       "      <td>17.2</td>\n",
       "      <td>195.0</td>\n",
       "      <td>0.0</td>\n",
       "      <td>0.052</td>\n",
       "    </tr>\n",
       "    <tr>\n",
       "      <th>2020-21</th>\n",
       "      <td>7.4</td>\n",
       "      <td>12</td>\n",
       "      <td>1.1</td>\n",
       "      <td>3</td>\n",
       "      <td>-5.7</td>\n",
       "      <td>horizon</td>\n",
       "      <td>-3.1</td>\n",
       "      <td>10.4</td>\n",
       "      <td>26</td>\n",
       "      <td>0.2</td>\n",
       "      <td>...</td>\n",
       "      <td>0.441</td>\n",
       "      <td>9.8</td>\n",
       "      <td>13</td>\n",
       "      <td>49</td>\n",
       "      <td>0.347</td>\n",
       "      <td>17</td>\n",
       "      <td>21.3</td>\n",
       "      <td>200.0</td>\n",
       "      <td>0.4</td>\n",
       "      <td>0.058</td>\n",
       "    </tr>\n",
       "  </tbody>\n",
       "</table>\n",
       "<p>13170 rows × 51 columns</p>\n",
       "</div>"
      ],
      "text/plain": [
       "         assist_percentage  assists  block_percentage  blocks  box_plus_minus  \\\n",
       "year                                                                            \n",
       "2019-20               14.7       58               1.1       7             0.1   \n",
       "2020-21               17.1       60               1.1       6             2.0   \n",
       "2021-22               12.7       45               1.0       5             NaN   \n",
       "2019-20               10.7       23               2.8      10             0.7   \n",
       "2020-21               13.4       31               2.5       9             1.8   \n",
       "...                    ...      ...               ...     ...             ...   \n",
       "2020-21                9.6       38               0.0       0             0.7   \n",
       "2021-22                2.6        1               0.0       0             NaN   \n",
       "2021-22                6.9        3               4.3       3             NaN   \n",
       "2020-21                0.0        0               0.0       0            -3.8   \n",
       "2020-21                7.4       12               1.1       3            -5.7   \n",
       "\n",
       "        conference  defensive_box_plus_minus  defensive_rebound_percentage  \\\n",
       "year                                                                         \n",
       "2019-20  southland                       0.5                           8.1   \n",
       "2020-21  southland                       1.2                           7.0   \n",
       "2021-22        wac                       NaN                           8.5   \n",
       "2019-20  southland                       1.6                          25.9   \n",
       "2020-21  southland                       3.3                          24.0   \n",
       "...            ...                       ...                           ...   \n",
       "2020-21    horizon                      -1.3                           9.4   \n",
       "2021-22    horizon                       NaN                          19.6   \n",
       "2021-22    horizon                       NaN                           7.8   \n",
       "2020-21    horizon                      -2.1                           9.8   \n",
       "2020-21    horizon                      -3.1                          10.4   \n",
       "\n",
       "         defensive_rebounds  defensive_win_shares  ...  \\\n",
       "year                                               ...   \n",
       "2019-20                  47                   1.5  ...   \n",
       "2020-21                  39                   1.6  ...   \n",
       "2021-22                  45                   1.3  ...   \n",
       "2019-20                  87                   1.2  ...   \n",
       "2020-21                  89                   1.6  ...   \n",
       "...                     ...                   ...  ...   \n",
       "2020-21                  61                   0.8  ...   \n",
       "2021-22                  13                   0.1  ...   \n",
       "2021-22                   5                   0.1  ...   \n",
       "2020-21                   3                   0.0  ...   \n",
       "2020-21                  26                   0.2  ...   \n",
       "\n",
       "         true_shooting_percentage  turnover_percentage  turnovers  \\\n",
       "year                                                                \n",
       "2019-20                     0.583                 13.3         36   \n",
       "2020-21                     0.552                 12.1         33   \n",
       "2021-22                     0.590                 11.3         35   \n",
       "2019-20                     0.533                 17.4         33   \n",
       "2020-21                     0.552                 17.7         34   \n",
       "...                           ...                  ...        ...   \n",
       "2020-21                     0.589                 13.0         41   \n",
       "2021-22                     0.529                  9.3          3   \n",
       "2021-22                     0.599                 25.9          7   \n",
       "2020-21                     0.458                  7.7          1   \n",
       "2020-21                     0.441                  9.8         13   \n",
       "\n",
       "         two_point_attempts  two_point_percentage  two_pointers  \\\n",
       "year                                                              \n",
       "2019-20                 131                 0.557            73   \n",
       "2020-21                 134                 0.500            67   \n",
       "2021-22                 148                 0.507            75   \n",
       "2019-20                 103                 0.524            54   \n",
       "2020-21                  94                 0.521            49   \n",
       "...                     ...                   ...           ...   \n",
       "2020-21                 152                 0.586            89   \n",
       "2021-22                  18                 0.500             9   \n",
       "2021-22                  11                 0.545             6   \n",
       "2020-21                   5                 0.200             1   \n",
       "2020-21                  49                 0.347            17   \n",
       "\n",
       "         usage_percentage  weight  win_shares  win_shares_per_40_minutes  \n",
       "year                                                                      \n",
       "2019-20              17.6   190.0         3.4                      0.178  \n",
       "2020-21              19.9   190.0         3.0                      0.183  \n",
       "2021-22              21.4   190.0         3.1                      0.179  \n",
       "2019-20              21.3   264.0         1.8                      0.170  \n",
       "2020-21              21.0   264.0         2.2                      0.205  \n",
       "...                   ...     ...         ...                        ...  \n",
       "2020-21              19.7   200.0         3.0                      0.152  \n",
       "2021-22              21.1   200.0         0.2                      0.106  \n",
       "2021-22              18.4   225.0         0.2                      0.109  \n",
       "2020-21              17.2   195.0         0.0                      0.052  \n",
       "2020-21              21.3   200.0         0.4                      0.058  \n",
       "\n",
       "[13170 rows x 51 columns]"
      ]
     },
     "execution_count": 57,
     "metadata": {},
     "output_type": "execute_result"
    }
   ],
   "source": [
    "data_with_index = data.set_index(\"year\")\n",
    "data_with_index = data_with_index.drop(\"Career\")\n",
    "data_with_index\n"
   ]
  },
  {
   "cell_type": "markdown",
   "metadata": {},
   "source": [
    "# Installing depedency"
   ]
  },
  {
   "cell_type": "code",
   "execution_count": 58,
   "metadata": {},
   "outputs": [
    {
     "name": "stdout",
     "output_type": "stream",
     "text": [
      "\u001b[33mDEPRECATION: Configuring installation scheme with distutils config files is deprecated and will no longer work in the near future. If you are using a Homebrew or Linuxbrew Python, please see discussion at https://github.com/Homebrew/homebrew-core/issues/76621\u001b[0m\u001b[33m\n",
      "\u001b[0mRequirement already satisfied: scikit-learn in /usr/local/lib/python3.9/site-packages (1.0.2)\n",
      "Requirement already satisfied: scipy>=1.1.0 in /usr/local/lib/python3.9/site-packages (from scikit-learn) (1.8.0)\n",
      "Requirement already satisfied: joblib>=0.11 in /usr/local/lib/python3.9/site-packages (from scikit-learn) (1.0.1)\n",
      "Requirement already satisfied: threadpoolctl>=2.0.0 in /usr/local/lib/python3.9/site-packages (from scikit-learn) (3.1.0)\n",
      "Requirement already satisfied: numpy>=1.14.6 in /usr/local/lib/python3.9/site-packages (from scikit-learn) (1.22.3)\n",
      "\u001b[33mDEPRECATION: Configuring installation scheme with distutils config files is deprecated and will no longer work in the near future. If you are using a Homebrew or Linuxbrew Python, please see discussion at https://github.com/Homebrew/homebrew-core/issues/76621\u001b[0m\u001b[33m\n",
      "\u001b[0m\u001b[33mDEPRECATION: Configuring installation scheme with distutils config files is deprecated and will no longer work in the near future. If you are using a Homebrew or Linuxbrew Python, please see discussion at https://github.com/Homebrew/homebrew-core/issues/76621\u001b[0m\u001b[33m\n",
      "\u001b[0mRequirement already satisfied: pandas in /usr/local/lib/python3.9/site-packages (1.4.2)\n",
      "Requirement already satisfied: pytz>=2020.1 in /usr/local/lib/python3.9/site-packages (from pandas) (2022.1)\n",
      "Requirement already satisfied: python-dateutil>=2.8.1 in /usr/local/lib/python3.9/site-packages (from pandas) (2.8.2)\n",
      "Requirement already satisfied: numpy>=1.18.5 in /usr/local/lib/python3.9/site-packages (from pandas) (1.22.3)\n",
      "Requirement already satisfied: six>=1.5 in /usr/local/lib/python3.9/site-packages (from python-dateutil>=2.8.1->pandas) (1.16.0)\n",
      "\u001b[33mDEPRECATION: Configuring installation scheme with distutils config files is deprecated and will no longer work in the near future. If you are using a Homebrew or Linuxbrew Python, please see discussion at https://github.com/Homebrew/homebrew-core/issues/76621\u001b[0m\u001b[33m\n",
      "\u001b[0m\u001b[33mDEPRECATION: Configuring installation scheme with distutils config files is deprecated and will no longer work in the near future. If you are using a Homebrew or Linuxbrew Python, please see discussion at https://github.com/Homebrew/homebrew-core/issues/76621\u001b[0m\u001b[33m\n",
      "\u001b[0mRequirement already satisfied: numpy in /usr/local/lib/python3.9/site-packages (1.22.3)\n",
      "\u001b[33mDEPRECATION: Configuring installation scheme with distutils config files is deprecated and will no longer work in the near future. If you are using a Homebrew or Linuxbrew Python, please see discussion at https://github.com/Homebrew/homebrew-core/issues/76621\u001b[0m\u001b[33m\n",
      "\u001b[0m\u001b[33mDEPRECATION: Configuring installation scheme with distutils config files is deprecated and will no longer work in the near future. If you are using a Homebrew or Linuxbrew Python, please see discussion at https://github.com/Homebrew/homebrew-core/issues/76621\u001b[0m\u001b[33m\n",
      "\u001b[0mRequirement already satisfied: scipy in /usr/local/lib/python3.9/site-packages (1.8.0)\n",
      "Requirement already satisfied: numpy<1.25.0,>=1.17.3 in /usr/local/lib/python3.9/site-packages (from scipy) (1.22.3)\n",
      "\u001b[33mDEPRECATION: Configuring installation scheme with distutils config files is deprecated and will no longer work in the near future. If you are using a Homebrew or Linuxbrew Python, please see discussion at https://github.com/Homebrew/homebrew-core/issues/76621\u001b[0m\u001b[33m\n",
      "\u001b[0m"
     ]
    }
   ],
   "source": [
    "!pip3 install scikit-learn\n",
    "!pip3 install pandas\n",
    "!pip3 install numpy\n",
    "!pip3 install scipy\n"
   ]
  },
  {
   "cell_type": "code",
   "execution_count": 59,
   "metadata": {},
   "outputs": [
    {
     "data": {
      "text/html": [
       "<div>\n",
       "<style scoped>\n",
       "    .dataframe tbody tr th:only-of-type {\n",
       "        vertical-align: middle;\n",
       "    }\n",
       "\n",
       "    .dataframe tbody tr th {\n",
       "        vertical-align: top;\n",
       "    }\n",
       "\n",
       "    .dataframe thead th {\n",
       "        text-align: right;\n",
       "    }\n",
       "</style>\n",
       "<table border=\"1\" class=\"dataframe\">\n",
       "  <thead>\n",
       "    <tr style=\"text-align: right;\">\n",
       "      <th>year</th>\n",
       "      <th>2019-20</th>\n",
       "      <th>2020-21</th>\n",
       "      <th>2021-22</th>\n",
       "      <th>2019-20</th>\n",
       "      <th>2020-21</th>\n",
       "      <th>2021-22</th>\n",
       "      <th>2019-20</th>\n",
       "      <th>2020-21</th>\n",
       "      <th>2021-22</th>\n",
       "      <th>2020-21</th>\n",
       "    </tr>\n",
       "  </thead>\n",
       "  <tbody>\n",
       "    <tr>\n",
       "      <th>assist_percentage</th>\n",
       "      <td>14.7</td>\n",
       "      <td>17.1</td>\n",
       "      <td>12.7</td>\n",
       "      <td>10.7</td>\n",
       "      <td>13.4</td>\n",
       "      <td>19.5</td>\n",
       "      <td>9.7</td>\n",
       "      <td>12.2</td>\n",
       "      <td>10.4</td>\n",
       "      <td>14.4</td>\n",
       "    </tr>\n",
       "    <tr>\n",
       "      <th>assists</th>\n",
       "      <td>58.0</td>\n",
       "      <td>60.0</td>\n",
       "      <td>45.0</td>\n",
       "      <td>23.0</td>\n",
       "      <td>31.0</td>\n",
       "      <td>45.0</td>\n",
       "      <td>10.0</td>\n",
       "      <td>35.0</td>\n",
       "      <td>34.0</td>\n",
       "      <td>10.0</td>\n",
       "    </tr>\n",
       "    <tr>\n",
       "      <th>block_percentage</th>\n",
       "      <td>1.1</td>\n",
       "      <td>1.1</td>\n",
       "      <td>1.0</td>\n",
       "      <td>2.8</td>\n",
       "      <td>2.5</td>\n",
       "      <td>3.7</td>\n",
       "      <td>0.6</td>\n",
       "      <td>0.7</td>\n",
       "      <td>0.2</td>\n",
       "      <td>1.8</td>\n",
       "    </tr>\n",
       "    <tr>\n",
       "      <th>blocks</th>\n",
       "      <td>7.0</td>\n",
       "      <td>6.0</td>\n",
       "      <td>5.0</td>\n",
       "      <td>10.0</td>\n",
       "      <td>9.0</td>\n",
       "      <td>14.0</td>\n",
       "      <td>1.0</td>\n",
       "      <td>3.0</td>\n",
       "      <td>1.0</td>\n",
       "      <td>2.0</td>\n",
       "    </tr>\n",
       "    <tr>\n",
       "      <th>box_plus_minus</th>\n",
       "      <td>0.1</td>\n",
       "      <td>2.0</td>\n",
       "      <td>NaN</td>\n",
       "      <td>0.7</td>\n",
       "      <td>1.8</td>\n",
       "      <td>NaN</td>\n",
       "      <td>-7.7</td>\n",
       "      <td>0.2</td>\n",
       "      <td>NaN</td>\n",
       "      <td>1.9</td>\n",
       "    </tr>\n",
       "    <tr>\n",
       "      <th>conference</th>\n",
       "      <td>southland</td>\n",
       "      <td>southland</td>\n",
       "      <td>wac</td>\n",
       "      <td>southland</td>\n",
       "      <td>southland</td>\n",
       "      <td>wac</td>\n",
       "      <td>southland</td>\n",
       "      <td>southland</td>\n",
       "      <td>wac</td>\n",
       "      <td>southland</td>\n",
       "    </tr>\n",
       "    <tr>\n",
       "      <th>defensive_box_plus_minus</th>\n",
       "      <td>0.5</td>\n",
       "      <td>1.2</td>\n",
       "      <td>NaN</td>\n",
       "      <td>1.6</td>\n",
       "      <td>3.3</td>\n",
       "      <td>NaN</td>\n",
       "      <td>-1.7</td>\n",
       "      <td>1.7</td>\n",
       "      <td>NaN</td>\n",
       "      <td>0.2</td>\n",
       "    </tr>\n",
       "    <tr>\n",
       "      <th>defensive_rebound_percentage</th>\n",
       "      <td>8.1</td>\n",
       "      <td>7.0</td>\n",
       "      <td>8.5</td>\n",
       "      <td>25.9</td>\n",
       "      <td>24.0</td>\n",
       "      <td>26.0</td>\n",
       "      <td>8.8</td>\n",
       "      <td>9.7</td>\n",
       "      <td>11.7</td>\n",
       "      <td>20.1</td>\n",
       "    </tr>\n",
       "    <tr>\n",
       "      <th>defensive_rebounds</th>\n",
       "      <td>47.0</td>\n",
       "      <td>39.0</td>\n",
       "      <td>45.0</td>\n",
       "      <td>87.0</td>\n",
       "      <td>89.0</td>\n",
       "      <td>101.0</td>\n",
       "      <td>13.0</td>\n",
       "      <td>43.0</td>\n",
       "      <td>56.0</td>\n",
       "      <td>23.0</td>\n",
       "    </tr>\n",
       "    <tr>\n",
       "      <th>defensive_win_shares</th>\n",
       "      <td>1.5</td>\n",
       "      <td>1.6</td>\n",
       "      <td>1.3</td>\n",
       "      <td>1.2</td>\n",
       "      <td>1.6</td>\n",
       "      <td>1.6</td>\n",
       "      <td>0.4</td>\n",
       "      <td>1.4</td>\n",
       "      <td>1.5</td>\n",
       "      <td>0.4</td>\n",
       "    </tr>\n",
       "    <tr>\n",
       "      <th>effective_field_goal_percentage</th>\n",
       "      <td>0.531</td>\n",
       "      <td>0.524</td>\n",
       "      <td>0.531</td>\n",
       "      <td>0.522</td>\n",
       "      <td>0.529</td>\n",
       "      <td>0.546</td>\n",
       "      <td>0.417</td>\n",
       "      <td>0.537</td>\n",
       "      <td>0.495</td>\n",
       "      <td>0.565</td>\n",
       "    </tr>\n",
       "    <tr>\n",
       "      <th>field_goal_attempts</th>\n",
       "      <td>191.0</td>\n",
       "      <td>205.0</td>\n",
       "      <td>226.0</td>\n",
       "      <td>138.0</td>\n",
       "      <td>138.0</td>\n",
       "      <td>219.0</td>\n",
       "      <td>60.0</td>\n",
       "      <td>150.0</td>\n",
       "      <td>209.0</td>\n",
       "      <td>46.0</td>\n",
       "    </tr>\n",
       "    <tr>\n",
       "      <th>field_goal_percentage</th>\n",
       "      <td>0.482</td>\n",
       "      <td>0.459</td>\n",
       "      <td>0.465</td>\n",
       "      <td>0.478</td>\n",
       "      <td>0.471</td>\n",
       "      <td>0.493</td>\n",
       "      <td>0.333</td>\n",
       "      <td>0.44</td>\n",
       "      <td>0.431</td>\n",
       "      <td>0.478</td>\n",
       "    </tr>\n",
       "    <tr>\n",
       "      <th>field_goals</th>\n",
       "      <td>92.0</td>\n",
       "      <td>94.0</td>\n",
       "      <td>105.0</td>\n",
       "      <td>66.0</td>\n",
       "      <td>65.0</td>\n",
       "      <td>108.0</td>\n",
       "      <td>20.0</td>\n",
       "      <td>66.0</td>\n",
       "      <td>90.0</td>\n",
       "      <td>22.0</td>\n",
       "    </tr>\n",
       "    <tr>\n",
       "      <th>free_throw_attempt_rate</th>\n",
       "      <td>0.487</td>\n",
       "      <td>0.361</td>\n",
       "      <td>0.451</td>\n",
       "      <td>0.283</td>\n",
       "      <td>0.312</td>\n",
       "      <td>0.347</td>\n",
       "      <td>0.283</td>\n",
       "      <td>0.307</td>\n",
       "      <td>0.344</td>\n",
       "      <td>0.457</td>\n",
       "    </tr>\n",
       "    <tr>\n",
       "      <th>free_throw_attempts</th>\n",
       "      <td>93.0</td>\n",
       "      <td>74.0</td>\n",
       "      <td>102.0</td>\n",
       "      <td>39.0</td>\n",
       "      <td>43.0</td>\n",
       "      <td>76.0</td>\n",
       "      <td>17.0</td>\n",
       "      <td>46.0</td>\n",
       "      <td>72.0</td>\n",
       "      <td>21.0</td>\n",
       "    </tr>\n",
       "    <tr>\n",
       "      <th>free_throw_percentage</th>\n",
       "      <td>0.763</td>\n",
       "      <td>0.676</td>\n",
       "      <td>0.824</td>\n",
       "      <td>0.59</td>\n",
       "      <td>0.674</td>\n",
       "      <td>0.632</td>\n",
       "      <td>0.824</td>\n",
       "      <td>0.674</td>\n",
       "      <td>0.861</td>\n",
       "      <td>0.619</td>\n",
       "    </tr>\n",
       "    <tr>\n",
       "      <th>free_throws</th>\n",
       "      <td>71.0</td>\n",
       "      <td>50.0</td>\n",
       "      <td>84.0</td>\n",
       "      <td>23.0</td>\n",
       "      <td>29.0</td>\n",
       "      <td>48.0</td>\n",
       "      <td>14.0</td>\n",
       "      <td>31.0</td>\n",
       "      <td>62.0</td>\n",
       "      <td>13.0</td>\n",
       "    </tr>\n",
       "    <tr>\n",
       "      <th>games_played</th>\n",
       "      <td>31.0</td>\n",
       "      <td>25.0</td>\n",
       "      <td>26.0</td>\n",
       "      <td>31.0</td>\n",
       "      <td>29.0</td>\n",
       "      <td>25.0</td>\n",
       "      <td>17.0</td>\n",
       "      <td>29.0</td>\n",
       "      <td>27.0</td>\n",
       "      <td>23.0</td>\n",
       "    </tr>\n",
       "    <tr>\n",
       "      <th>games_started</th>\n",
       "      <td>28.0</td>\n",
       "      <td>22.0</td>\n",
       "      <td>23.0</td>\n",
       "      <td>0.0</td>\n",
       "      <td>2.0</td>\n",
       "      <td>25.0</td>\n",
       "      <td>1.0</td>\n",
       "      <td>7.0</td>\n",
       "      <td>27.0</td>\n",
       "      <td>0.0</td>\n",
       "    </tr>\n",
       "    <tr>\n",
       "      <th>minutes_played</th>\n",
       "      <td>753.0</td>\n",
       "      <td>657.0</td>\n",
       "      <td>695.0</td>\n",
       "      <td>434.0</td>\n",
       "      <td>438.0</td>\n",
       "      <td>512.0</td>\n",
       "      <td>191.0</td>\n",
       "      <td>522.0</td>\n",
       "      <td>629.0</td>\n",
       "      <td>135.0</td>\n",
       "    </tr>\n",
       "    <tr>\n",
       "      <th>offensive_box_plus_minus</th>\n",
       "      <td>-0.4</td>\n",
       "      <td>0.7</td>\n",
       "      <td>NaN</td>\n",
       "      <td>-0.8</td>\n",
       "      <td>-1.5</td>\n",
       "      <td>NaN</td>\n",
       "      <td>-6.0</td>\n",
       "      <td>-1.5</td>\n",
       "      <td>NaN</td>\n",
       "      <td>1.7</td>\n",
       "    </tr>\n",
       "    <tr>\n",
       "      <th>offensive_rebound_percentage</th>\n",
       "      <td>4.4</td>\n",
       "      <td>2.7</td>\n",
       "      <td>1.9</td>\n",
       "      <td>10.5</td>\n",
       "      <td>6.8</td>\n",
       "      <td>10.0</td>\n",
       "      <td>8.4</td>\n",
       "      <td>2.3</td>\n",
       "      <td>2.8</td>\n",
       "      <td>4.9</td>\n",
       "    </tr>\n",
       "    <tr>\n",
       "      <th>offensive_rebounds</th>\n",
       "      <td>29.0</td>\n",
       "      <td>16.0</td>\n",
       "      <td>12.0</td>\n",
       "      <td>40.0</td>\n",
       "      <td>27.0</td>\n",
       "      <td>46.0</td>\n",
       "      <td>14.0</td>\n",
       "      <td>11.0</td>\n",
       "      <td>16.0</td>\n",
       "      <td>6.0</td>\n",
       "    </tr>\n",
       "    <tr>\n",
       "      <th>offensive_win_shares</th>\n",
       "      <td>1.8</td>\n",
       "      <td>1.4</td>\n",
       "      <td>1.8</td>\n",
       "      <td>0.6</td>\n",
       "      <td>0.6</td>\n",
       "      <td>1.2</td>\n",
       "      <td>0.1</td>\n",
       "      <td>0.6</td>\n",
       "      <td>1.2</td>\n",
       "      <td>0.4</td>\n",
       "    </tr>\n",
       "    <tr>\n",
       "      <th>personal_fouls</th>\n",
       "      <td>90.0</td>\n",
       "      <td>51.0</td>\n",
       "      <td>68.0</td>\n",
       "      <td>63.0</td>\n",
       "      <td>69.0</td>\n",
       "      <td>75.0</td>\n",
       "      <td>22.0</td>\n",
       "      <td>59.0</td>\n",
       "      <td>72.0</td>\n",
       "      <td>20.0</td>\n",
       "    </tr>\n",
       "    <tr>\n",
       "      <th>player_efficiency_rating</th>\n",
       "      <td>16.8</td>\n",
       "      <td>15.7</td>\n",
       "      <td>16.9</td>\n",
       "      <td>19.0</td>\n",
       "      <td>18.6</td>\n",
       "      <td>25.5</td>\n",
       "      <td>12.1</td>\n",
       "      <td>12.7</td>\n",
       "      <td>16.0</td>\n",
       "      <td>18.1</td>\n",
       "    </tr>\n",
       "    <tr>\n",
       "      <th>player_id</th>\n",
       "      <td>coryon-mason-1</td>\n",
       "      <td>coryon-mason-1</td>\n",
       "      <td>coryon-mason-1</td>\n",
       "      <td>airion-simmons-1</td>\n",
       "      <td>airion-simmons-1</td>\n",
       "      <td>airion-simmons-1</td>\n",
       "      <td>mahki-morris-1</td>\n",
       "      <td>mahki-morris-1</td>\n",
       "      <td>mahki-morris-1</td>\n",
       "      <td>cameron-steele-1</td>\n",
       "    </tr>\n",
       "    <tr>\n",
       "      <th>points_produced</th>\n",
       "      <td>271.0</td>\n",
       "      <td>250.0</td>\n",
       "      <td>293.0</td>\n",
       "      <td>167.0</td>\n",
       "      <td>167.0</td>\n",
       "      <td>278.0</td>\n",
       "      <td>66.0</td>\n",
       "      <td>173.0</td>\n",
       "      <td>246.0</td>\n",
       "      <td>59.0</td>\n",
       "    </tr>\n",
       "    <tr>\n",
       "      <th>position</th>\n",
       "      <td>Guard</td>\n",
       "      <td>Guard</td>\n",
       "      <td>Guard</td>\n",
       "      <td>Forward</td>\n",
       "      <td>Forward</td>\n",
       "      <td>Forward</td>\n",
       "      <td>Guard</td>\n",
       "      <td>Guard</td>\n",
       "      <td>Guard</td>\n",
       "      <td>Forward</td>\n",
       "    </tr>\n",
       "    <tr>\n",
       "      <th>steal_percentage</th>\n",
       "      <td>2.8</td>\n",
       "      <td>2.0</td>\n",
       "      <td>1.8</td>\n",
       "      <td>3.6</td>\n",
       "      <td>4.2</td>\n",
       "      <td>4.5</td>\n",
       "      <td>3.8</td>\n",
       "      <td>2.6</td>\n",
       "      <td>3.3</td>\n",
       "      <td>0.4</td>\n",
       "    </tr>\n",
       "    <tr>\n",
       "      <th>steals</th>\n",
       "      <td>37.0</td>\n",
       "      <td>24.0</td>\n",
       "      <td>23.0</td>\n",
       "      <td>28.0</td>\n",
       "      <td>33.0</td>\n",
       "      <td>42.0</td>\n",
       "      <td>13.0</td>\n",
       "      <td>24.0</td>\n",
       "      <td>38.0</td>\n",
       "      <td>1.0</td>\n",
       "    </tr>\n",
       "    <tr>\n",
       "      <th>team_abbreviation</th>\n",
       "      <td>abilene-christian</td>\n",
       "      <td>abilene-christian</td>\n",
       "      <td>abilene-christian</td>\n",
       "      <td>abilene-christian</td>\n",
       "      <td>abilene-christian</td>\n",
       "      <td>abilene-christian</td>\n",
       "      <td>abilene-christian</td>\n",
       "      <td>abilene-christian</td>\n",
       "      <td>abilene-christian</td>\n",
       "      <td>abilene-christian</td>\n",
       "    </tr>\n",
       "    <tr>\n",
       "      <th>three_point_attempt_rate</th>\n",
       "      <td>0.314</td>\n",
       "      <td>0.346</td>\n",
       "      <td>0.345</td>\n",
       "      <td>0.254</td>\n",
       "      <td>0.319</td>\n",
       "      <td>0.329</td>\n",
       "      <td>0.617</td>\n",
       "      <td>0.533</td>\n",
       "      <td>0.459</td>\n",
       "      <td>0.457</td>\n",
       "    </tr>\n",
       "    <tr>\n",
       "      <th>three_point_attempts</th>\n",
       "      <td>60.0</td>\n",
       "      <td>71.0</td>\n",
       "      <td>78.0</td>\n",
       "      <td>35.0</td>\n",
       "      <td>44.0</td>\n",
       "      <td>72.0</td>\n",
       "      <td>37.0</td>\n",
       "      <td>80.0</td>\n",
       "      <td>96.0</td>\n",
       "      <td>21.0</td>\n",
       "    </tr>\n",
       "    <tr>\n",
       "      <th>three_point_percentage</th>\n",
       "      <td>0.317</td>\n",
       "      <td>0.38</td>\n",
       "      <td>0.385</td>\n",
       "      <td>0.343</td>\n",
       "      <td>0.364</td>\n",
       "      <td>0.319</td>\n",
       "      <td>0.27</td>\n",
       "      <td>0.363</td>\n",
       "      <td>0.281</td>\n",
       "      <td>0.381</td>\n",
       "    </tr>\n",
       "    <tr>\n",
       "      <th>three_pointers</th>\n",
       "      <td>19.0</td>\n",
       "      <td>27.0</td>\n",
       "      <td>30.0</td>\n",
       "      <td>12.0</td>\n",
       "      <td>16.0</td>\n",
       "      <td>23.0</td>\n",
       "      <td>10.0</td>\n",
       "      <td>29.0</td>\n",
       "      <td>27.0</td>\n",
       "      <td>8.0</td>\n",
       "    </tr>\n",
       "    <tr>\n",
       "      <th>total_rebound_percentage</th>\n",
       "      <td>6.1</td>\n",
       "      <td>4.8</td>\n",
       "      <td>5.0</td>\n",
       "      <td>17.7</td>\n",
       "      <td>15.1</td>\n",
       "      <td>17.4</td>\n",
       "      <td>8.6</td>\n",
       "      <td>5.9</td>\n",
       "      <td>6.9</td>\n",
       "      <td>12.3</td>\n",
       "    </tr>\n",
       "    <tr>\n",
       "      <th>total_rebounds</th>\n",
       "      <td>76.0</td>\n",
       "      <td>55.0</td>\n",
       "      <td>57.0</td>\n",
       "      <td>127.0</td>\n",
       "      <td>116.0</td>\n",
       "      <td>147.0</td>\n",
       "      <td>27.0</td>\n",
       "      <td>54.0</td>\n",
       "      <td>72.0</td>\n",
       "      <td>29.0</td>\n",
       "    </tr>\n",
       "    <tr>\n",
       "      <th>true_shooting_percentage</th>\n",
       "      <td>0.583</td>\n",
       "      <td>0.552</td>\n",
       "      <td>0.59</td>\n",
       "      <td>0.533</td>\n",
       "      <td>0.552</td>\n",
       "      <td>0.563</td>\n",
       "      <td>0.47</td>\n",
       "      <td>0.559</td>\n",
       "      <td>0.553</td>\n",
       "      <td>0.581</td>\n",
       "    </tr>\n",
       "    <tr>\n",
       "      <th>turnover_percentage</th>\n",
       "      <td>13.3</td>\n",
       "      <td>12.1</td>\n",
       "      <td>11.3</td>\n",
       "      <td>17.4</td>\n",
       "      <td>17.7</td>\n",
       "      <td>15.3</td>\n",
       "      <td>18.1</td>\n",
       "      <td>16.9</td>\n",
       "      <td>11.6</td>\n",
       "      <td>11.1</td>\n",
       "    </tr>\n",
       "    <tr>\n",
       "      <th>turnovers</th>\n",
       "      <td>36.0</td>\n",
       "      <td>33.0</td>\n",
       "      <td>35.0</td>\n",
       "      <td>33.0</td>\n",
       "      <td>34.0</td>\n",
       "      <td>46.0</td>\n",
       "      <td>15.0</td>\n",
       "      <td>35.0</td>\n",
       "      <td>32.0</td>\n",
       "      <td>7.0</td>\n",
       "    </tr>\n",
       "    <tr>\n",
       "      <th>two_point_attempts</th>\n",
       "      <td>131.0</td>\n",
       "      <td>134.0</td>\n",
       "      <td>148.0</td>\n",
       "      <td>103.0</td>\n",
       "      <td>94.0</td>\n",
       "      <td>147.0</td>\n",
       "      <td>23.0</td>\n",
       "      <td>70.0</td>\n",
       "      <td>113.0</td>\n",
       "      <td>25.0</td>\n",
       "    </tr>\n",
       "    <tr>\n",
       "      <th>two_point_percentage</th>\n",
       "      <td>0.557</td>\n",
       "      <td>0.5</td>\n",
       "      <td>0.507</td>\n",
       "      <td>0.524</td>\n",
       "      <td>0.521</td>\n",
       "      <td>0.578</td>\n",
       "      <td>0.435</td>\n",
       "      <td>0.529</td>\n",
       "      <td>0.558</td>\n",
       "      <td>0.56</td>\n",
       "    </tr>\n",
       "    <tr>\n",
       "      <th>two_pointers</th>\n",
       "      <td>73.0</td>\n",
       "      <td>67.0</td>\n",
       "      <td>75.0</td>\n",
       "      <td>54.0</td>\n",
       "      <td>49.0</td>\n",
       "      <td>85.0</td>\n",
       "      <td>10.0</td>\n",
       "      <td>37.0</td>\n",
       "      <td>63.0</td>\n",
       "      <td>14.0</td>\n",
       "    </tr>\n",
       "    <tr>\n",
       "      <th>usage_percentage</th>\n",
       "      <td>17.6</td>\n",
       "      <td>19.9</td>\n",
       "      <td>21.4</td>\n",
       "      <td>21.3</td>\n",
       "      <td>21.0</td>\n",
       "      <td>28.3</td>\n",
       "      <td>21.2</td>\n",
       "      <td>18.9</td>\n",
       "      <td>21.0</td>\n",
       "      <td>22.3</td>\n",
       "    </tr>\n",
       "    <tr>\n",
       "      <th>weight</th>\n",
       "      <td>190.0</td>\n",
       "      <td>190.0</td>\n",
       "      <td>190.0</td>\n",
       "      <td>264.0</td>\n",
       "      <td>264.0</td>\n",
       "      <td>264.0</td>\n",
       "      <td>184.0</td>\n",
       "      <td>184.0</td>\n",
       "      <td>184.0</td>\n",
       "      <td>205.0</td>\n",
       "    </tr>\n",
       "    <tr>\n",
       "      <th>win_shares</th>\n",
       "      <td>3.4</td>\n",
       "      <td>3.0</td>\n",
       "      <td>3.1</td>\n",
       "      <td>1.8</td>\n",
       "      <td>2.2</td>\n",
       "      <td>2.8</td>\n",
       "      <td>0.5</td>\n",
       "      <td>2.0</td>\n",
       "      <td>2.6</td>\n",
       "      <td>0.7</td>\n",
       "    </tr>\n",
       "    <tr>\n",
       "      <th>win_shares_per_40_minutes</th>\n",
       "      <td>0.178</td>\n",
       "      <td>0.183</td>\n",
       "      <td>0.179</td>\n",
       "      <td>0.17</td>\n",
       "      <td>0.205</td>\n",
       "      <td>0.222</td>\n",
       "      <td>0.112</td>\n",
       "      <td>0.156</td>\n",
       "      <td>0.167</td>\n",
       "      <td>0.216</td>\n",
       "    </tr>\n",
       "    <tr>\n",
       "      <th>height_clean</th>\n",
       "      <td>6.0</td>\n",
       "      <td>6.0</td>\n",
       "      <td>6.0</td>\n",
       "      <td>6.0</td>\n",
       "      <td>6.0</td>\n",
       "      <td>6.0</td>\n",
       "      <td>6.0</td>\n",
       "      <td>6.0</td>\n",
       "      <td>6.0</td>\n",
       "      <td>6.0</td>\n",
       "    </tr>\n",
       "  </tbody>\n",
       "</table>\n",
       "</div>"
      ],
      "text/plain": [
       "year                                       2019-20            2020-21  \\\n",
       "assist_percentage                             14.7               17.1   \n",
       "assists                                       58.0               60.0   \n",
       "block_percentage                               1.1                1.1   \n",
       "blocks                                         7.0                6.0   \n",
       "box_plus_minus                                 0.1                2.0   \n",
       "conference                               southland          southland   \n",
       "defensive_box_plus_minus                       0.5                1.2   \n",
       "defensive_rebound_percentage                   8.1                7.0   \n",
       "defensive_rebounds                            47.0               39.0   \n",
       "defensive_win_shares                           1.5                1.6   \n",
       "effective_field_goal_percentage              0.531              0.524   \n",
       "field_goal_attempts                          191.0              205.0   \n",
       "field_goal_percentage                        0.482              0.459   \n",
       "field_goals                                   92.0               94.0   \n",
       "free_throw_attempt_rate                      0.487              0.361   \n",
       "free_throw_attempts                           93.0               74.0   \n",
       "free_throw_percentage                        0.763              0.676   \n",
       "free_throws                                   71.0               50.0   \n",
       "games_played                                  31.0               25.0   \n",
       "games_started                                 28.0               22.0   \n",
       "minutes_played                               753.0              657.0   \n",
       "offensive_box_plus_minus                      -0.4                0.7   \n",
       "offensive_rebound_percentage                   4.4                2.7   \n",
       "offensive_rebounds                            29.0               16.0   \n",
       "offensive_win_shares                           1.8                1.4   \n",
       "personal_fouls                                90.0               51.0   \n",
       "player_efficiency_rating                      16.8               15.7   \n",
       "player_id                           coryon-mason-1     coryon-mason-1   \n",
       "points_produced                              271.0              250.0   \n",
       "position                                     Guard              Guard   \n",
       "steal_percentage                               2.8                2.0   \n",
       "steals                                        37.0               24.0   \n",
       "team_abbreviation                abilene-christian  abilene-christian   \n",
       "three_point_attempt_rate                     0.314              0.346   \n",
       "three_point_attempts                          60.0               71.0   \n",
       "three_point_percentage                       0.317               0.38   \n",
       "three_pointers                                19.0               27.0   \n",
       "total_rebound_percentage                       6.1                4.8   \n",
       "total_rebounds                                76.0               55.0   \n",
       "true_shooting_percentage                     0.583              0.552   \n",
       "turnover_percentage                           13.3               12.1   \n",
       "turnovers                                     36.0               33.0   \n",
       "two_point_attempts                           131.0              134.0   \n",
       "two_point_percentage                         0.557                0.5   \n",
       "two_pointers                                  73.0               67.0   \n",
       "usage_percentage                              17.6               19.9   \n",
       "weight                                       190.0              190.0   \n",
       "win_shares                                     3.4                3.0   \n",
       "win_shares_per_40_minutes                    0.178              0.183   \n",
       "height_clean                                   6.0                6.0   \n",
       "\n",
       "year                                       2021-22            2019-20  \\\n",
       "assist_percentage                             12.7               10.7   \n",
       "assists                                       45.0               23.0   \n",
       "block_percentage                               1.0                2.8   \n",
       "blocks                                         5.0               10.0   \n",
       "box_plus_minus                                 NaN                0.7   \n",
       "conference                                     wac          southland   \n",
       "defensive_box_plus_minus                       NaN                1.6   \n",
       "defensive_rebound_percentage                   8.5               25.9   \n",
       "defensive_rebounds                            45.0               87.0   \n",
       "defensive_win_shares                           1.3                1.2   \n",
       "effective_field_goal_percentage              0.531              0.522   \n",
       "field_goal_attempts                          226.0              138.0   \n",
       "field_goal_percentage                        0.465              0.478   \n",
       "field_goals                                  105.0               66.0   \n",
       "free_throw_attempt_rate                      0.451              0.283   \n",
       "free_throw_attempts                          102.0               39.0   \n",
       "free_throw_percentage                        0.824               0.59   \n",
       "free_throws                                   84.0               23.0   \n",
       "games_played                                  26.0               31.0   \n",
       "games_started                                 23.0                0.0   \n",
       "minutes_played                               695.0              434.0   \n",
       "offensive_box_plus_minus                       NaN               -0.8   \n",
       "offensive_rebound_percentage                   1.9               10.5   \n",
       "offensive_rebounds                            12.0               40.0   \n",
       "offensive_win_shares                           1.8                0.6   \n",
       "personal_fouls                                68.0               63.0   \n",
       "player_efficiency_rating                      16.9               19.0   \n",
       "player_id                           coryon-mason-1   airion-simmons-1   \n",
       "points_produced                              293.0              167.0   \n",
       "position                                     Guard            Forward   \n",
       "steal_percentage                               1.8                3.6   \n",
       "steals                                        23.0               28.0   \n",
       "team_abbreviation                abilene-christian  abilene-christian   \n",
       "three_point_attempt_rate                     0.345              0.254   \n",
       "three_point_attempts                          78.0               35.0   \n",
       "three_point_percentage                       0.385              0.343   \n",
       "three_pointers                                30.0               12.0   \n",
       "total_rebound_percentage                       5.0               17.7   \n",
       "total_rebounds                                57.0              127.0   \n",
       "true_shooting_percentage                      0.59              0.533   \n",
       "turnover_percentage                           11.3               17.4   \n",
       "turnovers                                     35.0               33.0   \n",
       "two_point_attempts                           148.0              103.0   \n",
       "two_point_percentage                         0.507              0.524   \n",
       "two_pointers                                  75.0               54.0   \n",
       "usage_percentage                              21.4               21.3   \n",
       "weight                                       190.0              264.0   \n",
       "win_shares                                     3.1                1.8   \n",
       "win_shares_per_40_minutes                    0.179               0.17   \n",
       "height_clean                                   6.0                6.0   \n",
       "\n",
       "year                                       2020-21            2021-22  \\\n",
       "assist_percentage                             13.4               19.5   \n",
       "assists                                       31.0               45.0   \n",
       "block_percentage                               2.5                3.7   \n",
       "blocks                                         9.0               14.0   \n",
       "box_plus_minus                                 1.8                NaN   \n",
       "conference                               southland                wac   \n",
       "defensive_box_plus_minus                       3.3                NaN   \n",
       "defensive_rebound_percentage                  24.0               26.0   \n",
       "defensive_rebounds                            89.0              101.0   \n",
       "defensive_win_shares                           1.6                1.6   \n",
       "effective_field_goal_percentage              0.529              0.546   \n",
       "field_goal_attempts                          138.0              219.0   \n",
       "field_goal_percentage                        0.471              0.493   \n",
       "field_goals                                   65.0              108.0   \n",
       "free_throw_attempt_rate                      0.312              0.347   \n",
       "free_throw_attempts                           43.0               76.0   \n",
       "free_throw_percentage                        0.674              0.632   \n",
       "free_throws                                   29.0               48.0   \n",
       "games_played                                  29.0               25.0   \n",
       "games_started                                  2.0               25.0   \n",
       "minutes_played                               438.0              512.0   \n",
       "offensive_box_plus_minus                      -1.5                NaN   \n",
       "offensive_rebound_percentage                   6.8               10.0   \n",
       "offensive_rebounds                            27.0               46.0   \n",
       "offensive_win_shares                           0.6                1.2   \n",
       "personal_fouls                                69.0               75.0   \n",
       "player_efficiency_rating                      18.6               25.5   \n",
       "player_id                         airion-simmons-1   airion-simmons-1   \n",
       "points_produced                              167.0              278.0   \n",
       "position                                   Forward            Forward   \n",
       "steal_percentage                               4.2                4.5   \n",
       "steals                                        33.0               42.0   \n",
       "team_abbreviation                abilene-christian  abilene-christian   \n",
       "three_point_attempt_rate                     0.319              0.329   \n",
       "three_point_attempts                          44.0               72.0   \n",
       "three_point_percentage                       0.364              0.319   \n",
       "three_pointers                                16.0               23.0   \n",
       "total_rebound_percentage                      15.1               17.4   \n",
       "total_rebounds                               116.0              147.0   \n",
       "true_shooting_percentage                     0.552              0.563   \n",
       "turnover_percentage                           17.7               15.3   \n",
       "turnovers                                     34.0               46.0   \n",
       "two_point_attempts                            94.0              147.0   \n",
       "two_point_percentage                         0.521              0.578   \n",
       "two_pointers                                  49.0               85.0   \n",
       "usage_percentage                              21.0               28.3   \n",
       "weight                                       264.0              264.0   \n",
       "win_shares                                     2.2                2.8   \n",
       "win_shares_per_40_minutes                    0.205              0.222   \n",
       "height_clean                                   6.0                6.0   \n",
       "\n",
       "year                                       2019-20            2020-21  \\\n",
       "assist_percentage                              9.7               12.2   \n",
       "assists                                       10.0               35.0   \n",
       "block_percentage                               0.6                0.7   \n",
       "blocks                                         1.0                3.0   \n",
       "box_plus_minus                                -7.7                0.2   \n",
       "conference                               southland          southland   \n",
       "defensive_box_plus_minus                      -1.7                1.7   \n",
       "defensive_rebound_percentage                   8.8                9.7   \n",
       "defensive_rebounds                            13.0               43.0   \n",
       "defensive_win_shares                           0.4                1.4   \n",
       "effective_field_goal_percentage              0.417              0.537   \n",
       "field_goal_attempts                           60.0              150.0   \n",
       "field_goal_percentage                        0.333               0.44   \n",
       "field_goals                                   20.0               66.0   \n",
       "free_throw_attempt_rate                      0.283              0.307   \n",
       "free_throw_attempts                           17.0               46.0   \n",
       "free_throw_percentage                        0.824              0.674   \n",
       "free_throws                                   14.0               31.0   \n",
       "games_played                                  17.0               29.0   \n",
       "games_started                                  1.0                7.0   \n",
       "minutes_played                               191.0              522.0   \n",
       "offensive_box_plus_minus                      -6.0               -1.5   \n",
       "offensive_rebound_percentage                   8.4                2.3   \n",
       "offensive_rebounds                            14.0               11.0   \n",
       "offensive_win_shares                           0.1                0.6   \n",
       "personal_fouls                                22.0               59.0   \n",
       "player_efficiency_rating                      12.1               12.7   \n",
       "player_id                           mahki-morris-1     mahki-morris-1   \n",
       "points_produced                               66.0              173.0   \n",
       "position                                     Guard              Guard   \n",
       "steal_percentage                               3.8                2.6   \n",
       "steals                                        13.0               24.0   \n",
       "team_abbreviation                abilene-christian  abilene-christian   \n",
       "three_point_attempt_rate                     0.617              0.533   \n",
       "three_point_attempts                          37.0               80.0   \n",
       "three_point_percentage                        0.27              0.363   \n",
       "three_pointers                                10.0               29.0   \n",
       "total_rebound_percentage                       8.6                5.9   \n",
       "total_rebounds                                27.0               54.0   \n",
       "true_shooting_percentage                      0.47              0.559   \n",
       "turnover_percentage                           18.1               16.9   \n",
       "turnovers                                     15.0               35.0   \n",
       "two_point_attempts                            23.0               70.0   \n",
       "two_point_percentage                         0.435              0.529   \n",
       "two_pointers                                  10.0               37.0   \n",
       "usage_percentage                              21.2               18.9   \n",
       "weight                                       184.0              184.0   \n",
       "win_shares                                     0.5                2.0   \n",
       "win_shares_per_40_minutes                    0.112              0.156   \n",
       "height_clean                                   6.0                6.0   \n",
       "\n",
       "year                                       2021-22            2020-21  \n",
       "assist_percentage                             10.4               14.4  \n",
       "assists                                       34.0               10.0  \n",
       "block_percentage                               0.2                1.8  \n",
       "blocks                                         1.0                2.0  \n",
       "box_plus_minus                                 NaN                1.9  \n",
       "conference                                     wac          southland  \n",
       "defensive_box_plus_minus                       NaN                0.2  \n",
       "defensive_rebound_percentage                  11.7               20.1  \n",
       "defensive_rebounds                            56.0               23.0  \n",
       "defensive_win_shares                           1.5                0.4  \n",
       "effective_field_goal_percentage              0.495              0.565  \n",
       "field_goal_attempts                          209.0               46.0  \n",
       "field_goal_percentage                        0.431              0.478  \n",
       "field_goals                                   90.0               22.0  \n",
       "free_throw_attempt_rate                      0.344              0.457  \n",
       "free_throw_attempts                           72.0               21.0  \n",
       "free_throw_percentage                        0.861              0.619  \n",
       "free_throws                                   62.0               13.0  \n",
       "games_played                                  27.0               23.0  \n",
       "games_started                                 27.0                0.0  \n",
       "minutes_played                               629.0              135.0  \n",
       "offensive_box_plus_minus                       NaN                1.7  \n",
       "offensive_rebound_percentage                   2.8                4.9  \n",
       "offensive_rebounds                            16.0                6.0  \n",
       "offensive_win_shares                           1.2                0.4  \n",
       "personal_fouls                                72.0               20.0  \n",
       "player_efficiency_rating                      16.0               18.1  \n",
       "player_id                           mahki-morris-1   cameron-steele-1  \n",
       "points_produced                              246.0               59.0  \n",
       "position                                     Guard            Forward  \n",
       "steal_percentage                               3.3                0.4  \n",
       "steals                                        38.0                1.0  \n",
       "team_abbreviation                abilene-christian  abilene-christian  \n",
       "three_point_attempt_rate                     0.459              0.457  \n",
       "three_point_attempts                          96.0               21.0  \n",
       "three_point_percentage                       0.281              0.381  \n",
       "three_pointers                                27.0                8.0  \n",
       "total_rebound_percentage                       6.9               12.3  \n",
       "total_rebounds                                72.0               29.0  \n",
       "true_shooting_percentage                     0.553              0.581  \n",
       "turnover_percentage                           11.6               11.1  \n",
       "turnovers                                     32.0                7.0  \n",
       "two_point_attempts                           113.0               25.0  \n",
       "two_point_percentage                         0.558               0.56  \n",
       "two_pointers                                  63.0               14.0  \n",
       "usage_percentage                              21.0               22.3  \n",
       "weight                                       184.0              205.0  \n",
       "win_shares                                     2.6                0.7  \n",
       "win_shares_per_40_minutes                    0.167              0.216  \n",
       "height_clean                                   6.0                6.0  "
      ]
     },
     "execution_count": 59,
     "metadata": {},
     "output_type": "execute_result"
    }
   ],
   "source": [
    "import pandas as pd\n",
    "import numpy as np\n",
    "from sklearn.feature_selection import SelectKBest,chi2\n",
    "from sklearn.model_selection import train_test_split\n",
    "from sklearn.preprocessing import LabelEncoder\n",
    "from sklearn.preprocessing import OrdinalEncoder\n",
    "\n",
    "df1 = data_with_index.loc[:,:\"player_id\"] \n",
    "df2 = data_with_index.loc[:,\"points_produced\":\"win_shares_per_40_minutes\"] \n",
    "X = pd.concat([df1,df2],axis=1) \n",
    "\n",
    "cat_col = [\"conference\",\"player_id\",\"team_abbreviation\",\"position\"]\n",
    "X[\"height_clean\"] = X[\"height\"].astype(str).apply(lambda x:x.split('-')[0])\n",
    "X.drop(columns=\"height\",inplace=True)\n",
    "for col in X.columns:\n",
    "    if col in cat_col:\n",
    "        X[col] = X[col].astype(str)\n",
    "    elif col != \"height\":\n",
    "        X[col] = X[col].astype(float)\n",
    "X.head(10).T"
   ]
  },
  {
   "cell_type": "code",
   "execution_count": 60,
   "metadata": {},
   "outputs": [],
   "source": [
    "y = data_with_index[\"points\"]\n",
    "# X = X.astype(str)\n",
    "X_train, X_test, y_train, y_test = train_test_split(X, y, test_size=0.33, random_state=1)\n",
    "# summarize\n",
    "# print('Train', X_train.shape, y_train.shape)\n",
    "# print('Test', X_test.shape, y_test.shape)\n",
    "# oe = OrdinalEncoder(handle_unknown=\"use_encoded_value\",unknown_value=np.nan)\n",
    "# oe.fit(X_train)\n",
    "# X_train_enc = oe.transform(X_train)\n",
    "# X_test_enc = oe.transform(X_test)\n"
   ]
  },
  {
   "cell_type": "markdown",
   "metadata": {},
   "source": [
    "# Linear regression Spliting df into train and test"
   ]
  },
  {
   "cell_type": "code",
   "execution_count": 61,
   "metadata": {},
   "outputs": [
    {
     "name": "stdout",
     "output_type": "stream",
     "text": [
      "          year  assist_percentage  assists  block_percentage  blocks  \\\n",
      "0      2019-20               14.7       58               1.1       7   \n",
      "1      2020-21               17.1       60               1.1       6   \n",
      "2      2021-22               12.7       45               1.0       5   \n",
      "3       Career               14.8      163               1.1      18   \n",
      "4      2019-20               10.7       23               2.8      10   \n",
      "...        ...                ...      ...               ...     ...   \n",
      "12940  2020-21                0.0        0               0.0       0   \n",
      "12941  2021-22                9.1        1               0.0       0   \n",
      "12942   Career                7.6        1               0.0       0   \n",
      "12943  2018-19                8.7       12               1.6       4   \n",
      "12944  2019-20                8.6       29               0.8       5   \n",
      "\n",
      "       box_plus_minus conference  defensive_box_plus_minus  \\\n",
      "0                 0.1  southland                       0.5   \n",
      "1                 2.0  southland                       1.2   \n",
      "2                 NaN        wac                       NaN   \n",
      "3                 1.0        NaN                       0.9   \n",
      "4                 0.7  southland                       1.6   \n",
      "...               ...        ...                       ...   \n",
      "12940             0.0  big-south                       0.0   \n",
      "12941             NaN  big-south                       NaN   \n",
      "12942             0.0        NaN                       0.0   \n",
      "12943            -2.1        ivy                       0.9   \n",
      "12944            -1.0        ivy                      -0.7   \n",
      "\n",
      "       defensive_rebound_percentage  defensive_rebounds  ...  \\\n",
      "0                               8.1                  47  ...   \n",
      "1                               7.0                  39  ...   \n",
      "2                               8.5                  45  ...   \n",
      "3                               7.9                 131  ...   \n",
      "4                              25.9                  87  ...   \n",
      "...                             ...                 ...  ...   \n",
      "12940                          65.6                   2  ...   \n",
      "12941                          20.2                   3  ...   \n",
      "12942                          27.7                   5  ...   \n",
      "12943                          17.3                  40  ...   \n",
      "12944                          17.7                  88  ...   \n",
      "\n",
      "       true_shooting_percentage  turnover_percentage  turnovers  \\\n",
      "0                         0.583                 13.3         36   \n",
      "1                         0.552                 12.1         33   \n",
      "2                         0.590                 11.3         35   \n",
      "3                         0.576                 12.2        104   \n",
      "4                         0.533                 17.4         33   \n",
      "...                         ...                  ...        ...   \n",
      "12940                     0.000                  0.0          0   \n",
      "12941                     0.252                 11.2          1   \n",
      "12942                     0.201                  9.1          1   \n",
      "12943                     0.380                 13.7         14   \n",
      "12944                     0.555                 12.5         24   \n",
      "\n",
      "       two_point_attempts  two_point_percentage  two_pointers  \\\n",
      "0                     131                 0.557            73   \n",
      "1                     134                 0.500            67   \n",
      "2                     148                 0.507            75   \n",
      "3                     413                 0.521           215   \n",
      "4                     103                 0.524            54   \n",
      "...                   ...                   ...           ...   \n",
      "12940                   0                   NaN             0   \n",
      "12941                   2                 0.000             0   \n",
      "12942                   2                 0.000             0   \n",
      "12943                  36                 0.306            11   \n",
      "12944                  56                 0.518            29   \n",
      "\n",
      "       usage_percentage  weight  win_shares  win_shares_per_40_minutes  \n",
      "0                  17.6   190.0         3.4                      0.178  \n",
      "1                  19.9   190.0         3.0                      0.183  \n",
      "2                  21.4   190.0         3.1                      0.179  \n",
      "3                  19.6   190.0         9.5                      0.180  \n",
      "4                  21.3   264.0         1.8                      0.170  \n",
      "...                 ...     ...         ...                        ...  \n",
      "12940              25.6   215.0         0.0                     -0.246  \n",
      "12941              22.8   215.0         0.0                     -0.051  \n",
      "12942              23.3   215.0        -0.1                     -0.084  \n",
      "12943              19.2   180.0         0.3                      0.048  \n",
      "12944              16.1   180.0         1.5                      0.096  \n",
      "\n",
      "[12945 rows x 52 columns]\n",
      "          year  assist_percentage  assists  block_percentage  blocks  \\\n",
      "12945  2021-22               10.4       49               0.8       7   \n",
      "12946   Career                9.4       90               1.0      16   \n",
      "12947  2019-20               11.7       23               2.5       9   \n",
      "12948  2021-22               31.5      117               1.0       7   \n",
      "12949   Career               24.6      140               1.5      16   \n",
      "...        ...                ...      ...               ...     ...   \n",
      "18489   Career                6.9        3               4.3       3   \n",
      "18490  2020-21                0.0        0               0.0       0   \n",
      "18491   Career                0.0        0               0.0       0   \n",
      "18492  2020-21                7.4       12               1.1       3   \n",
      "18493   Career                7.4       12               1.1       3   \n",
      "\n",
      "       box_plus_minus conference  defensive_box_plus_minus  \\\n",
      "12945             NaN        ivy                       NaN   \n",
      "12946            -1.4        NaN                      -0.2   \n",
      "12947            -2.2        ivy                       0.2   \n",
      "12948             NaN        ivy                       NaN   \n",
      "12949            -2.2        NaN                       0.2   \n",
      "...               ...        ...                       ...   \n",
      "18489             NaN        NaN                       NaN   \n",
      "18490            -3.8    horizon                      -2.1   \n",
      "18491            -3.8        NaN                      -2.1   \n",
      "18492            -5.7    horizon                      -3.1   \n",
      "18493            -5.7        NaN                      -3.1   \n",
      "\n",
      "       defensive_rebound_percentage  defensive_rebounds  ...  \\\n",
      "12945                          22.6                 161  ...   \n",
      "12946                          20.0                 289  ...   \n",
      "12947                          14.0                  41  ...   \n",
      "12948                          15.2                  91  ...   \n",
      "12949                          14.8                 132  ...   \n",
      "...                             ...                 ...  ...   \n",
      "18489                           7.8                   5  ...   \n",
      "18490                           9.8                   3  ...   \n",
      "18491                           9.8                   3  ...   \n",
      "18492                          10.4                  26  ...   \n",
      "18493                          10.4                  26  ...   \n",
      "\n",
      "       true_shooting_percentage  turnover_percentage  turnovers  \\\n",
      "12945                     0.629                 12.4         44   \n",
      "12946                     0.568                 12.6         82   \n",
      "12947                     0.550                 22.6         27   \n",
      "12948                     0.542                 14.5         57   \n",
      "12949                     0.543                 16.4         84   \n",
      "...                         ...                  ...        ...   \n",
      "18489                     0.599                 25.9          7   \n",
      "18490                     0.458                  7.7          1   \n",
      "18491                     0.458                  7.7          1   \n",
      "18492                     0.441                  9.8         13   \n",
      "18493                     0.441                  9.8         13   \n",
      "\n",
      "       two_point_attempts  two_point_percentage  two_pointers  \\\n",
      "12945                 134                 0.634            85   \n",
      "12946                 226                 0.553           125   \n",
      "12947                  63                 0.587            37   \n",
      "12948                 264                 0.553           146   \n",
      "12949                 327                 0.560           183   \n",
      "...                   ...                   ...           ...   \n",
      "18489                  11                 0.545             6   \n",
      "18490                   5                 0.200             1   \n",
      "18491                   5                 0.200             1   \n",
      "18492                  49                 0.347            17   \n",
      "18493                  49                 0.347            17   \n",
      "\n",
      "       usage_percentage  weight  win_shares  win_shares_per_40_minutes  \n",
      "12945              22.0   180.0         3.9                      0.185  \n",
      "12946              19.4   180.0         5.7                      0.132  \n",
      "12947              17.2   209.0         0.6                      0.066  \n",
      "12948              28.9   209.0         3.8                      0.221  \n",
      "12949              24.8   209.0         4.5                      0.167  \n",
      "...                 ...     ...         ...                        ...  \n",
      "18489              18.4   225.0         0.2                      0.109  \n",
      "18490              17.2   195.0         0.0                      0.052  \n",
      "18491              17.2   195.0         0.0                      0.052  \n",
      "18492              21.3   200.0         0.4                      0.058  \n",
      "18493              21.3   200.0         0.4                      0.058  \n",
      "\n",
      "[5549 rows x 52 columns]\n"
     ]
    }
   ],
   "source": [
    "from sklearn import linear_model\n",
    "\n",
    "player_df = pd.read_csv('../../allplayerinfo.csv')\n",
    "train = player_df[: (int ((len(player_df)*0.7)))]\n",
    "print(train)\n",
    "test= player_df[ (int ((len(player_df)*0.7))) : ]\n",
    "print(test)"
   ]
  },
  {
   "cell_type": "markdown",
   "metadata": {},
   "source": [
    "## Finding corelation with data"
   ]
  },
  {
   "cell_type": "code",
   "execution_count": 62,
   "metadata": {},
   "outputs": [],
   "source": [
    "co = player_df.corr(method='pearson')\n",
    "co.to_csv('corelation.csv')"
   ]
  },
  {
   "cell_type": "markdown",
   "metadata": {},
   "source": [
    "## LR for \"assists\""
   ]
  },
  {
   "cell_type": "code",
   "execution_count": 63,
   "metadata": {},
   "outputs": [
    {
     "name": "stdout",
     "output_type": "stream",
     "text": [
      "3.556884591132923\n",
      "67.47235101060917\n",
      "0.6438570512263353\n"
     ]
    }
   ],
   "source": [
    "reg = linear_model.LinearRegression()\n",
    "reg.fit(train[['assists']].values,train.points)\n",
    "print(reg.coef_[0])\n",
    "print(reg.intercept_)\n",
    "reg.predict([[163]])\n",
    "print(reg.score(test[['assists']].values,test.points))\n"
   ]
  },
  {
   "cell_type": "code",
   "execution_count": 64,
   "metadata": {},
   "outputs": [],
   "source": [
    "def get_regression_predictions_assists(input_features,intercept,slope):\n",
    "    predicted_value = slope[0]*input_features + intercept\n",
    "    return predicted_value\n",
    "    "
   ]
  },
  {
   "cell_type": "code",
   "execution_count": 65,
   "metadata": {},
   "outputs": [
    {
     "name": "stdout",
     "output_type": "stream",
     "text": [
      "647.2445393652756\n"
     ]
    }
   ],
   "source": [
    "points = get_regression_predictions_assists(163,reg.intercept_,reg.coef_)\n",
    "print(points)"
   ]
  },
  {
   "cell_type": "markdown",
   "metadata": {},
   "source": [
    "## finding error for \"assists\""
   ]
  },
  {
   "cell_type": "code",
   "execution_count": 66,
   "metadata": {},
   "outputs": [
    {
     "name": "stdout",
     "output_type": "stream",
     "text": [
      "Mean Absolute Error: 99.76725160048099\n",
      "Mean Squared Error: 25833.69128363824\n",
      "Root Mean Squared Error: 160.72862621088453\n",
      "R2-score: 0.43\n"
     ]
    }
   ],
   "source": [
    "from sklearn.metrics import r2_score\n",
    "from sklearn import metrics\n",
    "test_x = test[['assists']].values\n",
    "test_y = test.points\n",
    "test_y_ = reg.predict(test_x)\n",
    "print('Mean Absolute Error:', metrics.mean_absolute_error(test_y, test_y_))\n",
    "print('Mean Squared Error:', metrics.mean_squared_error(test_y, test_y_))\n",
    "print('Root Mean Squared Error:', np.sqrt(metrics.mean_squared_error(test_y, test_y_)))\n",
    "print(\"R2-score: %.2f\" % r2_score(test_y_, test_y))"
   ]
  },
  {
   "cell_type": "markdown",
   "metadata": {},
   "source": [
    "## LR for \"assists & blocks\""
   ]
  },
  {
   "cell_type": "code",
   "execution_count": 67,
   "metadata": {},
   "outputs": [
    {
     "name": "stdout",
     "output_type": "stream",
     "text": [
      "[3.24666496 4.55841816]\n",
      "36.71108303326369\n",
      "0.7305956436478465\n"
     ]
    }
   ],
   "source": [
    "reg = linear_model.LinearRegression()\n",
    "reg.fit(train[['assists','blocks']].values,train.points)\n",
    "print(reg.coef_)\n",
    "print(reg.intercept_)\n",
    "reg.predict([[163,18]])\n",
    "print(reg.score(test[['assists','blocks']].values,test.points))"
   ]
  },
  {
   "cell_type": "code",
   "execution_count": 68,
   "metadata": {},
   "outputs": [],
   "source": [
    "def get_regression_predictions_ab(input_features,intercept,slope):\n",
    "    predicted_value = slope[0]*input_features[0]+slope[1]*input_features[1]+ intercept\n",
    "    return predicted_value"
   ]
  },
  {
   "cell_type": "code",
   "execution_count": 69,
   "metadata": {},
   "outputs": [
    {
     "name": "stdout",
     "output_type": "stream",
     "text": [
      "647.9689991448174\n"
     ]
    }
   ],
   "source": [
    "points = get_regression_predictions_ab([163,18],reg.intercept_,reg.coef_)\n",
    "print(points)"
   ]
  },
  {
   "cell_type": "markdown",
   "metadata": {},
   "source": [
    "## finding error for assists & blocks"
   ]
  },
  {
   "cell_type": "code",
   "execution_count": 70,
   "metadata": {},
   "outputs": [
    {
     "name": "stdout",
     "output_type": "stream",
     "text": [
      "Mean Absolute Error: 83.50521897221488\n",
      "Mean Squared Error: 19541.89742190241\n",
      "Root Mean Squared Error: 139.79233677817396\n",
      "R2-score: 0.64\n"
     ]
    }
   ],
   "source": [
    "from sklearn.metrics import r2_score\n",
    "from sklearn import metrics\n",
    "features = test[['assists','blocks']].values\n",
    "actual_point = test.points\n",
    "predict_point = reg.predict(features)\n",
    "print('Mean Absolute Error:', metrics.mean_absolute_error(actual_point, predict_point))\n",
    "print('Mean Squared Error:', metrics.mean_squared_error(actual_point, predict_point))\n",
    "print('Root Mean Squared Error:', np.sqrt(metrics.mean_squared_error(actual_point, predict_point)))\n",
    "print(\"R2-score: %.2f\" % r2_score(predict_point, actual_point))"
   ]
  },
  {
   "cell_type": "markdown",
   "metadata": {},
   "source": [
    "## LR for \"assists,blocks & steals\""
   ]
  },
  {
   "cell_type": "code",
   "execution_count": 71,
   "metadata": {},
   "outputs": [
    {
     "name": "stdout",
     "output_type": "stream",
     "text": [
      "[1.430718   3.20504714 5.2318423 ]\n",
      "19.636151975245923\n",
      "0.7827562960721581\n"
     ]
    }
   ],
   "source": [
    "reg = linear_model.LinearRegression()\n",
    "reg.fit(train[['assists','blocks','steals']].values,train.points)\n",
    "print(reg.coef_)\n",
    "print(reg.intercept_)\n",
    "reg.predict([[163,18,84]])\n",
    "print(reg.score(test[['assists','blocks','steals']].values,test.points))\n"
   ]
  },
  {
   "cell_type": "code",
   "execution_count": 72,
   "metadata": {},
   "outputs": [],
   "source": [
    "def get_regression_predictions_abs(input_features,intercept,slope):\n",
    "    predicted_value = slope[0]*input_features[0]+slope[1]*input_features[1]+slope[2]*input_features[2] + intercept\n",
    "    return predicted_value"
   ]
  },
  {
   "cell_type": "code",
   "execution_count": 73,
   "metadata": {},
   "outputs": [
    {
     "name": "stdout",
     "output_type": "stream",
     "text": [
      "750.0087883737849\n"
     ]
    }
   ],
   "source": [
    "points = get_regression_predictions_abs([163,18,84],reg.intercept_,reg.coef_)\n",
    "print(points)"
   ]
  },
  {
   "cell_type": "markdown",
   "metadata": {},
   "source": [
    "## finding errors for assists,blocks & steals"
   ]
  },
  {
   "cell_type": "code",
   "execution_count": 74,
   "metadata": {},
   "outputs": [
    {
     "name": "stdout",
     "output_type": "stream",
     "text": [
      "Mean Absolute Error: 71.47657462406717\n",
      "Mean Squared Error: 15758.298177490058\n",
      "Root Mean Squared Error: 125.53206035706599\n",
      "R2-score: 0.73\n"
     ]
    }
   ],
   "source": [
    "from sklearn.metrics import r2_score\n",
    "from sklearn import metrics\n",
    "features = test[['assists','blocks','steals']].values\n",
    "actual_point = test.points\n",
    "predict_point = reg.predict(features)\n",
    "print('Mean Absolute Error:', metrics.mean_absolute_error(actual_point, predict_point))\n",
    "print('Mean Squared Error:', metrics.mean_squared_error(actual_point, predict_point))\n",
    "print('Root Mean Squared Error:', np.sqrt(metrics.mean_squared_error(actual_point, predict_point)))\n",
    "print(\"R2-score: %.2f\" % r2_score(predict_point, actual_point))"
   ]
  },
  {
   "cell_type": "markdown",
   "metadata": {},
   "source": [
    "## LR for three & two pointers"
   ]
  },
  {
   "cell_type": "code",
   "execution_count": 75,
   "metadata": {},
   "outputs": [
    {
     "name": "stdout",
     "output_type": "stream",
     "text": [
      "[3.38811923 2.55138119]\n",
      "-0.4627146285436652\n",
      "0.9936123606934646\n"
     ]
    }
   ],
   "source": [
    "reg = linear_model.LinearRegression()\n",
    "reg.fit(train[['three_pointers','two_pointers']].values,train.points)\n",
    "print(reg.coef_)\n",
    "print(reg.intercept_)\n",
    "reg.predict([[76,215]])\n",
    "print(reg.score(test[['three_pointers','two_pointers']].values,test.points))"
   ]
  },
  {
   "cell_type": "markdown",
   "metadata": {},
   "source": [
    "## LR for three & two pointers & field_goals"
   ]
  },
  {
   "cell_type": "code",
   "execution_count": 76,
   "metadata": {},
   "outputs": [
    {
     "data": {
      "text/plain": [
       "array([805.80398561])"
      ]
     },
     "execution_count": 76,
     "metadata": {},
     "output_type": "execute_result"
    }
   ],
   "source": [
    "reg = linear_model.LinearRegression()\n",
    "reg.fit(train[['three_pointers','two_pointers','field_goals']].values,train.points)\n",
    "reg.predict([[76,215,291]])"
   ]
  },
  {
   "cell_type": "markdown",
   "metadata": {},
   "source": [
    "## LR for field_goals"
   ]
  },
  {
   "cell_type": "code",
   "execution_count": 77,
   "metadata": {},
   "outputs": [
    {
     "name": "stdout",
     "output_type": "stream",
     "text": [
      "0.9879740848526561\n"
     ]
    }
   ],
   "source": [
    "reg = linear_model.LinearRegression()\n",
    "reg.fit(train[['field_goals']].values,train.points)\n",
    "reg.predict([[291]])\n",
    "print(reg.score(test[['field_goals']].values,test.points))"
   ]
  },
  {
   "cell_type": "markdown",
   "metadata": {},
   "source": [
    "## function with any number of features"
   ]
  },
  {
   "cell_type": "code",
   "execution_count": 78,
   "metadata": {},
   "outputs": [],
   "source": [
    "from sklearn.metrics import r2_score\n",
    "from sklearn import metrics\n",
    "\n",
    "def get_regression_prediction(cols):\n",
    "    reg = linear_model.LinearRegression()\n",
    "    reg.fit(train[cols].values,train.points)\n",
    "    y_hat = reg.predict(test[cols].values)\n",
    "    actual_point = test.points\n",
    "    print(cols)\n",
    "    print('score',reg.score(test[cols].values,test.points))\n",
    "    print('Mean Absolute Error:', metrics.mean_absolute_error(actual_point, y_hat))\n",
    "    print('Mean Squared Error:', metrics.mean_squared_error(actual_point, y_hat))\n",
    "    print('Root Mean Squared Error:', np.sqrt(metrics.mean_squared_error(actual_point, y_hat)))\n",
    "    print(\"R2-score: %.2f\" % r2_score(y_hat, actual_point))\n",
    "    return y_hat\n",
    "    "
   ]
  },
  {
   "cell_type": "code",
   "execution_count": 79,
   "metadata": {},
   "outputs": [
    {
     "name": "stdout",
     "output_type": "stream",
     "text": [
      "['field_goals']\n",
      "score 0.9879740848526561\n",
      "Mean Absolute Error: 15.946577056265346\n",
      "Mean Squared Error: 872.3288791466382\n",
      "Root Mean Squared Error: 29.535214222122008\n",
      "R2-score: 0.99\n",
      "[411.06084172 660.16944489 114.36969637 ...  10.80769281 100.37483103\n",
      " 100.37483103]\n",
      "['three_pointers', 'two_pointers']\n",
      "score 0.9936123606934646\n",
      "Mean Absolute Error: 11.677475290047104\n",
      "Mean Squared Error: 463.34288645748506\n",
      "Root Mean Squared Error: 21.525400959273327\n",
      "R2-score: 0.99\n",
      "[426.46807877 694.54116862 107.49086634 ...  12.25302425 107.28503096\n",
      " 107.28503096]\n",
      "['three_pointers', 'two_pointers', 'field_goals']\n",
      "score 0.9936188018171204\n",
      "Mean Absolute Error: 11.686971950019867\n",
      "Mean Squared Error: 462.875663954222\n",
      "Root Mean Squared Error: 21.51454540431245\n",
      "R2-score: 0.99\n",
      "[426.66336061 694.99148561 107.39382936 ...  12.16030885 107.27273561\n",
      " 107.27273561]\n",
      "['three_pointers', 'two_pointers', 'field_goals', 'assists', 'blocks', 'steals']\n",
      "score 0.9940805997280638\n",
      "Mean Absolute Error: 11.217754520119477\n",
      "Mean Squared Error: 429.3780341181628\n",
      "Root Mean Squared Error: 20.721438997284015\n",
      "R2-score: 0.99\n",
      "[421.72384994 688.43478744 108.10470932 ...  11.7553746  105.42599838\n",
      " 105.4255101 ]\n",
      "['assists', 'blocks', 'steals']\n",
      "score 0.7827562960721581\n",
      "Mean Absolute Error: 71.47657462406717\n",
      "Mean Squared Error: 15758.298177490058\n",
      "Root Mean Squared Error: 125.53206035706599\n",
      "R2-score: 0.73\n",
      "[258.66824856 508.36022231 149.40204022 ...  24.86799428  77.81096324\n",
      "  77.81096324]\n"
     ]
    }
   ],
   "source": [
    "feacture_selection = [['field_goals'],['three_pointers','two_pointers'],['three_pointers','two_pointers','field_goals'],['three_pointers','two_pointers','field_goals','assists','blocks','steals'],['assists','blocks','steals']]\n",
    "for i in feacture_selection:\n",
    "    point_prediction = get_regression_prediction(i)\n",
    "    print(point_prediction)"
   ]
  },
  {
   "cell_type": "markdown",
   "metadata": {},
   "source": []
  },
  {
   "cell_type": "markdown",
   "metadata": {},
   "source": [
    "## Data Processing"
   ]
  },
  {
   "cell_type": "code",
   "execution_count": 80,
   "metadata": {
    "scrolled": false
   },
   "outputs": [],
   "source": [
    "import pandas as pd\n",
    "from sklearn.preprocessing import LabelEncoder\n",
    "\n",
    "def get_height(height,player_df_n):\n",
    "    month_dict = {'Jan':1,'Feb':2,'Mar':3,'Apr':4,'May':5,'Jun':6,'Jul':7,'Aug':8,'Sept':9,'Oct':10,'Nov':11}\n",
    "\n",
    "    str_height = str(height)\n",
    "\n",
    "    feet_inches = str_height.split('-')\n",
    "    \n",
    "    feet = feet_inches[0]\n",
    "    if len(feet_inches) != 2:\n",
    "        # In future consider using mean\n",
    "        return 0\n",
    "        \n",
    "    if feet_inches[1] =='0':\n",
    "        inches = 0\n",
    "    else:\n",
    "        inches = month_dict[feet_inches[1]]\n",
    "    height = 12 * int(feet) + inches\n",
    "    return height\n",
    "\n",
    "\n",
    "player_df = pd.read_csv('../../allplayerinfo.csv')\n",
    "player_df.isnull().sum()\n",
    "player_df_n = player_df.copy()\n",
    "player_df_n['height'] = player_df_n.apply(lambda player: get_height(player.height,player_df_n), axis=1)\n",
    "player_df_n['height'].fillna(value=player_df_n['height'].mean(),inplace=True)\n",
    "\n",
    "player_df_n['position'].replace(['Guard', 'Forward','Center'],[0, 1,2], inplace=True)\n",
    "\n",
    "#labelencoder\n",
    "le = LabelEncoder()\n",
    "player_ids = le.fit_transform(player_df_n.player_id)\n",
    "team_abbreviations = le.fit_transform(player_df_n.team_abbreviation)\n",
    "conference = le.fit_transform(player_df_n.conference)\n",
    "\n",
    "#assign new datatype\n",
    "player_df_n = player_df_n.assign(player_id=player_ids,team_abbreviations=team_abbreviations,conference=conference)\n",
    "\n",
    "#convert int to float\n",
    "for col in player_df_n.columns:\n",
    "    if player_df_n[col].dtypes == int:\n",
    "        player_df_n[col] = player_df_n[col].astype(float)\n",
    "        \n",
    "player_df_n.drop(['team_abbreviation'],axis=1,inplace=True)\n",
    "\n",
    "player_df_n = player_df_n.fillna(0)\n",
    "\n",
    "\n",
    "\n",
    "\n",
    "\n"
   ]
  },
  {
   "cell_type": "markdown",
   "metadata": {},
   "source": [
    "## Feature selection"
   ]
  },
  {
   "cell_type": "code",
   "execution_count": 81,
   "metadata": {},
   "outputs": [
    {
     "name": "stdout",
     "output_type": "stream",
     "text": [
      "(12390, 50) (12390,)\n",
      "(6104, 50) (6104,)\n",
      "MAE: 0.000\n",
      "Feature0 assist_percentage: 485.948913\n",
      "Feature1 assists: 23948.132545\n",
      "Feature2 block_percentage: 17.151015\n",
      "Feature3 blocks: 3806.269441\n",
      "Feature4 box_plus_minus: 316.735189\n",
      "Feature5 conference: 882.783043\n",
      "Feature6 defensive_box_plus_minus: 2.690011\n",
      "Feature7 defensive_rebound_percentage: 8.653408\n",
      "Feature8 defensive_rebounds: 50205.603009\n",
      "Feature9 defensive_win_shares: 36393.787549\n",
      "Feature10 effective_field_goal_percentage: 459.921565\n",
      "Feature11 field_goal_attempts: 821396.514586\n",
      "Feature12 field_goal_percentage: 323.280904\n",
      "Feature13 field_goals: 1080540.602962\n",
      "Feature14 free_throw_attempt_rate: 5.358348\n",
      "Feature15 free_throw_attempts: 78099.250652\n",
      "Feature16 free_throw_percentage: 1693.319992\n",
      "Feature17 free_throws: 89493.091876\n",
      "Feature18 games_played: 29035.041986\n",
      "Feature19 games_started: 61577.760988\n",
      "Feature20 height: 22.594292\n",
      "Feature21 minutes_played: 132019.016935\n",
      "Feature22 offensive_box_plus_minus: 545.242077\n",
      "Feature23 offensive_rebound_percentage: 74.127678\n",
      "Feature24 offensive_rebounds: 10461.486979\n",
      "Feature25 offensive_win_shares: 44939.445300\n",
      "Feature26 personal_fouls: 35494.905701\n",
      "Feature27 player_efficiency_rating: 847.326249\n",
      "Feature28 player_id: 6.771179\n",
      "Feature29 points_produced: 1558270.344391\n",
      "Feature30 position: 93.291741\n",
      "Feature31 steal_percentage: 15.316929\n",
      "Feature32 steals: 36110.809936\n",
      "Feature33 three_point_attempt_rate: 7.631507\n",
      "Feature34 three_point_attempts: 26128.613485\n",
      "Feature35 three_point_percentage: 835.930722\n",
      "Feature36 three_pointers: 22878.771622\n",
      "Feature37 total_rebound_percentage: 6.625960\n",
      "Feature38 total_rebounds: 35300.553221\n",
      "Feature39 true_shooting_percentage: 629.688348\n",
      "Feature40 turnover_percentage: 114.786283\n",
      "Feature41 turnovers: 71794.817994\n",
      "Feature42 two_point_attempts: 88705.978281\n",
      "Feature43 two_point_percentage: 295.307851\n",
      "Feature44 two_pointers: 66070.370467\n",
      "Feature45 usage_percentage: 831.812991\n",
      "Feature46 weight: 8.381671\n",
      "Feature47 win_shares: 77644.860259\n",
      "Feature48 win_shares_per_40_minutes: 579.408465\n",
      "Feature49 team_abbreviations: 13.157880\n"
     ]
    },
    {
     "data": {
      "application/vnd.plotly.v1+json": {
       "config": {
        "plotlyServerURL": "https://plot.ly"
       },
       "data": [
        {
         "alignmentgroup": "True",
         "hovertemplate": "x=%{x}<br>y=%{y}<extra></extra>",
         "legendgroup": "",
         "marker": {
          "color": "#636efa",
          "pattern": {
           "shape": ""
          }
         },
         "name": "",
         "offsetgroup": "",
         "orientation": "v",
         "showlegend": false,
         "textposition": "auto",
         "type": "bar",
         "x": [
          0,
          1,
          2,
          3,
          4,
          5,
          6,
          7,
          8,
          9,
          10,
          11,
          12,
          13,
          14,
          15,
          16,
          17,
          18,
          19,
          20,
          21,
          22,
          23,
          24,
          25,
          26,
          27,
          28,
          29,
          30,
          31,
          32,
          33,
          34,
          35,
          36,
          37,
          38,
          39,
          40,
          41,
          42,
          43,
          44,
          45,
          46,
          47,
          48,
          49
         ],
         "xaxis": "x",
         "y": [
          485.9489126401594,
          23948.132544874068,
          17.151015280925307,
          3806.2694412536407,
          316.735189217306,
          882.7830431499563,
          2.69001135112176,
          8.653408419084176,
          50205.6030091062,
          36393.78754860893,
          459.9215645903532,
          821396.5145861958,
          323.28090437448503,
          1080540.6029615437,
          5.358348218737339,
          78099.25065207761,
          1693.3199923998275,
          89493.09187634006,
          29035.041985724605,
          61577.76098848864,
          22.594291566093016,
          132019.01693527875,
          545.242076564027,
          74.1276782627087,
          10461.486979023928,
          44939.44530012008,
          35494.90570090758,
          847.3262489801405,
          6.771179325619907,
          1558270.344390577,
          93.29174059323068,
          15.316929162350643,
          36110.80993624812,
          7.631507176332968,
          26128.613485120874,
          835.9307221631244,
          22878.77162223501,
          6.625960078159887,
          35300.55322055851,
          629.688348321877,
          114.78628288468691,
          71794.81799408617,
          88705.97828082279,
          295.30785082959585,
          66070.37046689255,
          831.8129909412613,
          8.381670798153241,
          77644.86025877186,
          579.4084652753328,
          13.157879674586596
         ],
         "yaxis": "y"
        }
       ],
       "layout": {
        "barmode": "relative",
        "legend": {
         "tracegroupgap": 0
        },
        "margin": {
         "t": 60
        },
        "template": {
         "data": {
          "bar": [
           {
            "error_x": {
             "color": "#2a3f5f"
            },
            "error_y": {
             "color": "#2a3f5f"
            },
            "marker": {
             "line": {
              "color": "#E5ECF6",
              "width": 0.5
             },
             "pattern": {
              "fillmode": "overlay",
              "size": 10,
              "solidity": 0.2
             }
            },
            "type": "bar"
           }
          ],
          "barpolar": [
           {
            "marker": {
             "line": {
              "color": "#E5ECF6",
              "width": 0.5
             },
             "pattern": {
              "fillmode": "overlay",
              "size": 10,
              "solidity": 0.2
             }
            },
            "type": "barpolar"
           }
          ],
          "carpet": [
           {
            "aaxis": {
             "endlinecolor": "#2a3f5f",
             "gridcolor": "white",
             "linecolor": "white",
             "minorgridcolor": "white",
             "startlinecolor": "#2a3f5f"
            },
            "baxis": {
             "endlinecolor": "#2a3f5f",
             "gridcolor": "white",
             "linecolor": "white",
             "minorgridcolor": "white",
             "startlinecolor": "#2a3f5f"
            },
            "type": "carpet"
           }
          ],
          "choropleth": [
           {
            "colorbar": {
             "outlinewidth": 0,
             "ticks": ""
            },
            "type": "choropleth"
           }
          ],
          "contour": [
           {
            "colorbar": {
             "outlinewidth": 0,
             "ticks": ""
            },
            "colorscale": [
             [
              0,
              "#0d0887"
             ],
             [
              0.1111111111111111,
              "#46039f"
             ],
             [
              0.2222222222222222,
              "#7201a8"
             ],
             [
              0.3333333333333333,
              "#9c179e"
             ],
             [
              0.4444444444444444,
              "#bd3786"
             ],
             [
              0.5555555555555556,
              "#d8576b"
             ],
             [
              0.6666666666666666,
              "#ed7953"
             ],
             [
              0.7777777777777778,
              "#fb9f3a"
             ],
             [
              0.8888888888888888,
              "#fdca26"
             ],
             [
              1,
              "#f0f921"
             ]
            ],
            "type": "contour"
           }
          ],
          "contourcarpet": [
           {
            "colorbar": {
             "outlinewidth": 0,
             "ticks": ""
            },
            "type": "contourcarpet"
           }
          ],
          "heatmap": [
           {
            "colorbar": {
             "outlinewidth": 0,
             "ticks": ""
            },
            "colorscale": [
             [
              0,
              "#0d0887"
             ],
             [
              0.1111111111111111,
              "#46039f"
             ],
             [
              0.2222222222222222,
              "#7201a8"
             ],
             [
              0.3333333333333333,
              "#9c179e"
             ],
             [
              0.4444444444444444,
              "#bd3786"
             ],
             [
              0.5555555555555556,
              "#d8576b"
             ],
             [
              0.6666666666666666,
              "#ed7953"
             ],
             [
              0.7777777777777778,
              "#fb9f3a"
             ],
             [
              0.8888888888888888,
              "#fdca26"
             ],
             [
              1,
              "#f0f921"
             ]
            ],
            "type": "heatmap"
           }
          ],
          "heatmapgl": [
           {
            "colorbar": {
             "outlinewidth": 0,
             "ticks": ""
            },
            "colorscale": [
             [
              0,
              "#0d0887"
             ],
             [
              0.1111111111111111,
              "#46039f"
             ],
             [
              0.2222222222222222,
              "#7201a8"
             ],
             [
              0.3333333333333333,
              "#9c179e"
             ],
             [
              0.4444444444444444,
              "#bd3786"
             ],
             [
              0.5555555555555556,
              "#d8576b"
             ],
             [
              0.6666666666666666,
              "#ed7953"
             ],
             [
              0.7777777777777778,
              "#fb9f3a"
             ],
             [
              0.8888888888888888,
              "#fdca26"
             ],
             [
              1,
              "#f0f921"
             ]
            ],
            "type": "heatmapgl"
           }
          ],
          "histogram": [
           {
            "marker": {
             "pattern": {
              "fillmode": "overlay",
              "size": 10,
              "solidity": 0.2
             }
            },
            "type": "histogram"
           }
          ],
          "histogram2d": [
           {
            "colorbar": {
             "outlinewidth": 0,
             "ticks": ""
            },
            "colorscale": [
             [
              0,
              "#0d0887"
             ],
             [
              0.1111111111111111,
              "#46039f"
             ],
             [
              0.2222222222222222,
              "#7201a8"
             ],
             [
              0.3333333333333333,
              "#9c179e"
             ],
             [
              0.4444444444444444,
              "#bd3786"
             ],
             [
              0.5555555555555556,
              "#d8576b"
             ],
             [
              0.6666666666666666,
              "#ed7953"
             ],
             [
              0.7777777777777778,
              "#fb9f3a"
             ],
             [
              0.8888888888888888,
              "#fdca26"
             ],
             [
              1,
              "#f0f921"
             ]
            ],
            "type": "histogram2d"
           }
          ],
          "histogram2dcontour": [
           {
            "colorbar": {
             "outlinewidth": 0,
             "ticks": ""
            },
            "colorscale": [
             [
              0,
              "#0d0887"
             ],
             [
              0.1111111111111111,
              "#46039f"
             ],
             [
              0.2222222222222222,
              "#7201a8"
             ],
             [
              0.3333333333333333,
              "#9c179e"
             ],
             [
              0.4444444444444444,
              "#bd3786"
             ],
             [
              0.5555555555555556,
              "#d8576b"
             ],
             [
              0.6666666666666666,
              "#ed7953"
             ],
             [
              0.7777777777777778,
              "#fb9f3a"
             ],
             [
              0.8888888888888888,
              "#fdca26"
             ],
             [
              1,
              "#f0f921"
             ]
            ],
            "type": "histogram2dcontour"
           }
          ],
          "mesh3d": [
           {
            "colorbar": {
             "outlinewidth": 0,
             "ticks": ""
            },
            "type": "mesh3d"
           }
          ],
          "parcoords": [
           {
            "line": {
             "colorbar": {
              "outlinewidth": 0,
              "ticks": ""
             }
            },
            "type": "parcoords"
           }
          ],
          "pie": [
           {
            "automargin": true,
            "type": "pie"
           }
          ],
          "scatter": [
           {
            "fillpattern": {
             "fillmode": "overlay",
             "size": 10,
             "solidity": 0.2
            },
            "type": "scatter"
           }
          ],
          "scatter3d": [
           {
            "line": {
             "colorbar": {
              "outlinewidth": 0,
              "ticks": ""
             }
            },
            "marker": {
             "colorbar": {
              "outlinewidth": 0,
              "ticks": ""
             }
            },
            "type": "scatter3d"
           }
          ],
          "scattercarpet": [
           {
            "marker": {
             "colorbar": {
              "outlinewidth": 0,
              "ticks": ""
             }
            },
            "type": "scattercarpet"
           }
          ],
          "scattergeo": [
           {
            "marker": {
             "colorbar": {
              "outlinewidth": 0,
              "ticks": ""
             }
            },
            "type": "scattergeo"
           }
          ],
          "scattergl": [
           {
            "marker": {
             "colorbar": {
              "outlinewidth": 0,
              "ticks": ""
             }
            },
            "type": "scattergl"
           }
          ],
          "scattermapbox": [
           {
            "marker": {
             "colorbar": {
              "outlinewidth": 0,
              "ticks": ""
             }
            },
            "type": "scattermapbox"
           }
          ],
          "scatterpolar": [
           {
            "marker": {
             "colorbar": {
              "outlinewidth": 0,
              "ticks": ""
             }
            },
            "type": "scatterpolar"
           }
          ],
          "scatterpolargl": [
           {
            "marker": {
             "colorbar": {
              "outlinewidth": 0,
              "ticks": ""
             }
            },
            "type": "scatterpolargl"
           }
          ],
          "scatterternary": [
           {
            "marker": {
             "colorbar": {
              "outlinewidth": 0,
              "ticks": ""
             }
            },
            "type": "scatterternary"
           }
          ],
          "surface": [
           {
            "colorbar": {
             "outlinewidth": 0,
             "ticks": ""
            },
            "colorscale": [
             [
              0,
              "#0d0887"
             ],
             [
              0.1111111111111111,
              "#46039f"
             ],
             [
              0.2222222222222222,
              "#7201a8"
             ],
             [
              0.3333333333333333,
              "#9c179e"
             ],
             [
              0.4444444444444444,
              "#bd3786"
             ],
             [
              0.5555555555555556,
              "#d8576b"
             ],
             [
              0.6666666666666666,
              "#ed7953"
             ],
             [
              0.7777777777777778,
              "#fb9f3a"
             ],
             [
              0.8888888888888888,
              "#fdca26"
             ],
             [
              1,
              "#f0f921"
             ]
            ],
            "type": "surface"
           }
          ],
          "table": [
           {
            "cells": {
             "fill": {
              "color": "#EBF0F8"
             },
             "line": {
              "color": "white"
             }
            },
            "header": {
             "fill": {
              "color": "#C8D4E3"
             },
             "line": {
              "color": "white"
             }
            },
            "type": "table"
           }
          ]
         },
         "layout": {
          "annotationdefaults": {
           "arrowcolor": "#2a3f5f",
           "arrowhead": 0,
           "arrowwidth": 1
          },
          "autotypenumbers": "strict",
          "coloraxis": {
           "colorbar": {
            "outlinewidth": 0,
            "ticks": ""
           }
          },
          "colorscale": {
           "diverging": [
            [
             0,
             "#8e0152"
            ],
            [
             0.1,
             "#c51b7d"
            ],
            [
             0.2,
             "#de77ae"
            ],
            [
             0.3,
             "#f1b6da"
            ],
            [
             0.4,
             "#fde0ef"
            ],
            [
             0.5,
             "#f7f7f7"
            ],
            [
             0.6,
             "#e6f5d0"
            ],
            [
             0.7,
             "#b8e186"
            ],
            [
             0.8,
             "#7fbc41"
            ],
            [
             0.9,
             "#4d9221"
            ],
            [
             1,
             "#276419"
            ]
           ],
           "sequential": [
            [
             0,
             "#0d0887"
            ],
            [
             0.1111111111111111,
             "#46039f"
            ],
            [
             0.2222222222222222,
             "#7201a8"
            ],
            [
             0.3333333333333333,
             "#9c179e"
            ],
            [
             0.4444444444444444,
             "#bd3786"
            ],
            [
             0.5555555555555556,
             "#d8576b"
            ],
            [
             0.6666666666666666,
             "#ed7953"
            ],
            [
             0.7777777777777778,
             "#fb9f3a"
            ],
            [
             0.8888888888888888,
             "#fdca26"
            ],
            [
             1,
             "#f0f921"
            ]
           ],
           "sequentialminus": [
            [
             0,
             "#0d0887"
            ],
            [
             0.1111111111111111,
             "#46039f"
            ],
            [
             0.2222222222222222,
             "#7201a8"
            ],
            [
             0.3333333333333333,
             "#9c179e"
            ],
            [
             0.4444444444444444,
             "#bd3786"
            ],
            [
             0.5555555555555556,
             "#d8576b"
            ],
            [
             0.6666666666666666,
             "#ed7953"
            ],
            [
             0.7777777777777778,
             "#fb9f3a"
            ],
            [
             0.8888888888888888,
             "#fdca26"
            ],
            [
             1,
             "#f0f921"
            ]
           ]
          },
          "colorway": [
           "#636efa",
           "#EF553B",
           "#00cc96",
           "#ab63fa",
           "#FFA15A",
           "#19d3f3",
           "#FF6692",
           "#B6E880",
           "#FF97FF",
           "#FECB52"
          ],
          "font": {
           "color": "#2a3f5f"
          },
          "geo": {
           "bgcolor": "white",
           "lakecolor": "white",
           "landcolor": "#E5ECF6",
           "showlakes": true,
           "showland": true,
           "subunitcolor": "white"
          },
          "hoverlabel": {
           "align": "left"
          },
          "hovermode": "closest",
          "mapbox": {
           "style": "light"
          },
          "paper_bgcolor": "white",
          "plot_bgcolor": "#E5ECF6",
          "polar": {
           "angularaxis": {
            "gridcolor": "white",
            "linecolor": "white",
            "ticks": ""
           },
           "bgcolor": "#E5ECF6",
           "radialaxis": {
            "gridcolor": "white",
            "linecolor": "white",
            "ticks": ""
           }
          },
          "scene": {
           "xaxis": {
            "backgroundcolor": "#E5ECF6",
            "gridcolor": "white",
            "gridwidth": 2,
            "linecolor": "white",
            "showbackground": true,
            "ticks": "",
            "zerolinecolor": "white"
           },
           "yaxis": {
            "backgroundcolor": "#E5ECF6",
            "gridcolor": "white",
            "gridwidth": 2,
            "linecolor": "white",
            "showbackground": true,
            "ticks": "",
            "zerolinecolor": "white"
           },
           "zaxis": {
            "backgroundcolor": "#E5ECF6",
            "gridcolor": "white",
            "gridwidth": 2,
            "linecolor": "white",
            "showbackground": true,
            "ticks": "",
            "zerolinecolor": "white"
           }
          },
          "shapedefaults": {
           "line": {
            "color": "#2a3f5f"
           }
          },
          "ternary": {
           "aaxis": {
            "gridcolor": "white",
            "linecolor": "white",
            "ticks": ""
           },
           "baxis": {
            "gridcolor": "white",
            "linecolor": "white",
            "ticks": ""
           },
           "bgcolor": "#E5ECF6",
           "caxis": {
            "gridcolor": "white",
            "linecolor": "white",
            "ticks": ""
           }
          },
          "title": {
           "x": 0.05
          },
          "xaxis": {
           "automargin": true,
           "gridcolor": "white",
           "linecolor": "white",
           "ticks": "",
           "title": {
            "standoff": 15
           },
           "zerolinecolor": "white",
           "zerolinewidth": 2
          },
          "yaxis": {
           "automargin": true,
           "gridcolor": "white",
           "linecolor": "white",
           "ticks": "",
           "title": {
            "standoff": 15
           },
           "zerolinecolor": "white",
           "zerolinewidth": 2
          }
         }
        },
        "xaxis": {
         "anchor": "y",
         "domain": [
          0,
          1
         ],
         "title": {
          "text": "x"
         }
        },
        "yaxis": {
         "anchor": "x",
         "domain": [
          0,
          1
         ],
         "title": {
          "text": "y"
         }
        }
       }
      }
     },
     "metadata": {},
     "output_type": "display_data"
    }
   ],
   "source": [
    "from sklearn.model_selection import train_test_split\n",
    "from sklearn.feature_selection import SelectKBest,f_regression,mutual_info_regression\n",
    "from sklearn.linear_model import LinearRegression\n",
    "from sklearn.metrics import mean_absolute_error\n",
    "import plotly.express as plt\n",
    "\n",
    "y = player_df_n['points']\n",
    "X = player_df_n.drop(['year','points'],axis=1)\n",
    "\n",
    "X_train, X_test, y_train, y_test = train_test_split(X, y, test_size=0.33, random_state=0)\n",
    "\n",
    "print(X_train.shape,y_train.shape)\n",
    "print(X_test.shape,y_test.shape)\n",
    "\n",
    "def select_features(X_train,y_train,X_test):\n",
    "    #configure to select all features\n",
    "    fs = SelectKBest(score_func=f_regression,k='all')\n",
    "    #learn relationshiip from traing data\n",
    "    fs.fit(X_train,y_train)\n",
    "    #tranform train input data\n",
    "    X_train_fs = fs.transform(X_train)\n",
    "    #transform test input data\n",
    "    X_test_fs = fs.transform(X_test)\n",
    "    return X_train_fs,X_test_fs,fs\n",
    "\n",
    "#feature selection\n",
    "X_train_fs,X_test_fs,fs = select_features(X_train,y_train,X_test)\n",
    "\n",
    "\n",
    "#fit model\n",
    "model = LinearRegression()\n",
    "model.fit(X_train_fs,y_train)\n",
    "\n",
    "#evalue model\n",
    "y_predit = model.predict(X_test_fs)\n",
    "\n",
    "# evaluate predictions\n",
    "mae = mean_absolute_error(y_test, y_predit)\n",
    "print('MAE: %.3f' % mae)\n",
    "\n",
    "# what are scores for the features\n",
    "for i in range(len(fs.scores_)):\n",
    "\tprint('Feature%d %s: %f' % (i, fs.feature_names_in_[i], fs.scores_[i]))\n",
    "fig = plt.bar(x=[i for i in range(len(fs.scores_))],y=fs.scores_)\n",
    "fig.show()\n",
    "\n"
   ]
  },
  {
   "cell_type": "markdown",
   "metadata": {},
   "source": [
    "## Feature Selection without field goals,three pointers and two pointers"
   ]
  },
  {
   "cell_type": "code",
   "execution_count": 82,
   "metadata": {},
   "outputs": [
    {
     "name": "stdout",
     "output_type": "stream",
     "text": [
      "(12390, 47) (12390,)\n",
      "(6104, 47) (6104,)\n",
      "MAE: 0.000\n",
      "Feature0 assist_percentage: 485.948913\n",
      "Feature1 assists: 23948.132545\n",
      "Feature2 block_percentage: 17.151015\n",
      "Feature3 blocks: 3806.269441\n",
      "Feature4 box_plus_minus: 316.735189\n",
      "Feature5 conference: 882.783043\n",
      "Feature6 defensive_box_plus_minus: 2.690011\n",
      "Feature7 defensive_rebound_percentage: 8.653408\n",
      "Feature8 defensive_rebounds: 50205.603009\n",
      "Feature9 defensive_win_shares: 36393.787549\n",
      "Feature10 effective_field_goal_percentage: 459.921565\n",
      "Feature11 field_goal_percentage: 323.280904\n",
      "Feature12 free_throw_attempt_rate: 5.358348\n",
      "Feature13 free_throw_attempts: 78099.250652\n",
      "Feature14 free_throw_percentage: 1693.319992\n",
      "Feature15 free_throws: 89493.091876\n",
      "Feature16 games_played: 29035.041986\n",
      "Feature17 games_started: 61577.760988\n",
      "Feature18 height: 22.594292\n",
      "Feature19 minutes_played: 132019.016935\n",
      "Feature20 offensive_box_plus_minus: 545.242077\n",
      "Feature21 offensive_rebound_percentage: 74.127678\n",
      "Feature22 offensive_rebounds: 10461.486979\n",
      "Feature23 offensive_win_shares: 44939.445300\n",
      "Feature24 personal_fouls: 35494.905701\n",
      "Feature25 player_efficiency_rating: 847.326249\n",
      "Feature26 player_id: 6.771179\n",
      "Feature27 position: 93.291741\n",
      "Feature28 steal_percentage: 15.316929\n",
      "Feature29 steals: 36110.809936\n",
      "Feature30 three_point_attempt_rate: 7.631507\n",
      "Feature31 three_point_attempts: 26128.613485\n",
      "Feature32 three_point_percentage: 835.930722\n",
      "Feature33 three_pointers: 22878.771622\n",
      "Feature34 total_rebound_percentage: 6.625960\n",
      "Feature35 total_rebounds: 35300.553221\n",
      "Feature36 true_shooting_percentage: 629.688348\n",
      "Feature37 turnover_percentage: 114.786283\n",
      "Feature38 turnovers: 71794.817994\n",
      "Feature39 two_point_attempts: 88705.978281\n",
      "Feature40 two_point_percentage: 295.307851\n",
      "Feature41 two_pointers: 66070.370467\n",
      "Feature42 usage_percentage: 831.812991\n",
      "Feature43 weight: 8.381671\n",
      "Feature44 win_shares: 77644.860259\n",
      "Feature45 win_shares_per_40_minutes: 579.408465\n",
      "Feature46 team_abbreviations: 13.157880\n"
     ]
    },
    {
     "data": {
      "application/vnd.plotly.v1+json": {
       "config": {
        "plotlyServerURL": "https://plot.ly"
       },
       "data": [
        {
         "alignmentgroup": "True",
         "hovertemplate": "x=%{x}<br>y=%{y}<extra></extra>",
         "legendgroup": "",
         "marker": {
          "color": "#636efa",
          "pattern": {
           "shape": ""
          }
         },
         "name": "",
         "offsetgroup": "",
         "orientation": "v",
         "showlegend": false,
         "textposition": "auto",
         "type": "bar",
         "x": [
          0,
          1,
          2,
          3,
          4,
          5,
          6,
          7,
          8,
          9,
          10,
          11,
          12,
          13,
          14,
          15,
          16,
          17,
          18,
          19,
          20,
          21,
          22,
          23,
          24,
          25,
          26,
          27,
          28,
          29,
          30,
          31,
          32,
          33,
          34,
          35,
          36,
          37,
          38,
          39,
          40,
          41,
          42,
          43,
          44,
          45,
          46
         ],
         "xaxis": "x",
         "y": [
          485.9489126401594,
          23948.132544874068,
          17.151015280925307,
          3806.2694412536407,
          316.735189217306,
          882.7830431499563,
          2.690011351121769,
          8.653408419084176,
          50205.6030091062,
          36393.78754860893,
          459.921564590348,
          323.28090437448503,
          5.358348218737339,
          78099.25065207761,
          1693.3199923998275,
          89493.09187634006,
          29035.041985724605,
          61577.76098848864,
          22.594291566093016,
          132019.01693527875,
          545.242076564027,
          74.1276782627087,
          10461.486979023928,
          44939.44530012008,
          35494.90570090758,
          847.3262489801405,
          6.771179325619907,
          93.29174059322122,
          15.316929162350643,
          36110.80993624926,
          7.631507176332968,
          26128.613485120874,
          835.9307221631244,
          22878.771622234104,
          6.625960078159887,
          35300.553220556794,
          629.688348321877,
          114.78628288468691,
          71794.81799408617,
          88705.9782808259,
          295.30785082959585,
          66070.37046688334,
          831.8129909412613,
          8.381670798153241,
          77644.86025877186,
          579.4084652753344,
          13.157879674586596
         ],
         "yaxis": "y"
        }
       ],
       "layout": {
        "barmode": "relative",
        "legend": {
         "tracegroupgap": 0
        },
        "margin": {
         "t": 60
        },
        "template": {
         "data": {
          "bar": [
           {
            "error_x": {
             "color": "#2a3f5f"
            },
            "error_y": {
             "color": "#2a3f5f"
            },
            "marker": {
             "line": {
              "color": "#E5ECF6",
              "width": 0.5
             },
             "pattern": {
              "fillmode": "overlay",
              "size": 10,
              "solidity": 0.2
             }
            },
            "type": "bar"
           }
          ],
          "barpolar": [
           {
            "marker": {
             "line": {
              "color": "#E5ECF6",
              "width": 0.5
             },
             "pattern": {
              "fillmode": "overlay",
              "size": 10,
              "solidity": 0.2
             }
            },
            "type": "barpolar"
           }
          ],
          "carpet": [
           {
            "aaxis": {
             "endlinecolor": "#2a3f5f",
             "gridcolor": "white",
             "linecolor": "white",
             "minorgridcolor": "white",
             "startlinecolor": "#2a3f5f"
            },
            "baxis": {
             "endlinecolor": "#2a3f5f",
             "gridcolor": "white",
             "linecolor": "white",
             "minorgridcolor": "white",
             "startlinecolor": "#2a3f5f"
            },
            "type": "carpet"
           }
          ],
          "choropleth": [
           {
            "colorbar": {
             "outlinewidth": 0,
             "ticks": ""
            },
            "type": "choropleth"
           }
          ],
          "contour": [
           {
            "colorbar": {
             "outlinewidth": 0,
             "ticks": ""
            },
            "colorscale": [
             [
              0,
              "#0d0887"
             ],
             [
              0.1111111111111111,
              "#46039f"
             ],
             [
              0.2222222222222222,
              "#7201a8"
             ],
             [
              0.3333333333333333,
              "#9c179e"
             ],
             [
              0.4444444444444444,
              "#bd3786"
             ],
             [
              0.5555555555555556,
              "#d8576b"
             ],
             [
              0.6666666666666666,
              "#ed7953"
             ],
             [
              0.7777777777777778,
              "#fb9f3a"
             ],
             [
              0.8888888888888888,
              "#fdca26"
             ],
             [
              1,
              "#f0f921"
             ]
            ],
            "type": "contour"
           }
          ],
          "contourcarpet": [
           {
            "colorbar": {
             "outlinewidth": 0,
             "ticks": ""
            },
            "type": "contourcarpet"
           }
          ],
          "heatmap": [
           {
            "colorbar": {
             "outlinewidth": 0,
             "ticks": ""
            },
            "colorscale": [
             [
              0,
              "#0d0887"
             ],
             [
              0.1111111111111111,
              "#46039f"
             ],
             [
              0.2222222222222222,
              "#7201a8"
             ],
             [
              0.3333333333333333,
              "#9c179e"
             ],
             [
              0.4444444444444444,
              "#bd3786"
             ],
             [
              0.5555555555555556,
              "#d8576b"
             ],
             [
              0.6666666666666666,
              "#ed7953"
             ],
             [
              0.7777777777777778,
              "#fb9f3a"
             ],
             [
              0.8888888888888888,
              "#fdca26"
             ],
             [
              1,
              "#f0f921"
             ]
            ],
            "type": "heatmap"
           }
          ],
          "heatmapgl": [
           {
            "colorbar": {
             "outlinewidth": 0,
             "ticks": ""
            },
            "colorscale": [
             [
              0,
              "#0d0887"
             ],
             [
              0.1111111111111111,
              "#46039f"
             ],
             [
              0.2222222222222222,
              "#7201a8"
             ],
             [
              0.3333333333333333,
              "#9c179e"
             ],
             [
              0.4444444444444444,
              "#bd3786"
             ],
             [
              0.5555555555555556,
              "#d8576b"
             ],
             [
              0.6666666666666666,
              "#ed7953"
             ],
             [
              0.7777777777777778,
              "#fb9f3a"
             ],
             [
              0.8888888888888888,
              "#fdca26"
             ],
             [
              1,
              "#f0f921"
             ]
            ],
            "type": "heatmapgl"
           }
          ],
          "histogram": [
           {
            "marker": {
             "pattern": {
              "fillmode": "overlay",
              "size": 10,
              "solidity": 0.2
             }
            },
            "type": "histogram"
           }
          ],
          "histogram2d": [
           {
            "colorbar": {
             "outlinewidth": 0,
             "ticks": ""
            },
            "colorscale": [
             [
              0,
              "#0d0887"
             ],
             [
              0.1111111111111111,
              "#46039f"
             ],
             [
              0.2222222222222222,
              "#7201a8"
             ],
             [
              0.3333333333333333,
              "#9c179e"
             ],
             [
              0.4444444444444444,
              "#bd3786"
             ],
             [
              0.5555555555555556,
              "#d8576b"
             ],
             [
              0.6666666666666666,
              "#ed7953"
             ],
             [
              0.7777777777777778,
              "#fb9f3a"
             ],
             [
              0.8888888888888888,
              "#fdca26"
             ],
             [
              1,
              "#f0f921"
             ]
            ],
            "type": "histogram2d"
           }
          ],
          "histogram2dcontour": [
           {
            "colorbar": {
             "outlinewidth": 0,
             "ticks": ""
            },
            "colorscale": [
             [
              0,
              "#0d0887"
             ],
             [
              0.1111111111111111,
              "#46039f"
             ],
             [
              0.2222222222222222,
              "#7201a8"
             ],
             [
              0.3333333333333333,
              "#9c179e"
             ],
             [
              0.4444444444444444,
              "#bd3786"
             ],
             [
              0.5555555555555556,
              "#d8576b"
             ],
             [
              0.6666666666666666,
              "#ed7953"
             ],
             [
              0.7777777777777778,
              "#fb9f3a"
             ],
             [
              0.8888888888888888,
              "#fdca26"
             ],
             [
              1,
              "#f0f921"
             ]
            ],
            "type": "histogram2dcontour"
           }
          ],
          "mesh3d": [
           {
            "colorbar": {
             "outlinewidth": 0,
             "ticks": ""
            },
            "type": "mesh3d"
           }
          ],
          "parcoords": [
           {
            "line": {
             "colorbar": {
              "outlinewidth": 0,
              "ticks": ""
             }
            },
            "type": "parcoords"
           }
          ],
          "pie": [
           {
            "automargin": true,
            "type": "pie"
           }
          ],
          "scatter": [
           {
            "fillpattern": {
             "fillmode": "overlay",
             "size": 10,
             "solidity": 0.2
            },
            "type": "scatter"
           }
          ],
          "scatter3d": [
           {
            "line": {
             "colorbar": {
              "outlinewidth": 0,
              "ticks": ""
             }
            },
            "marker": {
             "colorbar": {
              "outlinewidth": 0,
              "ticks": ""
             }
            },
            "type": "scatter3d"
           }
          ],
          "scattercarpet": [
           {
            "marker": {
             "colorbar": {
              "outlinewidth": 0,
              "ticks": ""
             }
            },
            "type": "scattercarpet"
           }
          ],
          "scattergeo": [
           {
            "marker": {
             "colorbar": {
              "outlinewidth": 0,
              "ticks": ""
             }
            },
            "type": "scattergeo"
           }
          ],
          "scattergl": [
           {
            "marker": {
             "colorbar": {
              "outlinewidth": 0,
              "ticks": ""
             }
            },
            "type": "scattergl"
           }
          ],
          "scattermapbox": [
           {
            "marker": {
             "colorbar": {
              "outlinewidth": 0,
              "ticks": ""
             }
            },
            "type": "scattermapbox"
           }
          ],
          "scatterpolar": [
           {
            "marker": {
             "colorbar": {
              "outlinewidth": 0,
              "ticks": ""
             }
            },
            "type": "scatterpolar"
           }
          ],
          "scatterpolargl": [
           {
            "marker": {
             "colorbar": {
              "outlinewidth": 0,
              "ticks": ""
             }
            },
            "type": "scatterpolargl"
           }
          ],
          "scatterternary": [
           {
            "marker": {
             "colorbar": {
              "outlinewidth": 0,
              "ticks": ""
             }
            },
            "type": "scatterternary"
           }
          ],
          "surface": [
           {
            "colorbar": {
             "outlinewidth": 0,
             "ticks": ""
            },
            "colorscale": [
             [
              0,
              "#0d0887"
             ],
             [
              0.1111111111111111,
              "#46039f"
             ],
             [
              0.2222222222222222,
              "#7201a8"
             ],
             [
              0.3333333333333333,
              "#9c179e"
             ],
             [
              0.4444444444444444,
              "#bd3786"
             ],
             [
              0.5555555555555556,
              "#d8576b"
             ],
             [
              0.6666666666666666,
              "#ed7953"
             ],
             [
              0.7777777777777778,
              "#fb9f3a"
             ],
             [
              0.8888888888888888,
              "#fdca26"
             ],
             [
              1,
              "#f0f921"
             ]
            ],
            "type": "surface"
           }
          ],
          "table": [
           {
            "cells": {
             "fill": {
              "color": "#EBF0F8"
             },
             "line": {
              "color": "white"
             }
            },
            "header": {
             "fill": {
              "color": "#C8D4E3"
             },
             "line": {
              "color": "white"
             }
            },
            "type": "table"
           }
          ]
         },
         "layout": {
          "annotationdefaults": {
           "arrowcolor": "#2a3f5f",
           "arrowhead": 0,
           "arrowwidth": 1
          },
          "autotypenumbers": "strict",
          "coloraxis": {
           "colorbar": {
            "outlinewidth": 0,
            "ticks": ""
           }
          },
          "colorscale": {
           "diverging": [
            [
             0,
             "#8e0152"
            ],
            [
             0.1,
             "#c51b7d"
            ],
            [
             0.2,
             "#de77ae"
            ],
            [
             0.3,
             "#f1b6da"
            ],
            [
             0.4,
             "#fde0ef"
            ],
            [
             0.5,
             "#f7f7f7"
            ],
            [
             0.6,
             "#e6f5d0"
            ],
            [
             0.7,
             "#b8e186"
            ],
            [
             0.8,
             "#7fbc41"
            ],
            [
             0.9,
             "#4d9221"
            ],
            [
             1,
             "#276419"
            ]
           ],
           "sequential": [
            [
             0,
             "#0d0887"
            ],
            [
             0.1111111111111111,
             "#46039f"
            ],
            [
             0.2222222222222222,
             "#7201a8"
            ],
            [
             0.3333333333333333,
             "#9c179e"
            ],
            [
             0.4444444444444444,
             "#bd3786"
            ],
            [
             0.5555555555555556,
             "#d8576b"
            ],
            [
             0.6666666666666666,
             "#ed7953"
            ],
            [
             0.7777777777777778,
             "#fb9f3a"
            ],
            [
             0.8888888888888888,
             "#fdca26"
            ],
            [
             1,
             "#f0f921"
            ]
           ],
           "sequentialminus": [
            [
             0,
             "#0d0887"
            ],
            [
             0.1111111111111111,
             "#46039f"
            ],
            [
             0.2222222222222222,
             "#7201a8"
            ],
            [
             0.3333333333333333,
             "#9c179e"
            ],
            [
             0.4444444444444444,
             "#bd3786"
            ],
            [
             0.5555555555555556,
             "#d8576b"
            ],
            [
             0.6666666666666666,
             "#ed7953"
            ],
            [
             0.7777777777777778,
             "#fb9f3a"
            ],
            [
             0.8888888888888888,
             "#fdca26"
            ],
            [
             1,
             "#f0f921"
            ]
           ]
          },
          "colorway": [
           "#636efa",
           "#EF553B",
           "#00cc96",
           "#ab63fa",
           "#FFA15A",
           "#19d3f3",
           "#FF6692",
           "#B6E880",
           "#FF97FF",
           "#FECB52"
          ],
          "font": {
           "color": "#2a3f5f"
          },
          "geo": {
           "bgcolor": "white",
           "lakecolor": "white",
           "landcolor": "#E5ECF6",
           "showlakes": true,
           "showland": true,
           "subunitcolor": "white"
          },
          "hoverlabel": {
           "align": "left"
          },
          "hovermode": "closest",
          "mapbox": {
           "style": "light"
          },
          "paper_bgcolor": "white",
          "plot_bgcolor": "#E5ECF6",
          "polar": {
           "angularaxis": {
            "gridcolor": "white",
            "linecolor": "white",
            "ticks": ""
           },
           "bgcolor": "#E5ECF6",
           "radialaxis": {
            "gridcolor": "white",
            "linecolor": "white",
            "ticks": ""
           }
          },
          "scene": {
           "xaxis": {
            "backgroundcolor": "#E5ECF6",
            "gridcolor": "white",
            "gridwidth": 2,
            "linecolor": "white",
            "showbackground": true,
            "ticks": "",
            "zerolinecolor": "white"
           },
           "yaxis": {
            "backgroundcolor": "#E5ECF6",
            "gridcolor": "white",
            "gridwidth": 2,
            "linecolor": "white",
            "showbackground": true,
            "ticks": "",
            "zerolinecolor": "white"
           },
           "zaxis": {
            "backgroundcolor": "#E5ECF6",
            "gridcolor": "white",
            "gridwidth": 2,
            "linecolor": "white",
            "showbackground": true,
            "ticks": "",
            "zerolinecolor": "white"
           }
          },
          "shapedefaults": {
           "line": {
            "color": "#2a3f5f"
           }
          },
          "ternary": {
           "aaxis": {
            "gridcolor": "white",
            "linecolor": "white",
            "ticks": ""
           },
           "baxis": {
            "gridcolor": "white",
            "linecolor": "white",
            "ticks": ""
           },
           "bgcolor": "#E5ECF6",
           "caxis": {
            "gridcolor": "white",
            "linecolor": "white",
            "ticks": ""
           }
          },
          "title": {
           "x": 0.05
          },
          "xaxis": {
           "automargin": true,
           "gridcolor": "white",
           "linecolor": "white",
           "ticks": "",
           "title": {
            "standoff": 15
           },
           "zerolinecolor": "white",
           "zerolinewidth": 2
          },
          "yaxis": {
           "automargin": true,
           "gridcolor": "white",
           "linecolor": "white",
           "ticks": "",
           "title": {
            "standoff": 15
           },
           "zerolinecolor": "white",
           "zerolinewidth": 2
          }
         }
        },
        "xaxis": {
         "anchor": "y",
         "domain": [
          0,
          1
         ],
         "title": {
          "text": "x"
         }
        },
        "yaxis": {
         "anchor": "x",
         "domain": [
          0,
          1
         ],
         "title": {
          "text": "y"
         }
        }
       }
      }
     },
     "metadata": {},
     "output_type": "display_data"
    }
   ],
   "source": [
    "from sklearn.model_selection import train_test_split\n",
    "from sklearn.feature_selection import SelectKBest,f_regression,mutual_info_regression\n",
    "import plotly.express as plt\n",
    "from sklearn.linear_model import LinearRegression\n",
    "from sklearn.metrics import mean_absolute_error\n",
    "\n",
    "# df1 = player_df_n.loc[:,\"assist_percentage\":\"player_id\"] \n",
    "# df2 = player_df_n.loc[:,\"points_produced\":\"win_shares_per_40_minutes\"] \n",
    "y = player_df_n['points']\n",
    "X = player_df_n.drop(['year','points','field_goals','field_goal_attempts','points_produced'],axis=1)\n",
    "\n",
    "X_train, X_test, y_train, y_test = train_test_split(X, y, test_size=0.33, random_state=0)\n",
    "\n",
    "print(X_train.shape,y_train.shape)\n",
    "print(X_test.shape,y_test.shape)\n",
    "\n",
    "def select_features(X_train,y_train,X_test):\n",
    "    #configure to select all features\n",
    "    fs = SelectKBest(score_func=f_regression,k='all')\n",
    "    #learn relationshiip from traing data\n",
    "    fs.fit(X_train,y_train)\n",
    "    #tranform train input data\n",
    "    X_train_fs = fs.transform(X_train)\n",
    "    #transform test input data\n",
    "    X_test_fs = fs.transform(X_test)\n",
    "    return X_train_fs,X_test_fs,fs\n",
    "\n",
    "#feature selection\n",
    "X_train_fs,X_test_fs,fs = select_features(X_train,y_train,X_test)\n",
    "\n",
    "#fit model\n",
    "model = LinearRegression()\n",
    "model.fit(X_train_fs,y_train)\n",
    "\n",
    "#evalue model\n",
    "y_predit = model.predict(X_test_fs)\n",
    "\n",
    "# evaluate predictions\n",
    "mae = mean_absolute_error(y_test, y_predit)\n",
    "print('MAE: %.3f' % mae)\n",
    "\n",
    "# what are scores for the features\n",
    "for i in range(len(fs.scores_)):\n",
    "\tprint('Feature%d %s: %f' % (i, fs.feature_names_in_[i], fs.scores_[i]))\n",
    "fig = plt.bar(x=[i for i in range(len(fs.scores_))],y=fs.scores_)\n",
    "fig.show()"
   ]
  },
  {
   "cell_type": "code",
   "execution_count": 83,
   "metadata": {},
   "outputs": [
    {
     "name": "stdout",
     "output_type": "stream",
     "text": [
      "(12390, 43) (12390,)\n",
      "(6104, 43) (6104,)\n",
      "MAE: 7.980\n",
      "Feature0 assist_percentage: 485.948913\n",
      "Feature1 assists: 23948.132545\n",
      "Feature2 block_percentage: 17.151015\n",
      "Feature3 blocks: 3806.269441\n",
      "Feature4 box_plus_minus: 316.735189\n",
      "Feature5 conference: 882.783043\n",
      "Feature6 defensive_box_plus_minus: 2.690011\n",
      "Feature7 defensive_rebound_percentage: 8.653408\n",
      "Feature8 defensive_rebounds: 50205.603009\n",
      "Feature9 defensive_win_shares: 36393.787549\n",
      "Feature10 effective_field_goal_percentage: 459.921565\n",
      "Feature11 field_goal_percentage: 323.280904\n",
      "Feature12 free_throw_attempt_rate: 5.358348\n",
      "Feature13 free_throw_percentage: 1693.319992\n",
      "Feature14 games_played: 29035.041986\n",
      "Feature15 games_started: 61577.760988\n",
      "Feature16 height: 22.594292\n",
      "Feature17 offensive_box_plus_minus: 545.242077\n",
      "Feature18 offensive_rebound_percentage: 74.127678\n",
      "Feature19 offensive_rebounds: 10461.486979\n",
      "Feature20 offensive_win_shares: 44939.445300\n",
      "Feature21 personal_fouls: 35494.905701\n",
      "Feature22 player_efficiency_rating: 847.326249\n",
      "Feature23 player_id: 6.771179\n",
      "Feature24 position: 93.291741\n",
      "Feature25 steal_percentage: 15.316929\n",
      "Feature26 steals: 36110.809936\n",
      "Feature27 three_point_attempt_rate: 7.631507\n",
      "Feature28 three_point_attempts: 26128.613485\n",
      "Feature29 three_point_percentage: 835.930722\n",
      "Feature30 three_pointers: 22878.771622\n",
      "Feature31 total_rebound_percentage: 6.625960\n",
      "Feature32 total_rebounds: 35300.553221\n",
      "Feature33 true_shooting_percentage: 629.688348\n",
      "Feature34 turnover_percentage: 114.786283\n",
      "Feature35 turnovers: 71794.817994\n",
      "Feature36 two_point_percentage: 295.307851\n",
      "Feature37 two_pointers: 66070.370467\n",
      "Feature38 usage_percentage: 831.812991\n",
      "Feature39 weight: 8.381671\n",
      "Feature40 win_shares: 77644.860259\n",
      "Feature41 win_shares_per_40_minutes: 579.408465\n",
      "Feature42 team_abbreviations: 13.157880\n"
     ]
    },
    {
     "data": {
      "application/vnd.plotly.v1+json": {
       "config": {
        "plotlyServerURL": "https://plot.ly"
       },
       "data": [
        {
         "alignmentgroup": "True",
         "hovertemplate": "x=%{x}<br>y=%{y}<extra></extra>",
         "legendgroup": "",
         "marker": {
          "color": "#636efa",
          "pattern": {
           "shape": ""
          }
         },
         "name": "",
         "offsetgroup": "",
         "orientation": "v",
         "showlegend": false,
         "textposition": "auto",
         "type": "bar",
         "x": [
          0,
          1,
          2,
          3,
          4,
          5,
          6,
          7,
          8,
          9,
          10,
          11,
          12,
          13,
          14,
          15,
          16,
          17,
          18,
          19,
          20,
          21,
          22,
          23,
          24,
          25,
          26,
          27,
          28,
          29,
          30,
          31,
          32,
          33,
          34,
          35,
          36,
          37,
          38,
          39,
          40,
          41,
          42
         ],
         "xaxis": "x",
         "y": [
          485.9489126401594,
          23948.132544874068,
          17.151015280925307,
          3806.2694412536407,
          316.735189217306,
          882.7830431499563,
          2.690011351121769,
          8.653408419084176,
          50205.6030091062,
          36393.78754860893,
          459.921564590348,
          323.28090437448503,
          5.358348218737339,
          1693.3199923998275,
          29035.041985723543,
          61577.76098848658,
          22.594291566092092,
          545.2420765640251,
          74.1276782627087,
          10461.486979023735,
          44939.445300119405,
          35494.90570090758,
          847.3262489801506,
          6.771179325619907,
          93.29174059322122,
          15.316929162350593,
          36110.80993624812,
          7.63150717633296,
          26128.613485120874,
          835.9307221631244,
          22878.771622234104,
          6.625960078159826,
          35300.553220556794,
          629.688348321877,
          114.78628288468691,
          71794.81799408617,
          295.30785082959784,
          66070.37046688334,
          831.8129909412613,
          8.381670798153241,
          77644.86025877186,
          579.4084652753344,
          13.157879674586596
         ],
         "yaxis": "y"
        }
       ],
       "layout": {
        "barmode": "relative",
        "legend": {
         "tracegroupgap": 0
        },
        "margin": {
         "t": 60
        },
        "template": {
         "data": {
          "bar": [
           {
            "error_x": {
             "color": "#2a3f5f"
            },
            "error_y": {
             "color": "#2a3f5f"
            },
            "marker": {
             "line": {
              "color": "#E5ECF6",
              "width": 0.5
             },
             "pattern": {
              "fillmode": "overlay",
              "size": 10,
              "solidity": 0.2
             }
            },
            "type": "bar"
           }
          ],
          "barpolar": [
           {
            "marker": {
             "line": {
              "color": "#E5ECF6",
              "width": 0.5
             },
             "pattern": {
              "fillmode": "overlay",
              "size": 10,
              "solidity": 0.2
             }
            },
            "type": "barpolar"
           }
          ],
          "carpet": [
           {
            "aaxis": {
             "endlinecolor": "#2a3f5f",
             "gridcolor": "white",
             "linecolor": "white",
             "minorgridcolor": "white",
             "startlinecolor": "#2a3f5f"
            },
            "baxis": {
             "endlinecolor": "#2a3f5f",
             "gridcolor": "white",
             "linecolor": "white",
             "minorgridcolor": "white",
             "startlinecolor": "#2a3f5f"
            },
            "type": "carpet"
           }
          ],
          "choropleth": [
           {
            "colorbar": {
             "outlinewidth": 0,
             "ticks": ""
            },
            "type": "choropleth"
           }
          ],
          "contour": [
           {
            "colorbar": {
             "outlinewidth": 0,
             "ticks": ""
            },
            "colorscale": [
             [
              0,
              "#0d0887"
             ],
             [
              0.1111111111111111,
              "#46039f"
             ],
             [
              0.2222222222222222,
              "#7201a8"
             ],
             [
              0.3333333333333333,
              "#9c179e"
             ],
             [
              0.4444444444444444,
              "#bd3786"
             ],
             [
              0.5555555555555556,
              "#d8576b"
             ],
             [
              0.6666666666666666,
              "#ed7953"
             ],
             [
              0.7777777777777778,
              "#fb9f3a"
             ],
             [
              0.8888888888888888,
              "#fdca26"
             ],
             [
              1,
              "#f0f921"
             ]
            ],
            "type": "contour"
           }
          ],
          "contourcarpet": [
           {
            "colorbar": {
             "outlinewidth": 0,
             "ticks": ""
            },
            "type": "contourcarpet"
           }
          ],
          "heatmap": [
           {
            "colorbar": {
             "outlinewidth": 0,
             "ticks": ""
            },
            "colorscale": [
             [
              0,
              "#0d0887"
             ],
             [
              0.1111111111111111,
              "#46039f"
             ],
             [
              0.2222222222222222,
              "#7201a8"
             ],
             [
              0.3333333333333333,
              "#9c179e"
             ],
             [
              0.4444444444444444,
              "#bd3786"
             ],
             [
              0.5555555555555556,
              "#d8576b"
             ],
             [
              0.6666666666666666,
              "#ed7953"
             ],
             [
              0.7777777777777778,
              "#fb9f3a"
             ],
             [
              0.8888888888888888,
              "#fdca26"
             ],
             [
              1,
              "#f0f921"
             ]
            ],
            "type": "heatmap"
           }
          ],
          "heatmapgl": [
           {
            "colorbar": {
             "outlinewidth": 0,
             "ticks": ""
            },
            "colorscale": [
             [
              0,
              "#0d0887"
             ],
             [
              0.1111111111111111,
              "#46039f"
             ],
             [
              0.2222222222222222,
              "#7201a8"
             ],
             [
              0.3333333333333333,
              "#9c179e"
             ],
             [
              0.4444444444444444,
              "#bd3786"
             ],
             [
              0.5555555555555556,
              "#d8576b"
             ],
             [
              0.6666666666666666,
              "#ed7953"
             ],
             [
              0.7777777777777778,
              "#fb9f3a"
             ],
             [
              0.8888888888888888,
              "#fdca26"
             ],
             [
              1,
              "#f0f921"
             ]
            ],
            "type": "heatmapgl"
           }
          ],
          "histogram": [
           {
            "marker": {
             "pattern": {
              "fillmode": "overlay",
              "size": 10,
              "solidity": 0.2
             }
            },
            "type": "histogram"
           }
          ],
          "histogram2d": [
           {
            "colorbar": {
             "outlinewidth": 0,
             "ticks": ""
            },
            "colorscale": [
             [
              0,
              "#0d0887"
             ],
             [
              0.1111111111111111,
              "#46039f"
             ],
             [
              0.2222222222222222,
              "#7201a8"
             ],
             [
              0.3333333333333333,
              "#9c179e"
             ],
             [
              0.4444444444444444,
              "#bd3786"
             ],
             [
              0.5555555555555556,
              "#d8576b"
             ],
             [
              0.6666666666666666,
              "#ed7953"
             ],
             [
              0.7777777777777778,
              "#fb9f3a"
             ],
             [
              0.8888888888888888,
              "#fdca26"
             ],
             [
              1,
              "#f0f921"
             ]
            ],
            "type": "histogram2d"
           }
          ],
          "histogram2dcontour": [
           {
            "colorbar": {
             "outlinewidth": 0,
             "ticks": ""
            },
            "colorscale": [
             [
              0,
              "#0d0887"
             ],
             [
              0.1111111111111111,
              "#46039f"
             ],
             [
              0.2222222222222222,
              "#7201a8"
             ],
             [
              0.3333333333333333,
              "#9c179e"
             ],
             [
              0.4444444444444444,
              "#bd3786"
             ],
             [
              0.5555555555555556,
              "#d8576b"
             ],
             [
              0.6666666666666666,
              "#ed7953"
             ],
             [
              0.7777777777777778,
              "#fb9f3a"
             ],
             [
              0.8888888888888888,
              "#fdca26"
             ],
             [
              1,
              "#f0f921"
             ]
            ],
            "type": "histogram2dcontour"
           }
          ],
          "mesh3d": [
           {
            "colorbar": {
             "outlinewidth": 0,
             "ticks": ""
            },
            "type": "mesh3d"
           }
          ],
          "parcoords": [
           {
            "line": {
             "colorbar": {
              "outlinewidth": 0,
              "ticks": ""
             }
            },
            "type": "parcoords"
           }
          ],
          "pie": [
           {
            "automargin": true,
            "type": "pie"
           }
          ],
          "scatter": [
           {
            "fillpattern": {
             "fillmode": "overlay",
             "size": 10,
             "solidity": 0.2
            },
            "type": "scatter"
           }
          ],
          "scatter3d": [
           {
            "line": {
             "colorbar": {
              "outlinewidth": 0,
              "ticks": ""
             }
            },
            "marker": {
             "colorbar": {
              "outlinewidth": 0,
              "ticks": ""
             }
            },
            "type": "scatter3d"
           }
          ],
          "scattercarpet": [
           {
            "marker": {
             "colorbar": {
              "outlinewidth": 0,
              "ticks": ""
             }
            },
            "type": "scattercarpet"
           }
          ],
          "scattergeo": [
           {
            "marker": {
             "colorbar": {
              "outlinewidth": 0,
              "ticks": ""
             }
            },
            "type": "scattergeo"
           }
          ],
          "scattergl": [
           {
            "marker": {
             "colorbar": {
              "outlinewidth": 0,
              "ticks": ""
             }
            },
            "type": "scattergl"
           }
          ],
          "scattermapbox": [
           {
            "marker": {
             "colorbar": {
              "outlinewidth": 0,
              "ticks": ""
             }
            },
            "type": "scattermapbox"
           }
          ],
          "scatterpolar": [
           {
            "marker": {
             "colorbar": {
              "outlinewidth": 0,
              "ticks": ""
             }
            },
            "type": "scatterpolar"
           }
          ],
          "scatterpolargl": [
           {
            "marker": {
             "colorbar": {
              "outlinewidth": 0,
              "ticks": ""
             }
            },
            "type": "scatterpolargl"
           }
          ],
          "scatterternary": [
           {
            "marker": {
             "colorbar": {
              "outlinewidth": 0,
              "ticks": ""
             }
            },
            "type": "scatterternary"
           }
          ],
          "surface": [
           {
            "colorbar": {
             "outlinewidth": 0,
             "ticks": ""
            },
            "colorscale": [
             [
              0,
              "#0d0887"
             ],
             [
              0.1111111111111111,
              "#46039f"
             ],
             [
              0.2222222222222222,
              "#7201a8"
             ],
             [
              0.3333333333333333,
              "#9c179e"
             ],
             [
              0.4444444444444444,
              "#bd3786"
             ],
             [
              0.5555555555555556,
              "#d8576b"
             ],
             [
              0.6666666666666666,
              "#ed7953"
             ],
             [
              0.7777777777777778,
              "#fb9f3a"
             ],
             [
              0.8888888888888888,
              "#fdca26"
             ],
             [
              1,
              "#f0f921"
             ]
            ],
            "type": "surface"
           }
          ],
          "table": [
           {
            "cells": {
             "fill": {
              "color": "#EBF0F8"
             },
             "line": {
              "color": "white"
             }
            },
            "header": {
             "fill": {
              "color": "#C8D4E3"
             },
             "line": {
              "color": "white"
             }
            },
            "type": "table"
           }
          ]
         },
         "layout": {
          "annotationdefaults": {
           "arrowcolor": "#2a3f5f",
           "arrowhead": 0,
           "arrowwidth": 1
          },
          "autotypenumbers": "strict",
          "coloraxis": {
           "colorbar": {
            "outlinewidth": 0,
            "ticks": ""
           }
          },
          "colorscale": {
           "diverging": [
            [
             0,
             "#8e0152"
            ],
            [
             0.1,
             "#c51b7d"
            ],
            [
             0.2,
             "#de77ae"
            ],
            [
             0.3,
             "#f1b6da"
            ],
            [
             0.4,
             "#fde0ef"
            ],
            [
             0.5,
             "#f7f7f7"
            ],
            [
             0.6,
             "#e6f5d0"
            ],
            [
             0.7,
             "#b8e186"
            ],
            [
             0.8,
             "#7fbc41"
            ],
            [
             0.9,
             "#4d9221"
            ],
            [
             1,
             "#276419"
            ]
           ],
           "sequential": [
            [
             0,
             "#0d0887"
            ],
            [
             0.1111111111111111,
             "#46039f"
            ],
            [
             0.2222222222222222,
             "#7201a8"
            ],
            [
             0.3333333333333333,
             "#9c179e"
            ],
            [
             0.4444444444444444,
             "#bd3786"
            ],
            [
             0.5555555555555556,
             "#d8576b"
            ],
            [
             0.6666666666666666,
             "#ed7953"
            ],
            [
             0.7777777777777778,
             "#fb9f3a"
            ],
            [
             0.8888888888888888,
             "#fdca26"
            ],
            [
             1,
             "#f0f921"
            ]
           ],
           "sequentialminus": [
            [
             0,
             "#0d0887"
            ],
            [
             0.1111111111111111,
             "#46039f"
            ],
            [
             0.2222222222222222,
             "#7201a8"
            ],
            [
             0.3333333333333333,
             "#9c179e"
            ],
            [
             0.4444444444444444,
             "#bd3786"
            ],
            [
             0.5555555555555556,
             "#d8576b"
            ],
            [
             0.6666666666666666,
             "#ed7953"
            ],
            [
             0.7777777777777778,
             "#fb9f3a"
            ],
            [
             0.8888888888888888,
             "#fdca26"
            ],
            [
             1,
             "#f0f921"
            ]
           ]
          },
          "colorway": [
           "#636efa",
           "#EF553B",
           "#00cc96",
           "#ab63fa",
           "#FFA15A",
           "#19d3f3",
           "#FF6692",
           "#B6E880",
           "#FF97FF",
           "#FECB52"
          ],
          "font": {
           "color": "#2a3f5f"
          },
          "geo": {
           "bgcolor": "white",
           "lakecolor": "white",
           "landcolor": "#E5ECF6",
           "showlakes": true,
           "showland": true,
           "subunitcolor": "white"
          },
          "hoverlabel": {
           "align": "left"
          },
          "hovermode": "closest",
          "mapbox": {
           "style": "light"
          },
          "paper_bgcolor": "white",
          "plot_bgcolor": "#E5ECF6",
          "polar": {
           "angularaxis": {
            "gridcolor": "white",
            "linecolor": "white",
            "ticks": ""
           },
           "bgcolor": "#E5ECF6",
           "radialaxis": {
            "gridcolor": "white",
            "linecolor": "white",
            "ticks": ""
           }
          },
          "scene": {
           "xaxis": {
            "backgroundcolor": "#E5ECF6",
            "gridcolor": "white",
            "gridwidth": 2,
            "linecolor": "white",
            "showbackground": true,
            "ticks": "",
            "zerolinecolor": "white"
           },
           "yaxis": {
            "backgroundcolor": "#E5ECF6",
            "gridcolor": "white",
            "gridwidth": 2,
            "linecolor": "white",
            "showbackground": true,
            "ticks": "",
            "zerolinecolor": "white"
           },
           "zaxis": {
            "backgroundcolor": "#E5ECF6",
            "gridcolor": "white",
            "gridwidth": 2,
            "linecolor": "white",
            "showbackground": true,
            "ticks": "",
            "zerolinecolor": "white"
           }
          },
          "shapedefaults": {
           "line": {
            "color": "#2a3f5f"
           }
          },
          "ternary": {
           "aaxis": {
            "gridcolor": "white",
            "linecolor": "white",
            "ticks": ""
           },
           "baxis": {
            "gridcolor": "white",
            "linecolor": "white",
            "ticks": ""
           },
           "bgcolor": "#E5ECF6",
           "caxis": {
            "gridcolor": "white",
            "linecolor": "white",
            "ticks": ""
           }
          },
          "title": {
           "x": 0.05
          },
          "xaxis": {
           "automargin": true,
           "gridcolor": "white",
           "linecolor": "white",
           "ticks": "",
           "title": {
            "standoff": 15
           },
           "zerolinecolor": "white",
           "zerolinewidth": 2
          },
          "yaxis": {
           "automargin": true,
           "gridcolor": "white",
           "linecolor": "white",
           "ticks": "",
           "title": {
            "standoff": 15
           },
           "zerolinecolor": "white",
           "zerolinewidth": 2
          }
         }
        },
        "xaxis": {
         "anchor": "y",
         "domain": [
          0,
          1
         ],
         "title": {
          "text": "x"
         }
        },
        "yaxis": {
         "anchor": "x",
         "domain": [
          0,
          1
         ],
         "title": {
          "text": "y"
         }
        }
       }
      }
     },
     "metadata": {},
     "output_type": "display_data"
    }
   ],
   "source": [
    "from sklearn.model_selection import train_test_split\n",
    "from sklearn.feature_selection import SelectKBest,f_regression,mutual_info_regression\n",
    "import plotly.express as plt\n",
    "from sklearn.linear_model import LinearRegression\n",
    "from sklearn.metrics import mean_absolute_error\n",
    "\n",
    "# df1 = player_df_n.loc[:,\"assist_percentage\":\"player_id\"] \n",
    "# df2 = player_df_n.loc[:,\"points_produced\":\"win_shares_per_40_minutes\"] \n",
    "y = player_df_n['points']\n",
    "X = player_df_n.drop(['year','points','field_goals','field_goal_attempts','points_produced','minutes_played','free_throws','free_throw_attempts','two_point_attempts'],axis=1)\n",
    "\n",
    "X_train, X_test, y_train, y_test = train_test_split(X, y, test_size=0.33, random_state=0)\n",
    "\n",
    "print(X_train.shape,y_train.shape)\n",
    "print(X_test.shape,y_test.shape)\n",
    "\n",
    "def select_features(X_train,y_train,X_test):\n",
    "    #configure to select all features\n",
    "    fs = SelectKBest(score_func=f_regression,k='all')\n",
    "    #learn relationshiip from traing data\n",
    "    fs.fit(X_train,y_train)\n",
    "    #tranform train input data\n",
    "    X_train_fs = fs.transform(X_train)\n",
    "    #transform test input data\n",
    "    X_test_fs = fs.transform(X_test)\n",
    "    return X_train_fs,X_test_fs,fs\n",
    "\n",
    "#feature selection\n",
    "X_train_fs,X_test_fs,fs = select_features(X_train,y_train,X_test)\n",
    "\n",
    "\n",
    "#fit model\n",
    "model = LinearRegression()\n",
    "model.fit(X_train_fs,y_train)\n",
    "\n",
    "#evalue model\n",
    "y_predit = model.predict(X_test_fs)\n",
    "\n",
    "# evaluate predictions\n",
    "mae = mean_absolute_error(y_test, y_predit)\n",
    "print('MAE: %.3f' % mae)\n",
    "\n",
    "# what are scores for the features\n",
    "for i in range(len(fs.scores_)):\n",
    "\tprint('Feature%d %s: %f' % (i, fs.feature_names_in_[i], fs.scores_[i]))\n",
    "fig = plt.bar(x=[i for i in range(len(fs.scores_))],y=fs.scores_)\n",
    "fig.show()"
   ]
  },
  {
   "cell_type": "markdown",
   "metadata": {},
   "source": [
    "## Random forest regressor"
   ]
  },
  {
   "cell_type": "code",
   "execution_count": 84,
   "metadata": {},
   "outputs": [
    {
     "name": "stderr",
     "output_type": "stream",
     "text": [
      "/var/folders/f8/3kz66kvx6199cq46wkf9vz1m0000gn/T/ipykernel_6181/4017369844.py:20: DataConversionWarning:\n",
      "\n",
      "A column-vector y was passed when a 1d array was expected. Please change the shape of y to (n_samples,), for example using ravel().\n",
      "\n"
     ]
    },
    {
     "data": {
      "text/html": [
       "<div>\n",
       "<style scoped>\n",
       "    .dataframe tbody tr th:only-of-type {\n",
       "        vertical-align: middle;\n",
       "    }\n",
       "\n",
       "    .dataframe tbody tr th {\n",
       "        vertical-align: top;\n",
       "    }\n",
       "\n",
       "    .dataframe thead th {\n",
       "        text-align: right;\n",
       "    }\n",
       "</style>\n",
       "<table border=\"1\" class=\"dataframe\">\n",
       "  <thead>\n",
       "    <tr style=\"text-align: right;\">\n",
       "      <th></th>\n",
       "      <th>feature</th>\n",
       "      <th>weight</th>\n",
       "    </tr>\n",
       "  </thead>\n",
       "  <tbody>\n",
       "    <tr>\n",
       "      <th>0</th>\n",
       "      <td>position</td>\n",
       "      <td>0.000002</td>\n",
       "    </tr>\n",
       "    <tr>\n",
       "      <th>1</th>\n",
       "      <td>conference</td>\n",
       "      <td>0.000009</td>\n",
       "    </tr>\n",
       "    <tr>\n",
       "      <th>2</th>\n",
       "      <td>height</td>\n",
       "      <td>0.000027</td>\n",
       "    </tr>\n",
       "    <tr>\n",
       "      <th>3</th>\n",
       "      <td>weight</td>\n",
       "      <td>0.000030</td>\n",
       "    </tr>\n",
       "    <tr>\n",
       "      <th>4</th>\n",
       "      <td>block_percentage</td>\n",
       "      <td>0.000030</td>\n",
       "    </tr>\n",
       "    <tr>\n",
       "      <th>5</th>\n",
       "      <td>field_goal_percentage</td>\n",
       "      <td>0.000034</td>\n",
       "    </tr>\n",
       "    <tr>\n",
       "      <th>6</th>\n",
       "      <td>steal_percentage</td>\n",
       "      <td>0.000035</td>\n",
       "    </tr>\n",
       "    <tr>\n",
       "      <th>7</th>\n",
       "      <td>blocks</td>\n",
       "      <td>0.000036</td>\n",
       "    </tr>\n",
       "    <tr>\n",
       "      <th>8</th>\n",
       "      <td>box_plus_minus</td>\n",
       "      <td>0.000037</td>\n",
       "    </tr>\n",
       "    <tr>\n",
       "      <th>9</th>\n",
       "      <td>defensive_rebounds</td>\n",
       "      <td>0.000039</td>\n",
       "    </tr>\n",
       "    <tr>\n",
       "      <th>10</th>\n",
       "      <td>total_rebound_percentage</td>\n",
       "      <td>0.000041</td>\n",
       "    </tr>\n",
       "    <tr>\n",
       "      <th>11</th>\n",
       "      <td>games_started</td>\n",
       "      <td>0.000042</td>\n",
       "    </tr>\n",
       "    <tr>\n",
       "      <th>12</th>\n",
       "      <td>two_point_percentage</td>\n",
       "      <td>0.000042</td>\n",
       "    </tr>\n",
       "    <tr>\n",
       "      <th>13</th>\n",
       "      <td>personal_fouls</td>\n",
       "      <td>0.000044</td>\n",
       "    </tr>\n",
       "    <tr>\n",
       "      <th>14</th>\n",
       "      <td>two_point_attempts</td>\n",
       "      <td>0.000044</td>\n",
       "    </tr>\n",
       "    <tr>\n",
       "      <th>15</th>\n",
       "      <td>two_pointers</td>\n",
       "      <td>0.000047</td>\n",
       "    </tr>\n",
       "    <tr>\n",
       "      <th>16</th>\n",
       "      <td>defensive_rebound_percentage</td>\n",
       "      <td>0.000049</td>\n",
       "    </tr>\n",
       "    <tr>\n",
       "      <th>17</th>\n",
       "      <td>defensive_box_plus_minus</td>\n",
       "      <td>0.000050</td>\n",
       "    </tr>\n",
       "    <tr>\n",
       "      <th>18</th>\n",
       "      <td>team_abbreviations</td>\n",
       "      <td>0.000052</td>\n",
       "    </tr>\n",
       "    <tr>\n",
       "      <th>19</th>\n",
       "      <td>steals</td>\n",
       "      <td>0.000053</td>\n",
       "    </tr>\n",
       "    <tr>\n",
       "      <th>20</th>\n",
       "      <td>minutes_played</td>\n",
       "      <td>0.000053</td>\n",
       "    </tr>\n",
       "    <tr>\n",
       "      <th>21</th>\n",
       "      <td>games_played</td>\n",
       "      <td>0.000054</td>\n",
       "    </tr>\n",
       "    <tr>\n",
       "      <th>22</th>\n",
       "      <td>offensive_rebound_percentage</td>\n",
       "      <td>0.000056</td>\n",
       "    </tr>\n",
       "    <tr>\n",
       "      <th>23</th>\n",
       "      <td>turnovers</td>\n",
       "      <td>0.000057</td>\n",
       "    </tr>\n",
       "    <tr>\n",
       "      <th>24</th>\n",
       "      <td>win_shares_per_40_minutes</td>\n",
       "      <td>0.000059</td>\n",
       "    </tr>\n",
       "    <tr>\n",
       "      <th>25</th>\n",
       "      <td>effective_field_goal_percentage</td>\n",
       "      <td>0.000060</td>\n",
       "    </tr>\n",
       "    <tr>\n",
       "      <th>26</th>\n",
       "      <td>three_point_attempt_rate</td>\n",
       "      <td>0.000067</td>\n",
       "    </tr>\n",
       "    <tr>\n",
       "      <th>27</th>\n",
       "      <td>free_throw_attempt_rate</td>\n",
       "      <td>0.000068</td>\n",
       "    </tr>\n",
       "    <tr>\n",
       "      <th>28</th>\n",
       "      <td>total_rebounds</td>\n",
       "      <td>0.000070</td>\n",
       "    </tr>\n",
       "    <tr>\n",
       "      <th>29</th>\n",
       "      <td>defensive_win_shares</td>\n",
       "      <td>0.000073</td>\n",
       "    </tr>\n",
       "    <tr>\n",
       "      <th>30</th>\n",
       "      <td>free_throw_attempts</td>\n",
       "      <td>0.000076</td>\n",
       "    </tr>\n",
       "    <tr>\n",
       "      <th>31</th>\n",
       "      <td>win_shares</td>\n",
       "      <td>0.000077</td>\n",
       "    </tr>\n",
       "    <tr>\n",
       "      <th>32</th>\n",
       "      <td>usage_percentage</td>\n",
       "      <td>0.000089</td>\n",
       "    </tr>\n",
       "    <tr>\n",
       "      <th>33</th>\n",
       "      <td>player_id</td>\n",
       "      <td>0.000092</td>\n",
       "    </tr>\n",
       "    <tr>\n",
       "      <th>34</th>\n",
       "      <td>offensive_rebounds</td>\n",
       "      <td>0.000096</td>\n",
       "    </tr>\n",
       "    <tr>\n",
       "      <th>35</th>\n",
       "      <td>offensive_box_plus_minus</td>\n",
       "      <td>0.000105</td>\n",
       "    </tr>\n",
       "    <tr>\n",
       "      <th>36</th>\n",
       "      <td>three_point_percentage</td>\n",
       "      <td>0.000107</td>\n",
       "    </tr>\n",
       "    <tr>\n",
       "      <th>37</th>\n",
       "      <td>offensive_win_shares</td>\n",
       "      <td>0.000108</td>\n",
       "    </tr>\n",
       "    <tr>\n",
       "      <th>38</th>\n",
       "      <td>player_efficiency_rating</td>\n",
       "      <td>0.000115</td>\n",
       "    </tr>\n",
       "    <tr>\n",
       "      <th>39</th>\n",
       "      <td>assist_percentage</td>\n",
       "      <td>0.000138</td>\n",
       "    </tr>\n",
       "    <tr>\n",
       "      <th>40</th>\n",
       "      <td>free_throw_percentage</td>\n",
       "      <td>0.000148</td>\n",
       "    </tr>\n",
       "    <tr>\n",
       "      <th>41</th>\n",
       "      <td>three_point_attempts</td>\n",
       "      <td>0.000203</td>\n",
       "    </tr>\n",
       "    <tr>\n",
       "      <th>42</th>\n",
       "      <td>true_shooting_percentage</td>\n",
       "      <td>0.000221</td>\n",
       "    </tr>\n",
       "    <tr>\n",
       "      <th>43</th>\n",
       "      <td>turnover_percentage</td>\n",
       "      <td>0.000295</td>\n",
       "    </tr>\n",
       "    <tr>\n",
       "      <th>44</th>\n",
       "      <td>free_throws</td>\n",
       "      <td>0.000396</td>\n",
       "    </tr>\n",
       "    <tr>\n",
       "      <th>45</th>\n",
       "      <td>assists</td>\n",
       "      <td>0.000583</td>\n",
       "    </tr>\n",
       "    <tr>\n",
       "      <th>46</th>\n",
       "      <td>three_pointers</td>\n",
       "      <td>0.000600</td>\n",
       "    </tr>\n",
       "    <tr>\n",
       "      <th>47</th>\n",
       "      <td>field_goal_attempts</td>\n",
       "      <td>0.010284</td>\n",
       "    </tr>\n",
       "    <tr>\n",
       "      <th>48</th>\n",
       "      <td>field_goals</td>\n",
       "      <td>0.037332</td>\n",
       "    </tr>\n",
       "    <tr>\n",
       "      <th>49</th>\n",
       "      <td>points_produced</td>\n",
       "      <td>0.947572</td>\n",
       "    </tr>\n",
       "  </tbody>\n",
       "</table>\n",
       "</div>"
      ],
      "text/plain": [
       "                            feature    weight\n",
       "0                          position  0.000002\n",
       "1                        conference  0.000009\n",
       "2                            height  0.000027\n",
       "3                            weight  0.000030\n",
       "4                  block_percentage  0.000030\n",
       "5             field_goal_percentage  0.000034\n",
       "6                  steal_percentage  0.000035\n",
       "7                            blocks  0.000036\n",
       "8                    box_plus_minus  0.000037\n",
       "9                defensive_rebounds  0.000039\n",
       "10         total_rebound_percentage  0.000041\n",
       "11                    games_started  0.000042\n",
       "12             two_point_percentage  0.000042\n",
       "13                   personal_fouls  0.000044\n",
       "14               two_point_attempts  0.000044\n",
       "15                     two_pointers  0.000047\n",
       "16     defensive_rebound_percentage  0.000049\n",
       "17         defensive_box_plus_minus  0.000050\n",
       "18               team_abbreviations  0.000052\n",
       "19                           steals  0.000053\n",
       "20                   minutes_played  0.000053\n",
       "21                     games_played  0.000054\n",
       "22     offensive_rebound_percentage  0.000056\n",
       "23                        turnovers  0.000057\n",
       "24        win_shares_per_40_minutes  0.000059\n",
       "25  effective_field_goal_percentage  0.000060\n",
       "26         three_point_attempt_rate  0.000067\n",
       "27          free_throw_attempt_rate  0.000068\n",
       "28                   total_rebounds  0.000070\n",
       "29             defensive_win_shares  0.000073\n",
       "30              free_throw_attempts  0.000076\n",
       "31                       win_shares  0.000077\n",
       "32                 usage_percentage  0.000089\n",
       "33                        player_id  0.000092\n",
       "34               offensive_rebounds  0.000096\n",
       "35         offensive_box_plus_minus  0.000105\n",
       "36           three_point_percentage  0.000107\n",
       "37             offensive_win_shares  0.000108\n",
       "38         player_efficiency_rating  0.000115\n",
       "39                assist_percentage  0.000138\n",
       "40            free_throw_percentage  0.000148\n",
       "41             three_point_attempts  0.000203\n",
       "42         true_shooting_percentage  0.000221\n",
       "43              turnover_percentage  0.000295\n",
       "44                      free_throws  0.000396\n",
       "45                          assists  0.000583\n",
       "46                   three_pointers  0.000600\n",
       "47              field_goal_attempts  0.010284\n",
       "48                      field_goals  0.037332\n",
       "49                  points_produced  0.947572"
      ]
     },
     "execution_count": 84,
     "metadata": {},
     "output_type": "execute_result"
    }
   ],
   "source": [
    "from sklearn.ensemble import RandomForestRegressor\n",
    "from sklearn.model_selection import train_test_split\n",
    "from sklearn.preprocessing import StandardScaler\n",
    "import pandas as pd\n",
    "\n",
    "y = player_df_n['points']\n",
    "X = player_df_n.drop(['year','points'],axis=1)\n",
    "\n",
    "X_train,X_test,y_train,y_test = train_test_split(X,y,test_size=0.3,random_state=1)\n",
    "\n",
    "#scale train and test with standardscaler\n",
    "X_train_std = StandardScaler().fit_transform(X_train)\n",
    "X_test_std = StandardScaler().fit_transform(X_test)\n",
    "\n",
    "#fit the dimension of the target array\n",
    "y_train = y_train.values.reshape(-1,1)\n",
    "y_test = y_test.values.reshape(-1,1)\n",
    "\n",
    "forest = RandomForestRegressor()\n",
    "forest.fit(X_train_std,y_train)\n",
    "forest.score(X_test_std,y_test)\n",
    "\n",
    "#feature importance\n",
    "pd.DataFrame(zip(X_train.columns,abs(forest.feature_importances_)),columns=[\"feature\",\"weight\"]).sort_values(\"weight\").reset_index(drop=True)\n"
   ]
  },
  {
   "cell_type": "markdown",
   "metadata": {},
   "source": [
    "## Recursive Selection"
   ]
  },
  {
   "cell_type": "code",
   "execution_count": 85,
   "metadata": {},
   "outputs": [
    {
     "name": "stderr",
     "output_type": "stream",
     "text": [
      "/usr/local/lib/python3.9/site-packages/sklearn/feature_selection/_rfe.py:283: DataConversionWarning:\n",
      "\n",
      "A column-vector y was passed when a 1d array was expected. Please change the shape of y to (n_samples,), for example using ravel().\n",
      "\n",
      "/usr/local/lib/python3.9/site-packages/sklearn/feature_selection/_rfe.py:283: DataConversionWarning:\n",
      "\n",
      "A column-vector y was passed when a 1d array was expected. Please change the shape of y to (n_samples,), for example using ravel().\n",
      "\n",
      "/usr/local/lib/python3.9/site-packages/sklearn/feature_selection/_rfe.py:283: DataConversionWarning:\n",
      "\n",
      "A column-vector y was passed when a 1d array was expected. Please change the shape of y to (n_samples,), for example using ravel().\n",
      "\n",
      "/usr/local/lib/python3.9/site-packages/sklearn/feature_selection/_rfe.py:283: DataConversionWarning:\n",
      "\n",
      "A column-vector y was passed when a 1d array was expected. Please change the shape of y to (n_samples,), for example using ravel().\n",
      "\n",
      "/usr/local/lib/python3.9/site-packages/sklearn/feature_selection/_rfe.py:283: DataConversionWarning:\n",
      "\n",
      "A column-vector y was passed when a 1d array was expected. Please change the shape of y to (n_samples,), for example using ravel().\n",
      "\n",
      "/usr/local/lib/python3.9/site-packages/sklearn/feature_selection/_rfe.py:310: DataConversionWarning:\n",
      "\n",
      "A column-vector y was passed when a 1d array was expected. Please change the shape of y to (n_samples,), for example using ravel().\n",
      "\n"
     ]
    },
    {
     "name": "stdout",
     "output_type": "stream",
     "text": [
      "Index(['assist_percentage', 'assists', 'effective_field_goal_percentage',\n",
      "       'field_goal_attempts', 'field_goals', 'free_throw_attempts',\n",
      "       'free_throw_percentage', 'free_throws', 'offensive_box_plus_minus',\n",
      "       'offensive_rebound_percentage', 'offensive_rebounds',\n",
      "       'offensive_win_shares', 'player_efficiency_rating', 'player_id',\n",
      "       'points_produced', 'three_point_attempt_rate', 'three_point_attempts',\n",
      "       'three_point_percentage', 'three_pointers', 'total_rebounds',\n",
      "       'true_shooting_percentage', 'turnover_percentage', 'usage_percentage',\n",
      "       'win_shares', 'win_shares_per_40_minutes'],\n",
      "      dtype='object')\n"
     ]
    }
   ],
   "source": [
    "from sklearn.feature_selection import RFE\n",
    "\n",
    "#init the tranformer\n",
    "#rfe = RFE(estimator=RandomForestRegressor(),n_features_to_select=10,step=5)\n",
    "\n",
    "rfe = RFE(estimator=RandomForestRegressor(),step=5)\n",
    "rfe.fit(X_train_std,y_train)\n",
    "print(X_train.columns[rfe.support_])\n",
    "# X_train.loc[:,rfe.support_]"
   ]
  },
  {
   "cell_type": "markdown",
   "metadata": {},
   "source": [
    "## RFE with cross validation"
   ]
  },
  {
   "cell_type": "code",
   "execution_count": 86,
   "metadata": {},
   "outputs": [
    {
     "name": "stdout",
     "output_type": "stream",
     "text": [
      "Traing R-sqaured: 1.0\n",
      "Testing R-sqaured: 0.9998345809452621\n"
     ]
    }
   ],
   "source": [
    "from sklearn.feature_selection import RFECV\n",
    "from sklearn.linear_model import LinearRegression\n",
    "\n",
    "rfecv = RFECV(estimator=LinearRegression(),min_features_to_select=5,step=5,n_jobs=-1,scoring=\"r2\",cv=5)\n",
    "_ = rfecv.fit(X_train_std,y_train)\n",
    "\n",
    "X_train.columns[rfecv.support_]\n",
    "\n",
    "lr = LinearRegression()\n",
    "_ = lr.fit(X_train_std,y_train)\n",
    "\n",
    "print(\"Traing R-sqaured:\",lr.score(X_train_std,y_train))\n",
    "print(\"Testing R-sqaured:\",lr.score(X_test_std,y_test))"
   ]
  },
  {
   "cell_type": "code",
   "execution_count": null,
   "metadata": {},
   "outputs": [],
   "source": []
  }
 ],
 "metadata": {
  "interpreter": {
   "hash": "aee8b7b246df8f9039afb4144a1f6fd8d2ca17a180786b69acc140d282b71a49"
  },
  "kernelspec": {
   "display_name": "Python 3 (ipykernel)",
   "language": "python",
   "name": "python3"
  },
  "language_info": {
   "codemirror_mode": {
    "name": "ipython",
    "version": 3
   },
   "file_extension": ".py",
   "mimetype": "text/x-python",
   "name": "python",
   "nbconvert_exporter": "python",
   "pygments_lexer": "ipython3",
   "version": "3.9.12"
  }
 },
 "nbformat": 4,
 "nbformat_minor": 2
}
